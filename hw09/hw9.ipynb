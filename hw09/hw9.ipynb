{
 "cells": [
  {
   "cell_type": "markdown",
   "metadata": {},
   "source": [
    "## Homework 9\n",
    "\n",
    "*Jackson Rudoff*\n",
    "\n",
    "**November 15, 2022**"
   ]
  },
  {
   "cell_type": "markdown",
   "metadata": {},
   "source": [
    "Read in the packages I'll need..."
   ]
  },
  {
   "cell_type": "code",
   "execution_count": 37,
   "metadata": {},
   "outputs": [],
   "source": [
    "import pandas as pd\n",
    "import lxml\n",
    "import requests\n",
    "import re\n",
    "from bs4 import BeautifulSoup\n"
   ]
  },
  {
   "cell_type": "markdown",
   "metadata": {},
   "source": [
    "### Question 1"
   ]
  },
  {
   "cell_type": "markdown",
   "metadata": {},
   "source": [
    "For this one, I'm gonna just use the built-in Pandas function."
   ]
  },
  {
   "cell_type": "code",
   "execution_count": 2,
   "metadata": {},
   "outputs": [
    {
     "data": {
      "text/plain": [
       "[                    Mitch McConnell  \\\n",
       " 0           Official portrait, 2016   \n",
       " 1                               NaN   \n",
       " 2            Senate Minority Leader   \n",
       " 3                         Incumbent   \n",
       " 4   Assumed office January 20, 2021   \n",
       " ..                              ...   \n",
       " 56                       Allegiance   \n",
       " 57                   Branch/service   \n",
       " 58                 Years of service   \n",
       " 59                             Unit   \n",
       " 60                              NaN   \n",
       " \n",
       "                                     Mitch McConnell.1  \n",
       " 0                             Official portrait, 2016  \n",
       " 1                                                 NaN  \n",
       " 2                              Senate Minority Leader  \n",
       " 3                                           Incumbent  \n",
       " 4                     Assumed office January 20, 2021  \n",
       " ..                                                ...  \n",
       " 56                                      United States  \n",
       " 57                                 United States Army  \n",
       " 58  July 9, 1967, to August 15, 1967 (37 days) (me...  \n",
       " 59                         United States Army Reserve  \n",
       " 60                                                NaN  \n",
       " \n",
       " [61 rows x 2 columns],\n",
       "   This article is part of a series aboutMitch McConnell  \\\n",
       " 0                                                NaN      \n",
       " 1  Early life Political positions Electoral histo...      \n",
       " 2  .mw-parser-output .navbar{display:inline;font-...      \n",
       " \n",
       "                                           Unnamed: 1  \n",
       " 0  This article is part of a series aboutMitch Mc...  \n",
       " 1                                                NaN  \n",
       " 2                                                NaN  ,\n",
       "     0                                                  1\n",
       " 0 NaN  This article is part of a series aboutMitch Mc...,\n",
       "       Year   Office     Type Party                          Main opponent  \\\n",
       "       Year   Office     Type Party     Party.1              Main opponent   \n",
       " 0   1984.0  Senator  Primary   NaN  Republican            C. Roger Harker   \n",
       " 1   1984.0  Senator  General   NaN  Republican  Walter Dee Huddleston (I)   \n",
       " 2   1990.0  Senator  Primary   NaN  Republican                Tommy Klein   \n",
       " 3   1990.0  Senator  General   NaN  Republican           Harvey I. Sloane   \n",
       " 4   1996.0  Senator  Primary   NaN  Republican                Tommy Klein   \n",
       " 5   1996.0  Senator  General   NaN  Republican              Steve Beshear   \n",
       " 6   2002.0  Senator  General   NaN  Republican        Lois Combs Weinberg   \n",
       " 7   2008.0  Senator  Primary   NaN  Republican               Daniel Essek   \n",
       " 8   2008.0  Senator  General   NaN  Republican             Bruce Lunsford   \n",
       " 9   2014.0  Senator  Primary   NaN  Republican                 Matt Bevin   \n",
       " 10  2014.0  Senator  General   NaN  Republican    Alison Lundergan Grimes   \n",
       " 11  2020.0  Senator  Primary   NaN  Republican              Wesley Morgan   \n",
       " 12  2020.0  Senator  General   NaN  Republican                Amy McGrath   \n",
       " 13     NaN      NaN      NaN   NaN         NaN                        NaN   \n",
       " \n",
       "      Party             Votes for McConnell                       Result Swing  \\\n",
       "    Party.2     Party.3               Total       %   P.       ±% Result Swing   \n",
       " 0      NaN  Republican             39465.0  79.22%  1st      NaN    Won   NaN   \n",
       " 1      NaN  Democratic            644990.0  49.90%  1st  +13.03%    Won   NaN   \n",
       " 2      NaN  Republican             64063.0  88.52%  1st   +9.30%    Won   NaN   \n",
       " 3      NaN  Democratic            478034.0  52.19%  1st   +2.28%    Won   NaN   \n",
       " 4      NaN  Republican             88620.0  88.59%  1st   +0.07%    Won   NaN   \n",
       " 5      NaN  Democratic            724794.0  55.45%  1st   +3.27%    Won   NaN   \n",
       " 6      NaN  Democratic            731679.0  64.68%  1st   +9.22%    Won   NaN   \n",
       " 7      NaN  Republican            168127.0  86.09%  1st   -2.50%    Won   NaN   \n",
       " 8      NaN  Democratic            953816.0  52.97%  1st   -11.7%    Won   NaN   \n",
       " 9      NaN  Republican            213753.0  60.19%  1st   -25.9%    Won   NaN   \n",
       " 10     NaN  Democratic            806787.0  56.19%  1st   +3.22%    Won   NaN   \n",
       " 11     NaN  Republican            342660.0  82.80%  1st   +22.61    Won   NaN   \n",
       " 12     NaN  Democratic           1233315.0  57.76%  1st   +1.57%    Won   NaN   \n",
       " 13     NaN         NaN                 NaN     NaN  NaN      NaN    NaN   NaN   \n",
       " \n",
       "             \n",
       "    Swing.1  \n",
       " 0      NaN  \n",
       " 1     Gain  \n",
       " 2      NaN  \n",
       " 3     Hold  \n",
       " 4      NaN  \n",
       " 5     Hold  \n",
       " 6     Hold  \n",
       " 7      NaN  \n",
       " 8     Hold  \n",
       " 9      NaN  \n",
       " 10    Hold  \n",
       " 11     NaN  \n",
       " 12    Hold  \n",
       " 13     NaN  ,\n",
       "                                         Legal offices  \\\n",
       " 0                        Preceded byVincent Rakestraw   \n",
       " 1                      Preceded byTodd Hollenbach Sr.   \n",
       " 2                             Party political offices   \n",
       " 3                   Preceded byLouie R. Guenthner Jr.   \n",
       " 4                               Preceded byAl D'Amato   \n",
       " 5                              Preceded byDon Nickles   \n",
       " 6                               Preceded byBill Frist   \n",
       " 7                                         U.S. Senate   \n",
       " 8                        Preceded byWalter Huddleston   \n",
       " 9                            Preceded byWarren Rudman   \n",
       " 10                           Preceded byRichard Bryan   \n",
       " 11                             Preceded byJohn Warner   \n",
       " 12                             Preceded byJohn Warner   \n",
       " 13                              Preceded byChris Dodd   \n",
       " 14                              Preceded byHarry Reid   \n",
       " 15                              Preceded byHarry Reid   \n",
       " 16                              Preceded byHarry Reid   \n",
       " 17                           Preceded byChuck Schumer   \n",
       " 18              U.S. order of precedence (ceremonial)   \n",
       " 19  Preceded byChuck Schumeras Senate Majority Leader   \n",
       " 20                          Preceded byChuck Grassley   \n",
       " \n",
       "                                       Legal offices.1  \\\n",
       " 0   Assistant Attorney General for the Office of L...   \n",
       " 1       Judge-Executive of Jefferson County 1978–1984   \n",
       " 2                             Party political offices   \n",
       " 3   Republican nominee for U.S. Senator from Kentu...   \n",
       " 4   Chair of the National Republican Senatorial Co...   \n",
       " 5                    Senate Republican Whip 2003–2007   \n",
       " 6               Senate Republican Leader 2007–present   \n",
       " 7                                         U.S. Senate   \n",
       " 8   U.S. Senator (Class 2) from Kentucky 1985–pres...   \n",
       " 9   Ranking Member of the Senate Ethics Committee ...   \n",
       " 10     Chair of the Senate Ethics Committee 1995–1997   \n",
       " 11      Chair of the Senate Rules Committee 1999–2001   \n",
       " 12  Chair of the Joint Inaugural Ceremonies Commit...   \n",
       " 13  Ranking Member of the Senate Rules Committee 2...   \n",
       " 14                     Senate Majority Whip 2003–2007   \n",
       " 15                   Senate Minority Leader 2007–2015   \n",
       " 16                   Senate Majority Leader 2015–2021   \n",
       " 17                Senate Minority Leader 2021–present   \n",
       " 18              U.S. order of precedence (ceremonial)   \n",
       " 19  Order of precedence of the United Statesas Sen...   \n",
       " 20            United States senators by seniority 3rd   \n",
       " \n",
       "                                    Legal offices.2  \n",
       " 0                      Succeeded byMichael Uhlmann  \n",
       " 1                        Succeeded byBremer Ehrler  \n",
       " 2                          Party political offices  \n",
       " 3                                      Most recent  \n",
       " 4                           Succeeded byBill Frist  \n",
       " 5                           Succeeded byTrent Lott  \n",
       " 6                                        Incumbent  \n",
       " 7                                      U.S. Senate  \n",
       " 8                                        Incumbent  \n",
       " 9                        Succeeded byRichard Bryan  \n",
       " 10                           Succeeded byBob Smith  \n",
       " 11                          Succeeded byChris Dodd  \n",
       " 12                          Succeeded byTrent Lott  \n",
       " 13                          Succeeded byChris Dodd  \n",
       " 14                         Succeeded byDick Durbin  \n",
       " 15                          Succeeded byHarry Reid  \n",
       " 16                       Succeeded byChuck Schumer  \n",
       " 17                                       Incumbent  \n",
       " 18           U.S. order of precedence (ceremonial)  \n",
       " 19  Succeeded byDick Durbinas Senate Majority Whip  \n",
       " 20                      Succeeded byRichard Shelby  ,\n",
       "                             Links to related articles  \\\n",
       " 0   vteRepublican Party History National Union Par...   \n",
       " 1                                 vteRepublican Party   \n",
       " 2   History National Union Party Third Party Syste...   \n",
       " 3           Presidentialticketsandnationalconventions   \n",
       " 4                         Presidentialadministrations   \n",
       " ..                                                ...   \n",
       " 77                                              113th   \n",
       " 78                                              114th   \n",
       " 79                                              115th   \n",
       " 80                                              116th   \n",
       " 81                                              117th   \n",
       " \n",
       "                           Links to related articles.1  \\\n",
       " 0   vteRepublican Party History National Union Par...   \n",
       " 1                                 vteRepublican Party   \n",
       " 2   History National Union Party Third Party Syste...   \n",
       " 3   1856 (Philadelphia): Frémont/Dayton 1860 (Chic...   \n",
       " 4   Lincoln (1861–1865) Johnson (1865–1868) Grant ...   \n",
       " ..                                                ...   \n",
       " 77           Senate: ▌M. McConnell (R) · ▌R. Paul (R)   \n",
       " 78           Senate: ▌M. McConnell (R) · ▌R. Paul (R)   \n",
       " 79           Senate: ▌M. McConnell (R) · ▌R. Paul (R)   \n",
       " 80           Senate: ▌M. McConnell (R) · ▌R. Paul (R)   \n",
       " 81           Senate: ▌M. McConnell (R) · ▌R. Paul (R)   \n",
       " \n",
       "                                            Unnamed: 2  \n",
       " 0                                                 NaN  \n",
       " 1                                                 NaN  \n",
       " 2                                                 NaN  \n",
       " 3                                                 NaN  \n",
       " 4                                                 NaN  \n",
       " ..                                                ...  \n",
       " 77  House: ▌H. Rogers (R) ▌E. Whitfield (R) ▌J. Ya...  \n",
       " 78  House: ▌H. Rogers (R) ▌E. Whitfield (R) ▌J. Ya...  \n",
       " 79  House: ▌H. Rogers (R) ▌J. Yarmuth (D) ▌B. Guth...  \n",
       " 80  House: ▌H. Rogers (R) ▌J. Yarmuth (D) ▌B. Guth...  \n",
       " 81  House: ▌H. Rogers (R) ▌J. Yarmuth (D) ▌B. Guth...  \n",
       " \n",
       " [82 rows x 3 columns],\n",
       "                                   vteRepublican Party  \\\n",
       " 0   History National Union Party Third Party Syste...   \n",
       " 1           Presidentialticketsandnationalconventions   \n",
       " 2                         Presidentialadministrations   \n",
       " 3               U.S. Senateleadersandconferencechairs   \n",
       " 4                U.S. Houseleadersandconferencechairs   \n",
       " 5                                                 RNC   \n",
       " 6                                              Chairs   \n",
       " 7                                     Chair elections   \n",
       " 8                        Parties bystate andterritory   \n",
       " 9                                               State   \n",
       " 10                                          Territory   \n",
       " 11                           Affiliated organizations   \n",
       " 12                                  Fundraisinggroups   \n",
       " 13                                    Sectionalgroups   \n",
       " 14                                    Factionalgroups   \n",
       " 15                                            Related   \n",
       " \n",
       "                                 vteRepublican Party.1  \n",
       " 0   History National Union Party Third Party Syste...  \n",
       " 1   1856 (Philadelphia): Frémont/Dayton 1860 (Chic...  \n",
       " 2   Lincoln (1861–1865) Johnson (1865–1868) Grant ...  \n",
       " 3   J. P. Hale (1859–1862) Anthony (1862–1884) She...  \n",
       " 4   Pennington (1860–1861) Grow (1861–1863) Colfax...  \n",
       " 5   Chairs Morgan Raymond Ward Claflin Morgan Chan...  \n",
       " 6   Morgan Raymond Ward Claflin Morgan Chandler Ca...  \n",
       " 7                            2009 2011 2013 2015 2017  \n",
       " 8   State Alabama Alaska Arizona Arkansas Californ...  \n",
       " 9   Alabama Alaska Arizona Arkansas California Col...  \n",
       " 10  American Samoa District of Columbia Guam North...  \n",
       " 11  Fundraisinggroups National Republican Congress...  \n",
       " 12  National Republican Congressional Committee Na...  \n",
       " 13  College Republicans Chairmen Congressional His...  \n",
       " 14  Republican Main Street Partnership Republican ...  \n",
       " 15  Primaries Debates Bibliography International D...  ,\n",
       "                  0                                                  1\n",
       " 0           Chairs  Morgan Raymond Ward Claflin Morgan Chandler Ca...\n",
       " 1  Chair elections                           2009 2011 2013 2015 2017,\n",
       "            0                                                  1\n",
       " 0      State  Alabama Alaska Arizona Arkansas California Col...\n",
       " 1  Territory  American Samoa District of Columbia Guam North...,\n",
       "                    0                                                  1\n",
       " 0  Fundraisinggroups  National Republican Congressional Committee Na...\n",
       " 1    Sectionalgroups  College Republicans Chairmen Congressional His...\n",
       " 2    Factionalgroups  Republican Main Street Partnership Republican ...,\n",
       "   vteStatewide elected officials and legislative leaders of Kentucky  \\\n",
       " 0                                      U.S. senators                   \n",
       " 1                                   State government                   \n",
       " 2                                             Senate                   \n",
       " 3                                              House                   \n",
       " 4                                      Supreme Court                   \n",
       " \n",
       "   vteStatewide elected officials and legislative leaders of Kentucky.1  \\\n",
       " 0                          Mitch McConnell Rand Paul                     \n",
       " 1  Andy Beshear, Governor Jacqueline Coleman, Lie...                     \n",
       " 2  Robert Stivers, President David P. Givens, Pre...                     \n",
       " 3  David Osborne, Speaker David Meade, Speaker pr...                     \n",
       " 4  John Minton, Chief Justice Lisabeth T. Hughes,...                     \n",
       " \n",
       "    vteStatewide elected officials and legislative leaders of Kentucky.2  \n",
       " 0                                                NaN                     \n",
       " 1                                                NaN                     \n",
       " 2                                                NaN                     \n",
       " 3                                                NaN                     \n",
       " 4                                                NaN                     ,\n",
       "   vteKentucky's current delegation to the United States Congress  \\\n",
       " 0                                           Senators               \n",
       " 1  Representatives .mw-parser-output .nobold{font...               \n",
       " \n",
       "   vteKentucky's current delegation to the United States Congress.1  \n",
       " 0                ▌Mitch McConnell (R) ▌Rand Paul (R)                \n",
       " 1  ▌James Comer (R) ▌Brett Guthrie (R) ▌John Yarm...                ,\n",
       "                    vteCurrent United States senators  \\\n",
       " 0  President: ▌ Kamala Harris (D) ‧ President pro...   \n",
       " 1  .mw-parser-output .div-col{margin-top:0.3em;co...   \n",
       " 2  ▌ Republican: 50 ▌ Democratic: 48 ▌ Independen...   \n",
       " \n",
       "                  vteCurrent United States senators.1  \\\n",
       " 0  President: ▌ Kamala Harris (D) ‧ President pro...   \n",
       " 1  .mw-parser-output .div-col{margin-top:0.3em;co...   \n",
       " 2  ▌ Republican: 50 ▌ Democratic: 48 ▌ Independen...   \n",
       " \n",
       "                  vteCurrent United States senators.2  \n",
       " 0  President: ▌ Kamala Harris (D) ‧ President pro...  \n",
       " 1                                                NaN  \n",
       " 2  ▌ Republican: 50 ▌ Democratic: 48 ▌ Independen...  ,\n",
       "            vteLeadership of the United States Senate  \\\n",
       " 0  President: Kamala Harris (D) President pro tem...   \n",
       " 1  Majority (Democratic)Minority (Republican) Chu...   \n",
       " 2                              Majority (Democratic)   \n",
       " 3  Chuck Schumer (Leader and Caucus Chair) Dick D...   \n",
       " \n",
       "          vteLeadership of the United States Senate.1  \n",
       " 0  President: Kamala Harris (D) President pro tem...  \n",
       " 1  Majority (Democratic)Minority (Republican) Chu...  \n",
       " 2                              Minority (Republican)  \n",
       " 3  Mitch McConnell (Leader) John Thune (Whip) Joh...  ,\n",
       "                                                    0  \\\n",
       " 0                              Majority (Democratic)   \n",
       " 1  Chuck Schumer (Leader and Caucus Chair) Dick D...   \n",
       " \n",
       "                                                    1  \n",
       " 0                              Minority (Republican)  \n",
       " 1  Mitch McConnell (Leader) John Thune (Whip) Joh...  ,\n",
       "   vteUnited States senators from Kentucky  \\\n",
       " 0                                 Class 2   \n",
       " 1                                 Class 3   \n",
       " \n",
       "            vteUnited States senators from Kentucky.1  \\\n",
       " 0  Brown Thruston Clay Bibb Walker Barry Hardin C...   \n",
       " 1  Edwards Marshall J. Breckinridge Adair Clay Po...   \n",
       " \n",
       "    vteUnited States senators from Kentucky.2  \n",
       " 0                                        NaN  \n",
       " 1                                        NaN  ,\n",
       "   vteChairmen of the National Republican Senatorial Committee  \\\n",
       " 0  Poindexter McCormick Moses Phipps Metcalf Mose...            \n",
       " \n",
       "   vteChairmen of the National Republican Senatorial Committee.1  \n",
       " 0  Poindexter McCormick Moses Phipps Metcalf Mose...             ,\n",
       "   vteChairs of the United States Senate Committee on Rules and Administration  \\\n",
       " 0                                   Rules(1870–1947)                            \n",
       " 1             Rules and Administration(1947–present)                            \n",
       " \n",
       "   vteChairs of the United States Senate Committee on Rules and Administration.1  \\\n",
       " 0  Ferry Blaine Morgan Frye Aldrich Blackburn Ald...                              \n",
       " 1  Brooks Hayden Jenner Green Hennings Mansfield ...                              \n",
       " \n",
       "    vteChairs of the United States Senate Committee on Rules and Administration.2  \n",
       " 0                                                NaN                              \n",
       " 1                                                NaN                              ,\n",
       "   vteChairs of the United States Congress Joint Committee on Inaugural Ceremonies  \\\n",
       " 0  Mark Hanna (1901) John Coit Spooner (1905) Phi...                                \n",
       " \n",
       "   vteChairs of the United States Congress Joint Committee on Inaugural Ceremonies.1  \n",
       " 0  Mark Hanna (1901) John Coit Spooner (1905) Phi...                                 ,\n",
       "   vteRepublican Party whips in the United States Senate  \\\n",
       " 0  Wadsworth Curtis Jones Fess Hebert (vacant; 19...      \n",
       " \n",
       "   vteRepublican Party whips in the United States Senate.1  \\\n",
       " 0  Wadsworth Curtis Jones Fess Hebert (vacant; 19...        \n",
       " \n",
       "    vteRepublican Party whips in the United States Senate.2  \n",
       " 0                                                NaN        ,\n",
       "               vteUnited States Senate majority whips  \\\n",
       " 0  Lewis Curtis Jones Fess Lewis Minton Hill Wher...   \n",
       " \n",
       "             vteUnited States Senate majority whips.1  \\\n",
       " 0  Lewis Curtis Jones Fess Lewis Minton Hill Wher...   \n",
       " \n",
       "    vteUnited States Senate majority whips.2  \n",
       " 0                                       NaN  ,\n",
       "   vteRepublican Party leaders in the United States Senate  \\\n",
       " 0  Lodge Curtis Watson McNary Austin McNary White...        \n",
       " \n",
       "   vteRepublican Party leaders in the United States Senate.1  \\\n",
       " 0  Lodge Curtis Watson McNary Austin McNary White...          \n",
       " \n",
       "    vteRepublican Party leaders in the United States Senate.2  \n",
       " 0                                                NaN          ,\n",
       "             vteUnited States Senate minority leaders  \\\n",
       " 0  Underwood Robinson McNary Austin McNary White ...   \n",
       " \n",
       "           vteUnited States Senate minority leaders.1  \\\n",
       " 0  Underwood Robinson McNary Austin McNary White ...   \n",
       " \n",
       "    vteUnited States Senate minority leaders.2  \n",
       " 0                                         NaN  ,\n",
       "             vteUnited States Senate majority leaders  \\\n",
       " 0  Lodge Curtis Watson Robinson Barkley White Luc...   \n",
       " \n",
       "           vteUnited States Senate majority leaders.1  \\\n",
       " 0  Lodge Curtis Watson Robinson Barkley White Luc...   \n",
       " \n",
       "    vteUnited States Senate majority leaders.2  \n",
       " 0                                         NaN  ,\n",
       "                    vteFloor leaders of state senates  \\\n",
       " 0  United States Senate: ▌Chuck Schumer (D) / ▌Mi...   \n",
       " 1                                    Majorityleaders   \n",
       " 2                                    Minorityleaders   \n",
       " 3                                   *Unicameral body   \n",
       " \n",
       "                  vteFloor leaders of state senates.1  \n",
       " 0  United States Senate: ▌Chuck Schumer (D) / ▌Mi...  \n",
       " 1  AL: ▌Scofield (R) AK: ▌Hughes (R) AZ: ▌Gray (R...  \n",
       " 2  AL: ▌Singleton (D) AK: ▌Begich (D) AZ: ▌Rios (...  \n",
       " 3                                   *Unicameral body  ,\n",
       "    vteKentucky's delegation(s) to the 99th–present United States Congresses (ordered by seniority)  \\\n",
       " 0   99th Senate: ▌W. Ford (D) · ▌M. McConnell (R) ...                                                \n",
       " 1                                                99th                                                \n",
       " 2                                               100th                                                \n",
       " 3                                               101st                                                \n",
       " 4                                               102nd                                                \n",
       " 5                                               103rd                                                \n",
       " 6                                               104th                                                \n",
       " 7                                               105th                                                \n",
       " 8                                               106th                                                \n",
       " 9                                               107th                                                \n",
       " 10                                              108th                                                \n",
       " 11                                              109th                                                \n",
       " 12                                              110th                                                \n",
       " 13                                              111th                                                \n",
       " 14                                              112th                                                \n",
       " 15                                              113th                                                \n",
       " 16                                              114th                                                \n",
       " 17                                              115th                                                \n",
       " 18                                              116th                                                \n",
       " 19                                              117th                                                \n",
       " \n",
       "    vteKentucky's delegation(s) to the 99th–present United States Congresses (ordered by seniority).1  \\\n",
       " 0   99th Senate: ▌W. Ford (D) · ▌M. McConnell (R) ...                                                  \n",
       " 1            Senate: ▌W. Ford (D) · ▌M. McConnell (R)                                                  \n",
       " 2            Senate: ▌W. Ford (D) · ▌M. McConnell (R)                                                  \n",
       " 3            Senate: ▌W. Ford (D) · ▌M. McConnell (R)                                                  \n",
       " 4            Senate: ▌W. Ford (D) · ▌M. McConnell (R)                                                  \n",
       " 5            Senate: ▌W. Ford (D) · ▌M. McConnell (R)                                                  \n",
       " 6            Senate: ▌W. Ford (D) · ▌M. McConnell (R)                                                  \n",
       " 7            Senate: ▌W. Ford (D) · ▌M. McConnell (R)                                                  \n",
       " 8         Senate: ▌M. McConnell (R) · ▌J. Bunning (R)                                                  \n",
       " 9         Senate: ▌M. McConnell (R) · ▌J. Bunning (R)                                                  \n",
       " 10        Senate: ▌M. McConnell (R) · ▌J. Bunning (R)                                                  \n",
       " 11        Senate: ▌M. McConnell (R) · ▌J. Bunning (R)                                                  \n",
       " 12        Senate: ▌M. McConnell (R) · ▌J. Bunning (R)                                                  \n",
       " 13        Senate: ▌M. McConnell (R) · ▌J. Bunning (R)                                                  \n",
       " 14           Senate: ▌M. McConnell (R) · ▌R. Paul (R)                                                  \n",
       " 15           Senate: ▌M. McConnell (R) · ▌R. Paul (R)                                                  \n",
       " 16           Senate: ▌M. McConnell (R) · ▌R. Paul (R)                                                  \n",
       " 17           Senate: ▌M. McConnell (R) · ▌R. Paul (R)                                                  \n",
       " 18           Senate: ▌M. McConnell (R) · ▌R. Paul (R)                                                  \n",
       " 19           Senate: ▌M. McConnell (R) · ▌R. Paul (R)                                                  \n",
       " \n",
       "                                            Unnamed: 2  \n",
       " 0                                                 NaN  \n",
       " 1   House: ▌W. Natcher (D) ▌G. Snyder (R) ▌R. Mazz...  \n",
       " 2   House: ▌W. Natcher (D) ▌R. Mazzoli (D) ▌C. Hub...  \n",
       " 3   House: ▌W. Natcher (D) ▌R. Mazzoli (D) ▌C. Hub...  \n",
       " 4   House: ▌W. Natcher (D) ▌R. Mazzoli (D) ▌C. Hub...  \n",
       " 5   House: ▌W. Natcher (D) ▌R. Mazzoli (D) ▌H. Rog...  \n",
       " 6   House: ▌H. Rogers (R) ▌J. Bunning (R) ▌S. Baes...  \n",
       " 7   House: ▌H. Rogers (R) ▌J. Bunning (R) ▌S. Baes...  \n",
       " 8   House: ▌H. Rogers (R) ▌R. Lewis (R) ▌E. Whitfi...  \n",
       " 9   House: ▌H. Rogers (R) ▌R. Lewis (R) ▌E. Whitfi...  \n",
       " 10  House: ▌H. Rogers (R) ▌R. Lewis (R) ▌E. Whitfi...  \n",
       " 11  House: ▌H. Rogers (R) ▌R. Lewis (R) ▌E. Whitfi...  \n",
       " 12  House: ▌H. Rogers (R) ▌R. Lewis (R) ▌E. Whitfi...  \n",
       " 13  House: ▌H. Rogers (R) ▌E. Whitfield (R) ▌B. Ch...  \n",
       " 14  House: ▌H. Rogers (R) ▌E. Whitfield (R) ▌B. Ch...  \n",
       " 15  House: ▌H. Rogers (R) ▌E. Whitfield (R) ▌J. Ya...  \n",
       " 16  House: ▌H. Rogers (R) ▌E. Whitfield (R) ▌J. Ya...  \n",
       " 17  House: ▌H. Rogers (R) ▌J. Yarmuth (D) ▌B. Guth...  \n",
       " 18  House: ▌H. Rogers (R) ▌J. Yarmuth (D) ▌B. Guth...  \n",
       " 19  House: ▌H. Rogers (R) ▌J. Yarmuth (D) ▌B. Guth...  ,\n",
       "         0                                            1  \\\n",
       " 0    99th     Senate: ▌W. Ford (D) · ▌M. McConnell (R)   \n",
       " 1   100th     Senate: ▌W. Ford (D) · ▌M. McConnell (R)   \n",
       " 2   101st     Senate: ▌W. Ford (D) · ▌M. McConnell (R)   \n",
       " 3   102nd     Senate: ▌W. Ford (D) · ▌M. McConnell (R)   \n",
       " 4   103rd     Senate: ▌W. Ford (D) · ▌M. McConnell (R)   \n",
       " 5   104th     Senate: ▌W. Ford (D) · ▌M. McConnell (R)   \n",
       " 6   105th     Senate: ▌W. Ford (D) · ▌M. McConnell (R)   \n",
       " 7   106th  Senate: ▌M. McConnell (R) · ▌J. Bunning (R)   \n",
       " 8   107th  Senate: ▌M. McConnell (R) · ▌J. Bunning (R)   \n",
       " 9   108th  Senate: ▌M. McConnell (R) · ▌J. Bunning (R)   \n",
       " 10  109th  Senate: ▌M. McConnell (R) · ▌J. Bunning (R)   \n",
       " 11  110th  Senate: ▌M. McConnell (R) · ▌J. Bunning (R)   \n",
       " 12  111th  Senate: ▌M. McConnell (R) · ▌J. Bunning (R)   \n",
       " 13  112th     Senate: ▌M. McConnell (R) · ▌R. Paul (R)   \n",
       " 14  113th     Senate: ▌M. McConnell (R) · ▌R. Paul (R)   \n",
       " 15  114th     Senate: ▌M. McConnell (R) · ▌R. Paul (R)   \n",
       " 16  115th     Senate: ▌M. McConnell (R) · ▌R. Paul (R)   \n",
       " 17  116th     Senate: ▌M. McConnell (R) · ▌R. Paul (R)   \n",
       " 18  117th     Senate: ▌M. McConnell (R) · ▌R. Paul (R)   \n",
       " \n",
       "                                                     2  \n",
       " 0   House: ▌W. Natcher (D) ▌G. Snyder (R) ▌R. Mazz...  \n",
       " 1   House: ▌W. Natcher (D) ▌R. Mazzoli (D) ▌C. Hub...  \n",
       " 2   House: ▌W. Natcher (D) ▌R. Mazzoli (D) ▌C. Hub...  \n",
       " 3   House: ▌W. Natcher (D) ▌R. Mazzoli (D) ▌C. Hub...  \n",
       " 4   House: ▌W. Natcher (D) ▌R. Mazzoli (D) ▌H. Rog...  \n",
       " 5   House: ▌H. Rogers (R) ▌J. Bunning (R) ▌S. Baes...  \n",
       " 6   House: ▌H. Rogers (R) ▌J. Bunning (R) ▌S. Baes...  \n",
       " 7   House: ▌H. Rogers (R) ▌R. Lewis (R) ▌E. Whitfi...  \n",
       " 8   House: ▌H. Rogers (R) ▌R. Lewis (R) ▌E. Whitfi...  \n",
       " 9   House: ▌H. Rogers (R) ▌R. Lewis (R) ▌E. Whitfi...  \n",
       " 10  House: ▌H. Rogers (R) ▌R. Lewis (R) ▌E. Whitfi...  \n",
       " 11  House: ▌H. Rogers (R) ▌R. Lewis (R) ▌E. Whitfi...  \n",
       " 12  House: ▌H. Rogers (R) ▌E. Whitfield (R) ▌B. Ch...  \n",
       " 13  House: ▌H. Rogers (R) ▌E. Whitfield (R) ▌B. Ch...  \n",
       " 14  House: ▌H. Rogers (R) ▌E. Whitfield (R) ▌J. Ya...  \n",
       " 15  House: ▌H. Rogers (R) ▌E. Whitfield (R) ▌J. Ya...  \n",
       " 16  House: ▌H. Rogers (R) ▌J. Yarmuth (D) ▌B. Guth...  \n",
       " 17  House: ▌H. Rogers (R) ▌J. Yarmuth (D) ▌B. Guth...  \n",
       " 18  House: ▌H. Rogers (R) ▌J. Yarmuth (D) ▌B. Guth...  ,\n",
       "       Authority control                                Authority control.1\n",
       " 0               General                             ISNI 1 VIAF 1 WorldCat\n",
       " 1    National libraries                       Germany United States Poland\n",
       " 2  Scientific databases                                      CiNii (Japan)\n",
       " 3                 Other  Faceted Application of Subject Terminology Mus...]"
      ]
     },
     "execution_count": 2,
     "metadata": {},
     "output_type": "execute_result"
    }
   ],
   "source": [
    "df_html = pd.read_html('https://en.wikipedia.org/wiki/Mitch_McConnell')\n",
    "\n",
    "df_html\n",
    "\n"
   ]
  },
  {
   "cell_type": "markdown",
   "metadata": {},
   "source": [
    "### Question 2"
   ]
  },
  {
   "cell_type": "markdown",
   "metadata": {},
   "source": [
    "Here I'm gonna use Beautiful Soup to get Mitch McConnell's entire Wikipedia page. "
   ]
  },
  {
   "cell_type": "code",
   "execution_count": 50,
   "metadata": {},
   "outputs": [
    {
     "data": {
      "text/plain": [
       "<title>Mitch McConnell - Wikipedia</title>"
      ]
     },
     "execution_count": 50,
     "metadata": {},
     "output_type": "execute_result"
    }
   ],
   "source": [
    "response = requests.get('https://en.wikipedia.org/wiki/Mitch_McConnell')\n",
    "parsed = BeautifulSoup(response.content, 'html.parser')\n",
    "parsed.title #show title"
   ]
  },
  {
   "cell_type": "markdown",
   "metadata": {},
   "source": [
    "And now to get the table. According to the inspect, we want something called \"infobox vcard.\""
   ]
  },
  {
   "cell_type": "code",
   "execution_count": 53,
   "metadata": {},
   "outputs": [
    {
     "data": {
      "text/plain": [
       "'Mitch McConnellOfficial portrait, 2016Senate Minority LeaderIncumbentAssumed office January 20, 2021WhipJohn ThunePreceded byChuck SchumerIn officeJanuary 3, 2007\\xa0– January 3, 2015WhipTrent LottJon KylJohn CornynPreceded byHarry ReidSucceeded byHarry ReidUnited States Senatorfrom KentuckyIncumbentAssumed office January 3, 1985Serving with Rand PaulPreceded byWalter Dee HuddlestonLeader of the Senate Republican ConferenceIncumbentAssumed office January 3, 2007Preceded byBill FristSenate Majority LeaderIn officeJanuary 3, 2015\\xa0– January 20, 2021WhipJohn CornynJohn ThunePreceded byHarry ReidSucceeded byChuck SchumerSenate Majority WhipIn officeJanuary 3, 2003\\xa0– January 3, 2007LeaderBill FristPreceded byHarry ReidSucceeded byDick DurbinChairman of the Senate Rules CommitteeIn officeJanuary 20, 2001\\xa0– June 6, 2001Preceded byChris DoddSucceeded byChris DoddIn officeJanuary 3, 1999\\xa0– January 3, 2001Preceded byJohn WarnerSucceeded byChris DoddJudge/Executive of Jefferson CountyIn officeDecember 1, 1977\\xa0– December 21, 1984Preceded byTodd Hollenbach IIISucceeded byBremer EhrlerUnited States Assistant Attorney General for the Office of Legislative AffairsActingIn officeFebruary 1, 1975\\xa0– June 27, 1975PresidentGerald FordPreceded byVincent RakestrawSucceeded byMichael Uhlmann\\nPersonal detailsBornAddison Mitchell McConnell III (1942-02-20) February 20, 1942 (age\\xa080)Sheffield, Alabama, U.S.Political partyRepublicanSpouses\\n\\nSherrill Redmon\\n\\u200b \\u200b(m.\\xa01968; div.\\xa01980)\\u200b\\n\\nElaine Chao \\u200b(m.\\xa01993)\\u200b\\nChildren3Residence(s)Louisville, Kentucky, U.S.Education\\nUniversity of Louisville (BA)\\nUniversity of Kentucky (JD)\\nSignatureWebsiteSenate websiteMilitary serviceAllegiance\\xa0United StatesBranch/service\\xa0United States ArmyYears\\xa0of serviceJuly 9, 1967, to August 15, 1967 (37 days) (medical separation)UnitUnited States Army Reserve'"
      ]
     },
     "execution_count": 53,
     "metadata": {},
     "output_type": "execute_result"
    }
   ],
   "source": [
    "get_table = parsed.find(class_= \"infobox vcard\")\n",
    "get_table.text"
   ]
  },
  {
   "cell_type": "markdown",
   "metadata": {},
   "source": [
    "### Question 3"
   ]
  },
  {
   "cell_type": "markdown",
   "metadata": {},
   "source": [
    "Now we're getting a bit more complex. I'm doing *bit* of wonyk coding here to address the fact that the name we want is at the very top of the page. But we will be able to resolve it when we process the data with Pandas. "
   ]
  },
  {
   "cell_type": "code",
   "execution_count": 5,
   "metadata": {},
   "outputs": [
    {
     "data": {
      "text/plain": [
       "'Mitch McConnell'"
      ]
     },
     "execution_count": 5,
     "metadata": {},
     "output_type": "execute_result"
    }
   ],
   "source": [
    "all_table_headers = [i.text for i in get_table.find_all(class_ = [\"infobox-above\",\"infobox-label\"])]\n",
    "all_table_headers[0] #so the top of our returned data is the full name"
   ]
  },
  {
   "cell_type": "code",
   "execution_count": 6,
   "metadata": {},
   "outputs": [
    {
     "data": {
      "text/plain": [
       "['Mitch McConnell',\n",
       " 'John Thune',\n",
       " 'Chuck Schumer',\n",
       " 'Trent LottJon KylJohn Cornyn',\n",
       " 'Harry Reid',\n",
       " 'Harry Reid',\n",
       " 'Walter Dee Huddleston',\n",
       " 'Bill Frist',\n",
       " 'John CornynJohn Thune',\n",
       " 'Harry Reid',\n",
       " 'Chuck Schumer',\n",
       " 'Bill Frist',\n",
       " 'Harry Reid',\n",
       " 'Dick Durbin',\n",
       " 'Chris Dodd',\n",
       " 'Chris Dodd',\n",
       " 'John Warner',\n",
       " 'Chris Dodd',\n",
       " 'Todd Hollenbach III',\n",
       " 'Bremer Ehrler',\n",
       " 'Gerald Ford',\n",
       " 'Vincent Rakestraw',\n",
       " 'Michael Uhlmann',\n",
       " 'Addison Mitchell McConnell III (1942-02-20) February 20, 1942 (age\\xa080)Sheffield, Alabama, U.S.',\n",
       " 'Republican',\n",
       " '\\n\\nSherrill Redmon\\n\\u200b \\u200b(m.\\xa01968; div.\\xa01980)\\u200b\\n\\nElaine Chao \\u200b(m.\\xa01993)\\u200b\\n',\n",
       " '3',\n",
       " 'Louisville, Kentucky, U.S.',\n",
       " '\\nUniversity of Louisville (BA)\\nUniversity of Kentucky (JD)\\n',\n",
       " '',\n",
       " 'Senate website',\n",
       " '\\xa0United States',\n",
       " '\\xa0United States Army',\n",
       " 'July 9, 1967, to August 15, 1967 (37 days) (medical separation)',\n",
       " 'United States Army Reserve']"
      ]
     },
     "execution_count": 6,
     "metadata": {},
     "output_type": "execute_result"
    }
   ],
   "source": [
    "all_table_info = [i.text for i in get_table.find_all(class_ = ['fn', 'infobox-data'])]\n",
    "all_table_info"
   ]
  },
  {
   "cell_type": "code",
   "execution_count": 54,
   "metadata": {},
   "outputs": [
    {
     "data": {
      "text/html": [
       "<div>\n",
       "<style scoped>\n",
       "    .dataframe tbody tr th:only-of-type {\n",
       "        vertical-align: middle;\n",
       "    }\n",
       "\n",
       "    .dataframe tbody tr th {\n",
       "        vertical-align: top;\n",
       "    }\n",
       "\n",
       "    .dataframe thead th {\n",
       "        text-align: right;\n",
       "    }\n",
       "</style>\n",
       "<table border=\"1\" class=\"dataframe\">\n",
       "  <thead>\n",
       "    <tr style=\"text-align: right;\">\n",
       "      <th></th>\n",
       "      <th>key</th>\n",
       "      <th>value</th>\n",
       "    </tr>\n",
       "  </thead>\n",
       "  <tbody>\n",
       "    <tr>\n",
       "      <th>0</th>\n",
       "      <td>Full Name</td>\n",
       "      <td>Mitch McConnell</td>\n",
       "    </tr>\n",
       "    <tr>\n",
       "      <th>1</th>\n",
       "      <td>Political party</td>\n",
       "      <td>Republican</td>\n",
       "    </tr>\n",
       "    <tr>\n",
       "      <th>2</th>\n",
       "      <td>Children</td>\n",
       "      <td>3</td>\n",
       "    </tr>\n",
       "  </tbody>\n",
       "</table>\n",
       "</div>"
      ],
      "text/plain": [
       "               key            value\n",
       "0        Full Name  Mitch McConnell\n",
       "1  Political party       Republican\n",
       "2         Children                3"
      ]
     },
     "execution_count": 54,
     "metadata": {},
     "output_type": "execute_result"
    }
   ],
   "source": [
    "mitch_df = pd.DataFrame({'key': all_table_headers, 'value': all_table_info})\n",
    "mitch_df['key'][mitch_df['key'] == mitch_df['value']] = 'Full Name' #fix the first row\n",
    "mitch_df = mitch_df[mitch_df['key'].isin(['Full Name','Children','Political party'])].reset_index(drop=True)\n",
    "\n",
    "\n",
    "mitch_df"
   ]
  },
  {
   "cell_type": "code",
   "execution_count": 55,
   "metadata": {},
   "outputs": [
    {
     "data": {
      "text/html": [
       "<div>\n",
       "<style scoped>\n",
       "    .dataframe tbody tr th:only-of-type {\n",
       "        vertical-align: middle;\n",
       "    }\n",
       "\n",
       "    .dataframe tbody tr th {\n",
       "        vertical-align: top;\n",
       "    }\n",
       "\n",
       "    .dataframe thead th {\n",
       "        text-align: right;\n",
       "    }\n",
       "</style>\n",
       "<table border=\"1\" class=\"dataframe\">\n",
       "  <thead>\n",
       "    <tr style=\"text-align: right;\">\n",
       "      <th></th>\n",
       "      <th>key</th>\n",
       "      <th>value</th>\n",
       "    </tr>\n",
       "  </thead>\n",
       "  <tbody>\n",
       "    <tr>\n",
       "      <th>2</th>\n",
       "      <td>Children</td>\n",
       "      <td>3</td>\n",
       "    </tr>\n",
       "  </tbody>\n",
       "</table>\n",
       "</div>"
      ],
      "text/plain": [
       "        key value\n",
       "2  Children     3"
      ]
     },
     "execution_count": 55,
     "metadata": {},
     "output_type": "execute_result"
    }
   ],
   "source": [
    "mitch_df.iloc[-1:]"
   ]
  },
  {
   "cell_type": "markdown",
   "metadata": {},
   "source": [
    "## Question 4"
   ]
  },
  {
   "cell_type": "markdown",
   "metadata": {},
   "source": [
    "Back-tracking here, we just have to take all these chunks and put it in a function. The only requirement is that you input a string (which is also forced because Python cannot process URLs without quotes). I've added code that deals with cases like Susan Collins who have no children. If 'Children' is not present in the column 'keys', then it will add a row with 'Children' and '0'. "
   ]
  },
  {
   "cell_type": "code",
   "execution_count": 61,
   "metadata": {},
   "outputs": [],
   "source": [
    "def get_wiki_info(page):\n",
    "    \n",
    "    assert type(page) == str, \"Please input a valid URL string.\"\n",
    "\n",
    "    response = requests.get(page)\n",
    "    page = response.content\n",
    "    parsed = BeautifulSoup(response.content, 'html.parser')\n",
    "\n",
    "    get_table = parsed.find(class_= \"infobox vcard\")\n",
    "    all_table_headers = [i.text for i in get_table.find_all(class_ = [\"infobox-above\",\"infobox-label\"])]\n",
    "    all_table_info = [i.text for i in get_table.find_all(class_ = ['fn', 'infobox-data'])]\n",
    "\n",
    "    output_df = pd.DataFrame({'key': all_table_headers, 'value': all_table_info})\n",
    "    output_df['key'][output_df['key'] == output_df['value']] = 'Full Name'\n",
    "    output_df = output_df[output_df['key'].isin(['Full Name','Children','Political party'])].reset_index(drop=True)\n",
    "\n",
    "    if ('Children' in output_df.key.values) == False:\n",
    "        output_df.loc[len(output_df.index)] = ['Children', 0]\n",
    "    \n",
    "    return output_df\n",
    "    "
   ]
  },
  {
   "cell_type": "code",
   "execution_count": 63,
   "metadata": {},
   "outputs": [
    {
     "data": {
      "text/html": [
       "<div>\n",
       "<style scoped>\n",
       "    .dataframe tbody tr th:only-of-type {\n",
       "        vertical-align: middle;\n",
       "    }\n",
       "\n",
       "    .dataframe tbody tr th {\n",
       "        vertical-align: top;\n",
       "    }\n",
       "\n",
       "    .dataframe thead th {\n",
       "        text-align: right;\n",
       "    }\n",
       "</style>\n",
       "<table border=\"1\" class=\"dataframe\">\n",
       "  <thead>\n",
       "    <tr style=\"text-align: right;\">\n",
       "      <th></th>\n",
       "      <th>key</th>\n",
       "      <th>value</th>\n",
       "    </tr>\n",
       "  </thead>\n",
       "  <tbody>\n",
       "    <tr>\n",
       "      <th>0</th>\n",
       "      <td>Full Name</td>\n",
       "      <td>Tammy Duckworth</td>\n",
       "    </tr>\n",
       "    <tr>\n",
       "      <th>1</th>\n",
       "      <td>Political party</td>\n",
       "      <td>Democratic</td>\n",
       "    </tr>\n",
       "    <tr>\n",
       "      <th>2</th>\n",
       "      <td>Children</td>\n",
       "      <td>2</td>\n",
       "    </tr>\n",
       "  </tbody>\n",
       "</table>\n",
       "</div>"
      ],
      "text/plain": [
       "               key            value\n",
       "0        Full Name  Tammy Duckworth\n",
       "1  Political party       Democratic\n",
       "2         Children                2"
      ]
     },
     "execution_count": 63,
     "metadata": {},
     "output_type": "execute_result"
    }
   ],
   "source": [
    "get_wiki_info('https://en.wikipedia.org/wiki/Tammy_Duckworth')"
   ]
  },
  {
   "cell_type": "code",
   "execution_count": 64,
   "metadata": {},
   "outputs": [
    {
     "data": {
      "text/html": [
       "<div>\n",
       "<style scoped>\n",
       "    .dataframe tbody tr th:only-of-type {\n",
       "        vertical-align: middle;\n",
       "    }\n",
       "\n",
       "    .dataframe tbody tr th {\n",
       "        vertical-align: top;\n",
       "    }\n",
       "\n",
       "    .dataframe thead th {\n",
       "        text-align: right;\n",
       "    }\n",
       "</style>\n",
       "<table border=\"1\" class=\"dataframe\">\n",
       "  <thead>\n",
       "    <tr style=\"text-align: right;\">\n",
       "      <th></th>\n",
       "      <th>key</th>\n",
       "      <th>value</th>\n",
       "    </tr>\n",
       "  </thead>\n",
       "  <tbody>\n",
       "    <tr>\n",
       "      <th>0</th>\n",
       "      <td>Full Name</td>\n",
       "      <td>Susan Collins</td>\n",
       "    </tr>\n",
       "    <tr>\n",
       "      <th>1</th>\n",
       "      <td>Political party</td>\n",
       "      <td>Republican</td>\n",
       "    </tr>\n",
       "    <tr>\n",
       "      <th>2</th>\n",
       "      <td>Children</td>\n",
       "      <td>0</td>\n",
       "    </tr>\n",
       "  </tbody>\n",
       "</table>\n",
       "</div>"
      ],
      "text/plain": [
       "               key          value\n",
       "0        Full Name  Susan Collins\n",
       "1  Political party     Republican\n",
       "2         Children              0"
      ]
     },
     "execution_count": 64,
     "metadata": {},
     "output_type": "execute_result"
    }
   ],
   "source": [
    "get_wiki_info('https://en.wikipedia.org/wiki/Susan_Collins')"
   ]
  },
  {
   "cell_type": "code",
   "execution_count": 67,
   "metadata": {},
   "outputs": [
    {
     "ename": "AssertionError",
     "evalue": "Please input a valid URL string.",
     "output_type": "error",
     "traceback": [
      "\u001b[1;31m---------------------------------------------------------------------------\u001b[0m",
      "\u001b[1;31mAssertionError\u001b[0m                            Traceback (most recent call last)",
      "Cell \u001b[1;32mIn [67], line 3\u001b[0m\n\u001b[0;32m      1\u001b[0m \u001b[39m## What if you give the wrong input type?\u001b[39;00m\n\u001b[1;32m----> 3\u001b[0m get_wiki_info(\u001b[39m77\u001b[39;49m)\n",
      "Cell \u001b[1;32mIn [61], line 3\u001b[0m, in \u001b[0;36mget_wiki_info\u001b[1;34m(page)\u001b[0m\n\u001b[0;32m      1\u001b[0m \u001b[39mdef\u001b[39;00m \u001b[39mget_wiki_info\u001b[39m(page):\n\u001b[1;32m----> 3\u001b[0m     \u001b[39massert\u001b[39;00m \u001b[39mtype\u001b[39m(page) \u001b[39m==\u001b[39m \u001b[39mstr\u001b[39m, \u001b[39m\"\u001b[39m\u001b[39mPlease input a valid URL string.\u001b[39m\u001b[39m\"\u001b[39m\n\u001b[0;32m      5\u001b[0m     response \u001b[39m=\u001b[39m requests\u001b[39m.\u001b[39mget(page)\n\u001b[0;32m      6\u001b[0m     page \u001b[39m=\u001b[39m response\u001b[39m.\u001b[39mcontent\n",
      "\u001b[1;31mAssertionError\u001b[0m: Please input a valid URL string."
     ]
    }
   ],
   "source": [
    "## What if you give the wrong input type?\n",
    "\n",
    "get_wiki_info(77)"
   ]
  },
  {
   "cell_type": "markdown",
   "metadata": {},
   "source": [
    "### Bonus: Get All Senators"
   ]
  },
  {
   "cell_type": "markdown",
   "metadata": {},
   "source": [
    "First, we have to extract the links from the page. This is actually a bit tricky because just copying the selector will not work, so you kind of have to work backwards until you get to the correct child path. "
   ]
  },
  {
   "cell_type": "code",
   "execution_count": 65,
   "metadata": {},
   "outputs": [
    {
     "data": {
      "text/plain": [
       "['/wiki/Richard_Shelby',\n",
       " '/wiki/Tommy_Tuberville',\n",
       " '/wiki/Lisa_Murkowski',\n",
       " '/wiki/Dan_Sullivan_(U.S._senator)',\n",
       " '/wiki/Kyrsten_Sinema']"
      ]
     },
     "execution_count": 65,
     "metadata": {},
     "output_type": "execute_result"
    }
   ],
   "source": [
    "response_senators = requests.get('https://en.wikipedia.org/wiki/List_of_current_United_States_senators')\n",
    "page_senators = response_senators.content\n",
    "parsed_senators = BeautifulSoup(response_senators.content, 'html.parser')\n",
    "get_links = [i.get('href') for i in parsed_senators.select('th > span > span > span > a')]\n",
    "\n",
    "get_links[0:5]\n"
   ]
  },
  {
   "cell_type": "markdown",
   "metadata": {},
   "source": [
    "I want these to be actual links:"
   ]
  },
  {
   "cell_type": "code",
   "execution_count": 66,
   "metadata": {},
   "outputs": [
    {
     "data": {
      "text/plain": [
       "['https://en.wikipedia.org/wiki/Richard_Shelby',\n",
       " 'https://en.wikipedia.org/wiki/Tommy_Tuberville',\n",
       " 'https://en.wikipedia.org/wiki/Lisa_Murkowski',\n",
       " 'https://en.wikipedia.org/wiki/Dan_Sullivan_(U.S._senator)',\n",
       " 'https://en.wikipedia.org/wiki/Kyrsten_Sinema',\n",
       " 'https://en.wikipedia.org/wiki/Mark_Kelly',\n",
       " 'https://en.wikipedia.org/wiki/John_Boozman',\n",
       " 'https://en.wikipedia.org/wiki/Tom_Cotton',\n",
       " 'https://en.wikipedia.org/wiki/Dianne_Feinstein',\n",
       " 'https://en.wikipedia.org/wiki/Alex_Padilla']"
      ]
     },
     "execution_count": 66,
     "metadata": {},
     "output_type": "execute_result"
    }
   ],
   "source": [
    "wiki = 'https://en.wikipedia.org'\n",
    "sen_links = [wiki + link for link in get_links]\n",
    "\n",
    "sen_links[0:10]"
   ]
  },
  {
   "cell_type": "markdown",
   "metadata": {},
   "source": [
    "There are some transformations here that get a bit wonky, so I apologize if the code is a bit confusing at times. I've commented in-line for the parts that involve a cleaning process."
   ]
  },
  {
   "cell_type": "code",
   "execution_count": 72,
   "metadata": {},
   "outputs": [],
   "source": [
    "def get_all_senators(page):\n",
    "    assert type(page) == str, \"Please input a valid URL string.\"\n",
    "\n",
    "    response = requests.get(page)\n",
    "    page = response.content\n",
    "    parsed = BeautifulSoup(response.content, 'html.parser')\n",
    "\n",
    "    get_table = parsed.find(class_= \"infobox vcard\")\n",
    "    all_table_headers = [i.text for i in get_table.find_all(class_ = [\"infobox-above\",\"infobox-label\"])]\n",
    "    all_table_info = [i.text for i in get_table.find_all(class_ = ['fn', 'infobox-data'])]\n",
    "\n",
    "    output_df = pd.DataFrame({'Full Name': all_table_headers[0], 'Party': all_table_info[all_table_headers.index('Political party')]}, index=[0])\n",
    "    if ('Children' in all_table_headers) == True:\n",
    "        output_df['Children'] = all_table_info[all_table_headers.index('Children')]\n",
    "    else:\n",
    "        output_df['Children'] = 0\n",
    " \n",
    "    output_df['Party'] = output_df['Party'].str.extract(r'(Democrat|Republican|Independent)') #get only parties, not longer strings\n",
    "    output_df['Children'] = output_df['Children'].astype(str).str.extract(r'(\\d)') #get only children's ages\n",
    "    output_df.loc[output_df['Full Name'] == 'Dianne Feinstein', ['Children']] = 1 #for some reason whoever did Feinstein's page NAMED her child instead of giving a number\n",
    "    output_df['Children'] = output_df['Children'].astype(int) #make numeric\n",
    "    \n",
    "    \n",
    "    return output_df"
   ]
  },
  {
   "cell_type": "markdown",
   "metadata": {},
   "source": [
    "Putting it all together:"
   ]
  },
  {
   "cell_type": "code",
   "execution_count": 73,
   "metadata": {},
   "outputs": [],
   "source": [
    "chunks =[]\n",
    "for link in sen_links:\n",
    "    tmp = get_all_senators(link)\n",
    "    chunks.append(tmp)\n",
    "\n",
    "final_df = pd.concat(chunks).reset_index()"
   ]
  },
  {
   "cell_type": "code",
   "execution_count": null,
   "metadata": {},
   "outputs": [
    {
     "name": "stdout",
     "output_type": "stream",
     "text": [
      "The average Senator has 2 children.\n"
     ]
    }
   ],
   "source": [
    "### Avg. Number of Children\n",
    "\n",
    "avg_chil = final_df.Children.mean().__round__() #really 2.34 but I don't think you can divide children into thirds...\n",
    "print(f'The average Senator has {avg_chil} children.')"
   ]
  },
  {
   "cell_type": "code",
   "execution_count": 35,
   "metadata": {},
   "outputs": [
    {
     "data": {
      "text/html": [
       "<div>\n",
       "<style scoped>\n",
       "    .dataframe tbody tr th:only-of-type {\n",
       "        vertical-align: middle;\n",
       "    }\n",
       "\n",
       "    .dataframe tbody tr th {\n",
       "        vertical-align: top;\n",
       "    }\n",
       "\n",
       "    .dataframe thead th {\n",
       "        text-align: right;\n",
       "    }\n",
       "</style>\n",
       "<table border=\"1\" class=\"dataframe\">\n",
       "  <thead>\n",
       "    <tr style=\"text-align: right;\">\n",
       "      <th></th>\n",
       "      <th>Children</th>\n",
       "    </tr>\n",
       "    <tr>\n",
       "      <th>Party</th>\n",
       "      <th></th>\n",
       "    </tr>\n",
       "  </thead>\n",
       "  <tbody>\n",
       "    <tr>\n",
       "      <th>Democrat</th>\n",
       "      <td>1.916667</td>\n",
       "    </tr>\n",
       "    <tr>\n",
       "      <th>Independent</th>\n",
       "      <td>3.000000</td>\n",
       "    </tr>\n",
       "    <tr>\n",
       "      <th>Republican</th>\n",
       "      <td>2.720000</td>\n",
       "    </tr>\n",
       "  </tbody>\n",
       "</table>\n",
       "</div>"
      ],
      "text/plain": [
       "             Children\n",
       "Party                \n",
       "Democrat     1.916667\n",
       "Independent  3.000000\n",
       "Republican   2.720000"
      ]
     },
     "execution_count": 35,
     "metadata": {},
     "output_type": "execute_result"
    }
   ],
   "source": [
    "### Avg. Number by Party\n",
    "pd.DataFrame(final_df.groupby('Party')['Children'].mean())"
   ]
  }
 ],
 "metadata": {
  "kernelspec": {
   "display_name": "Python 3.9.12 ('base')",
   "language": "python",
   "name": "python3"
  },
  "language_info": {
   "codemirror_mode": {
    "name": "ipython",
    "version": 3
   },
   "file_extension": ".py",
   "mimetype": "text/x-python",
   "name": "python",
   "nbconvert_exporter": "python",
   "pygments_lexer": "ipython3",
   "version": "3.9.12"
  },
  "orig_nbformat": 4,
  "vscode": {
   "interpreter": {
    "hash": "ad2bdc8ecc057115af97d19610ffacc2b4e99fae6737bb82f5d7fb13d2f2c186"
   }
  }
 },
 "nbformat": 4,
 "nbformat_minor": 2
}
