{
 "cells": [
  {
   "cell_type": "code",
   "execution_count": 31,
   "metadata": {},
   "outputs": [],
   "source": [
    "import numpy as np  \n",
    "import pytest "
   ]
  },
  {
   "cell_type": "markdown",
   "metadata": {},
   "source": [
    "### A"
   ]
  },
  {
   "cell_type": "code",
   "execution_count": 1,
   "metadata": {},
   "outputs": [],
   "source": [
    "def cipher(text, shift, encrypt=True):\n",
    "    alphabet = 'abcdefghijklmnopqrstuvwxyzABCDEFGHIJKLMNOPQRSTUVWXYZ'\n",
    "    new_text = ''\n",
    "    for c in text:\n",
    "        index = alphabet.find(c)\n",
    "        if index == -1:\n",
    "            new_text += c\n",
    "        else:\n",
    "            new_index = index + shift if encrypt == True else index - shift\n",
    "            new_index %= len(alphabet)\n",
    "            new_text += alphabet[new_index:new_index+1]\n",
    "    return new_text"
   ]
  },
  {
   "cell_type": "code",
   "execution_count": 6,
   "metadata": {},
   "outputs": [],
   "source": [
    "def test_word():\n",
    "    example = 'word'\n",
    "    shift = 4\n",
    "    expected = 'Asvh'\n",
    "    actual = cipher(example, shift)\n",
    "    assert actual == expected\n",
    "\n",
    "\n",
    "test_word()"
   ]
  },
  {
   "cell_type": "markdown",
   "metadata": {},
   "source": [
    "## B"
   ]
  },
  {
   "cell_type": "code",
   "execution_count": 9,
   "metadata": {},
   "outputs": [],
   "source": [
    "def test_neg():\n",
    "    test_text = \"The New York Mets were once good at baseball and then they sucked\"\n",
    "    example_shift = -2\n",
    "    expected = \"Rfc Lcu Wmpi Kcrq ucpc mlac emmb Yr ZYqcZYjj Ylb rfcl rfcw qsaicb\"\n",
    "    actual = cipher(test_text, example_shift)\n",
    "    assert actual == expected\n",
    "\n",
    "test_neg()"
   ]
  },
  {
   "cell_type": "markdown",
   "metadata": {},
   "source": [
    "## C"
   ]
  },
  {
   "cell_type": "code",
   "execution_count": 13,
   "metadata": {},
   "outputs": [],
   "source": [
    "def test_special():\n",
    "    test_text = \"UhOh!?!%\"\n",
    "    test_shift = 5\n",
    "    expected = \"ZmTm!?!%\"\n",
    "    actual = cipher(test_text, test_shift)\n",
    "    assert expected == actual\n",
    "\n",
    "test_special()\n"
   ]
  },
  {
   "cell_type": "markdown",
   "metadata": {},
   "source": [
    "## D"
   ]
  },
  {
   "cell_type": "code",
   "execution_count": 2,
   "metadata": {},
   "outputs": [],
   "source": [
    "def cipher(text, shift, encrypt=True):\n",
    "    assert type(shift) != str, \"Cannot pass string to shift.\"\n",
    "    alphabet = 'abcdefghijklmnopqrstuvwxyzABCDEFGHIJKLMNOPQRSTUVWXYZ'\n",
    "    new_text = ''\n",
    "    for c in text:\n",
    "        index = alphabet.find(c)\n",
    "        if index == -1:\n",
    "            new_text += c\n",
    "        else:\n",
    "            new_index = index + shift if encrypt == True else index - shift\n",
    "            new_index %= len(alphabet)\n",
    "            new_text += alphabet[new_index:new_index+1]\n",
    "    return new_text\n",
    "\n",
    "\n"
   ]
  },
  {
   "cell_type": "code",
   "execution_count": 23,
   "metadata": {},
   "outputs": [
    {
     "ename": "AssertionError",
     "evalue": "Cannot pass string to shift. ",
     "output_type": "error",
     "traceback": [
      "\u001b[0;31m---------------------------------------------------------------------------\u001b[0m",
      "\u001b[0;31mAssertionError\u001b[0m                            Traceback (most recent call last)",
      "Cell \u001b[0;32mIn [23], line 1\u001b[0m\n\u001b[0;32m----> 1\u001b[0m cipher(\u001b[39m\"\u001b[39m\u001b[39mtwo\u001b[39m\u001b[39m\"\u001b[39m, \u001b[39m\"\u001b[39m\u001b[39mtwo\u001b[39m\u001b[39m\"\u001b[39m)\n",
      "Cell \u001b[0;32mIn [22], line 2\u001b[0m, in \u001b[0;36mcipher\u001b[0;34m(text, shift, encrypt)\u001b[0m\n\u001b[1;32m      1\u001b[0m \u001b[39mdef\u001b[39;00m \u001b[39mcipher\u001b[39m(text, shift, encrypt\u001b[39m=\u001b[39m\u001b[39mTrue\u001b[39;00m):\n\u001b[0;32m----> 2\u001b[0m     \u001b[39massert\u001b[39;00m \u001b[39mtype\u001b[39m(shift) \u001b[39m!=\u001b[39m \u001b[39mstr\u001b[39m, \u001b[39m\"\u001b[39m\u001b[39mCannot pass string to shift. \u001b[39m\u001b[39m\"\u001b[39m\n\u001b[1;32m      3\u001b[0m     alphabet \u001b[39m=\u001b[39m \u001b[39m'\u001b[39m\u001b[39mabcdefghijklmnopqrstuvwxyzABCDEFGHIJKLMNOPQRSTUVWXYZ\u001b[39m\u001b[39m'\u001b[39m\n\u001b[1;32m      4\u001b[0m     new_text \u001b[39m=\u001b[39m \u001b[39m'\u001b[39m\u001b[39m'\u001b[39m\n",
      "\u001b[0;31mAssertionError\u001b[0m: Cannot pass string to shift. "
     ]
    }
   ],
   "source": [
    "cipher(\"two\", \"two\")"
   ]
  },
  {
   "cell_type": "code",
   "execution_count": 32,
   "metadata": {},
   "outputs": [],
   "source": [
    "def test_assert():\n",
    "    with pytest.raises(Exception):\n",
    "        test_word = \"two\"\n",
    "        test_shift = \"two\"\n",
    "        cipher(test_word,test_shift)\n"
   ]
  },
  {
   "cell_type": "code",
   "execution_count": 33,
   "metadata": {},
   "outputs": [],
   "source": [
    "test_assert()"
   ]
  },
  {
   "cell_type": "markdown",
   "metadata": {},
   "source": [
    "## E"
   ]
  },
  {
   "cell_type": "code",
   "execution_count": 9,
   "metadata": {},
   "outputs": [
    {
     "name": "stdout",
     "output_type": "stream",
     "text": [
      "\u001b[1m============================= test session starts ==============================\u001b[0m\n",
      "platform darwin -- Python 3.9.1, pytest-7.1.3, pluggy-1.0.0 -- /Users/jacksonrudoff/.pyenv/versions/3.9.1/bin/python3\n",
      "cachedir: .pytest_cache\n",
      "rootdir: /Users/jacksonrudoff/Documents/QMSS/Fall_2022/mds_course/Rudoff_Jackson/hw06\n",
      "plugins: Faker-15.0.0\n",
      "collected 4 items                                                              \u001b[0m\n",
      "\n",
      "test_cipher.py::test_word \u001b[32mPASSED\u001b[0m\u001b[32m                                         [ 25%]\u001b[0m\n",
      "test_cipher.py::test_neg \u001b[32mPASSED\u001b[0m\u001b[32m                                          [ 50%]\u001b[0m\n",
      "test_cipher.py::test_special \u001b[32mPASSED\u001b[0m\u001b[32m                                      [ 75%]\u001b[0m\n",
      "test_cipher.py::test_assert \u001b[32mPASSED\u001b[0m\u001b[32m                                       [100%]\u001b[0m\n",
      "\n",
      "\u001b[32m============================== \u001b[32m\u001b[1m4 passed\u001b[0m\u001b[32m in 0.03s\u001b[0m\u001b[32m ===============================\u001b[0m\n"
     ]
    }
   ],
   "source": [
    "!pytest -vv test_cipher.py"
   ]
  }
 ],
 "metadata": {
  "kernelspec": {
   "display_name": "Python 3.9.1 64-bit ('3.9.1')",
   "language": "python",
   "name": "python3"
  },
  "language_info": {
   "codemirror_mode": {
    "name": "ipython",
    "version": 3
   },
   "file_extension": ".py",
   "mimetype": "text/x-python",
   "name": "python",
   "nbconvert_exporter": "python",
   "pygments_lexer": "ipython3",
   "version": "3.9.1"
  },
  "orig_nbformat": 4,
  "vscode": {
   "interpreter": {
    "hash": "27de0925cacb228730def3d8c8fd69bf2d18c5fc3973c732ee3fd09f66da4906"
   }
  }
 },
 "nbformat": 4,
 "nbformat_minor": 2
}
