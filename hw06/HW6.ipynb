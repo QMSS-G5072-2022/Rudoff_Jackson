{
 "cells": [
  {
   "cell_type": "markdown",
   "metadata": {},
   "source": [
    "## Homework 6\n",
    "\n",
    "*Jackson Rudoff*\n",
    "\n",
    "**October 26th, 2022**"
   ]
  },
  {
   "cell_type": "code",
   "execution_count": 1,
   "metadata": {},
   "outputs": [],
   "source": [
    "import numpy as np  \n",
    "import pytest \n",
    "import pandas as pd \n"
   ]
  },
  {
   "cell_type": "markdown",
   "metadata": {},
   "source": [
    "### A"
   ]
  },
  {
   "cell_type": "markdown",
   "metadata": {},
   "source": [
    "The first question is straightforward, just need to read in the function, get the output for the word in question, and make a function that asserts that it will provide the correct output. \n",
    "\n",
    "**Note**: I am getting the expected output in advance from using the cipher function, but excluding it for brevity. "
   ]
  },
  {
   "cell_type": "code",
   "execution_count": 2,
   "metadata": {},
   "outputs": [],
   "source": [
    "def cipher(text, shift, encrypt=True):\n",
    "    alphabet = 'abcdefghijklmnopqrstuvwxyzABCDEFGHIJKLMNOPQRSTUVWXYZ'\n",
    "    new_text = ''\n",
    "    for c in text:\n",
    "        index = alphabet.find(c)\n",
    "        if index == -1:\n",
    "            new_text += c\n",
    "        else:\n",
    "            new_index = index + shift if encrypt == True else index - shift\n",
    "            new_index %= len(alphabet)\n",
    "            new_text += alphabet[new_index:new_index+1]\n",
    "    return new_text"
   ]
  },
  {
   "cell_type": "code",
   "execution_count": 3,
   "metadata": {},
   "outputs": [],
   "source": [
    "def test_word():\n",
    "    example = 'word'\n",
    "    shift = 4\n",
    "    expected = 'Asvh'\n",
    "    actual = cipher(example, shift)\n",
    "    assert actual == expected\n",
    "\n",
    "\n",
    "test_word()"
   ]
  },
  {
   "cell_type": "markdown",
   "metadata": {},
   "source": [
    "No output is good here, since it is not intended to generate any outputs or errors. If it didn't work, however, because the function was not programmed correctly, the ouput would look like this. "
   ]
  },
  {
   "cell_type": "code",
   "execution_count": 4,
   "metadata": {},
   "outputs": [
    {
     "ename": "AssertionError",
     "evalue": "Unexpected output.",
     "output_type": "error",
     "traceback": [
      "\u001b[0;31m---------------------------------------------------------------------------\u001b[0m",
      "\u001b[0;31mAssertionError\u001b[0m                            Traceback (most recent call last)",
      "Cell \u001b[0;32mIn [4], line 21\u001b[0m\n\u001b[1;32m     18\u001b[0m     actual \u001b[39m=\u001b[39m cipher_broken(example, shift)\n\u001b[1;32m     19\u001b[0m     \u001b[39massert\u001b[39;00m actual \u001b[39m==\u001b[39m expected, \u001b[39m\"\u001b[39m\u001b[39mUnexpected output.\u001b[39m\u001b[39m\"\u001b[39m\n\u001b[0;32m---> 21\u001b[0m test_word()\n",
      "Cell \u001b[0;32mIn [4], line 19\u001b[0m, in \u001b[0;36mtest_word\u001b[0;34m()\u001b[0m\n\u001b[1;32m     17\u001b[0m expected \u001b[39m=\u001b[39m \u001b[39m'\u001b[39m\u001b[39mAsvh\u001b[39m\u001b[39m'\u001b[39m\n\u001b[1;32m     18\u001b[0m actual \u001b[39m=\u001b[39m cipher_broken(example, shift)\n\u001b[0;32m---> 19\u001b[0m \u001b[39massert\u001b[39;00m actual \u001b[39m==\u001b[39m expected, \u001b[39m\"\u001b[39m\u001b[39mUnexpected output.\u001b[39m\u001b[39m\"\u001b[39m\n",
      "\u001b[0;31mAssertionError\u001b[0m: Unexpected output."
     ]
    }
   ],
   "source": [
    "def cipher_broken(text, shift, encrypt=True):\n",
    "    alphabet = 'abcdefghijklmnopqrstuvwxyzABCDEFGHIJKLMNOPQRSTUVWXYZ'\n",
    "    new_text = ''\n",
    "    for c in text:\n",
    "        index = alphabet.find(c)\n",
    "        if index == -1:\n",
    "            new_text += c\n",
    "        else:\n",
    "            new_index = index * shift if encrypt == True else index - shift #add incorrect math\n",
    "            new_index %= len(alphabet)\n",
    "            new_text += alphabet[new_index:new_index+1]\n",
    "    return new_text\n",
    "\n",
    "def test_word():\n",
    "    example = 'word'\n",
    "    shift = 4\n",
    "    expected = 'Asvh'\n",
    "    actual = cipher_broken(example, shift)\n",
    "    assert actual == expected, \"Unexpected output.\"\n",
    "\n",
    "test_word()"
   ]
  },
  {
   "cell_type": "markdown",
   "metadata": {},
   "source": [
    "## B"
   ]
  },
  {
   "cell_type": "markdown",
   "metadata": {},
   "source": [
    "Again, not much to this one. It just needs to feed a negative shift into the function. "
   ]
  },
  {
   "cell_type": "code",
   "execution_count": 5,
   "metadata": {},
   "outputs": [],
   "source": [
    "def test_neg():\n",
    "    test_text = \"The New York Mets were once good at baseball and then they sucked\"\n",
    "    example_shift = -2\n",
    "    expected = \"Rfc Lcu Wmpi Kcrq ucpc mlac emmb Yr ZYqcZYjj Ylb rfcl rfcw qsaicb\"\n",
    "    actual = cipher(test_text, example_shift)\n",
    "    assert actual == expected\n",
    "\n",
    "test_neg()"
   ]
  },
  {
   "cell_type": "markdown",
   "metadata": {},
   "source": [
    "## C"
   ]
  },
  {
   "cell_type": "markdown",
   "metadata": {},
   "source": [
    "The code indicates that any characters not in the alphabet will be added (but not shifted), so the output should include shifted alphabetic characters and retained special characters. "
   ]
  },
  {
   "cell_type": "code",
   "execution_count": 6,
   "metadata": {},
   "outputs": [],
   "source": [
    "def test_special():\n",
    "    test_text = \"UhOh!?!%\"\n",
    "    test_shift = 5\n",
    "    expected = \"ZmTm!?!%\"\n",
    "    actual = cipher(test_text, test_shift)\n",
    "    assert expected == actual\n",
    "\n",
    "test_special()\n"
   ]
  },
  {
   "cell_type": "markdown",
   "metadata": {},
   "source": [
    "No output, so it does do what we'd expect with special characters. "
   ]
  },
  {
   "cell_type": "markdown",
   "metadata": {},
   "source": [
    "## D"
   ]
  },
  {
   "cell_type": "markdown",
   "metadata": {},
   "source": [
    "Here we need to add an exception to make sure it only accepts a **str** input for shift. "
   ]
  },
  {
   "cell_type": "code",
   "execution_count": 7,
   "metadata": {},
   "outputs": [],
   "source": [
    "def cipher(text, shift, encrypt=True):\n",
    "    assert type(shift) != str, \"Cannot pass string to shift.\"\n",
    "    alphabet = 'abcdefghijklmnopqrstuvwxyzABCDEFGHIJKLMNOPQRSTUVWXYZ'\n",
    "    new_text = ''\n",
    "    for c in text:\n",
    "        index = alphabet.find(c)\n",
    "        if index == -1:\n",
    "            new_text += c\n",
    "        else:\n",
    "            new_index = index + shift if encrypt == True else index - shift\n",
    "            new_index %= len(alphabet)\n",
    "            new_text += alphabet[new_index:new_index+1]\n",
    "    return new_text\n",
    "\n"
   ]
  },
  {
   "cell_type": "markdown",
   "metadata": {},
   "source": [
    "Check that it catches:"
   ]
  },
  {
   "cell_type": "code",
   "execution_count": 8,
   "metadata": {},
   "outputs": [
    {
     "ename": "AssertionError",
     "evalue": "Cannot pass string to shift.",
     "output_type": "error",
     "traceback": [
      "\u001b[0;31m---------------------------------------------------------------------------\u001b[0m",
      "\u001b[0;31mAssertionError\u001b[0m                            Traceback (most recent call last)",
      "Cell \u001b[0;32mIn [8], line 1\u001b[0m\n\u001b[0;32m----> 1\u001b[0m cipher(\u001b[39m\"\u001b[39m\u001b[39mtwo\u001b[39m\u001b[39m\"\u001b[39m, \u001b[39m\"\u001b[39m\u001b[39mtwo\u001b[39m\u001b[39m\"\u001b[39m)\n",
      "Cell \u001b[0;32mIn [7], line 2\u001b[0m, in \u001b[0;36mcipher\u001b[0;34m(text, shift, encrypt)\u001b[0m\n\u001b[1;32m      1\u001b[0m \u001b[39mdef\u001b[39;00m \u001b[39mcipher\u001b[39m(text, shift, encrypt\u001b[39m=\u001b[39m\u001b[39mTrue\u001b[39;00m):\n\u001b[0;32m----> 2\u001b[0m     \u001b[39massert\u001b[39;00m \u001b[39mtype\u001b[39m(shift) \u001b[39m!=\u001b[39m \u001b[39mstr\u001b[39m, \u001b[39m\"\u001b[39m\u001b[39mCannot pass string to shift.\u001b[39m\u001b[39m\"\u001b[39m\n\u001b[1;32m      3\u001b[0m     alphabet \u001b[39m=\u001b[39m \u001b[39m'\u001b[39m\u001b[39mabcdefghijklmnopqrstuvwxyzABCDEFGHIJKLMNOPQRSTUVWXYZ\u001b[39m\u001b[39m'\u001b[39m\n\u001b[1;32m      4\u001b[0m     new_text \u001b[39m=\u001b[39m \u001b[39m'\u001b[39m\u001b[39m'\u001b[39m\n",
      "\u001b[0;31mAssertionError\u001b[0m: Cannot pass string to shift."
     ]
    }
   ],
   "source": [
    "cipher(\"two\", \"two\")"
   ]
  },
  {
   "cell_type": "markdown",
   "metadata": {},
   "source": [
    "For this test I'm gonna use the pytest method **.raises()** since it makes test a lot cleaner. If it raises an assertion, then it will pass. "
   ]
  },
  {
   "cell_type": "code",
   "execution_count": 10,
   "metadata": {},
   "outputs": [],
   "source": [
    "def test_assert():\n",
    "    with pytest.raises(AssertionError):\n",
    "        test_word = \"two\"\n",
    "        test_shift = \"two\"\n",
    "        cipher(test_word,test_shift)\n"
   ]
  },
  {
   "cell_type": "code",
   "execution_count": 11,
   "metadata": {},
   "outputs": [],
   "source": [
    "test_assert()"
   ]
  },
  {
   "cell_type": "markdown",
   "metadata": {},
   "source": [
    "What if it doesn't raise an assertion?"
   ]
  },
  {
   "cell_type": "code",
   "execution_count": 12,
   "metadata": {},
   "outputs": [
    {
     "ename": "TypeError",
     "evalue": "unsupported operand type(s) for +: 'int' and 'str'",
     "output_type": "error",
     "traceback": [
      "\u001b[0;31m---------------------------------------------------------------------------\u001b[0m",
      "\u001b[0;31mTypeError\u001b[0m                                 Traceback (most recent call last)",
      "Cell \u001b[0;32mIn [12], line 21\u001b[0m\n\u001b[1;32m     18\u001b[0m         test_shift \u001b[39m=\u001b[39m \u001b[39m\"\u001b[39m\u001b[39mtwo\u001b[39m\u001b[39m\"\u001b[39m\n\u001b[1;32m     19\u001b[0m         cipher(test_word,test_shift)\n\u001b[0;32m---> 21\u001b[0m test_assert()\n",
      "Cell \u001b[0;32mIn [12], line 19\u001b[0m, in \u001b[0;36mtest_assert\u001b[0;34m()\u001b[0m\n\u001b[1;32m     17\u001b[0m test_word \u001b[39m=\u001b[39m \u001b[39m\"\u001b[39m\u001b[39mtwo\u001b[39m\u001b[39m\"\u001b[39m\n\u001b[1;32m     18\u001b[0m test_shift \u001b[39m=\u001b[39m \u001b[39m\"\u001b[39m\u001b[39mtwo\u001b[39m\u001b[39m\"\u001b[39m\n\u001b[0;32m---> 19\u001b[0m cipher(test_word,test_shift)\n",
      "Cell \u001b[0;32mIn [12], line 10\u001b[0m, in \u001b[0;36mcipher\u001b[0;34m(text, shift, encrypt)\u001b[0m\n\u001b[1;32m      8\u001b[0m     new_text \u001b[39m+\u001b[39m\u001b[39m=\u001b[39m c\n\u001b[1;32m      9\u001b[0m \u001b[39melse\u001b[39;00m:\n\u001b[0;32m---> 10\u001b[0m     new_index \u001b[39m=\u001b[39m index \u001b[39m+\u001b[39;49m shift \u001b[39mif\u001b[39;00m encrypt \u001b[39m==\u001b[39m \u001b[39mTrue\u001b[39;00m \u001b[39melse\u001b[39;00m index \u001b[39m-\u001b[39m shift\n\u001b[1;32m     11\u001b[0m     new_index \u001b[39m%\u001b[39m\u001b[39m=\u001b[39m \u001b[39mlen\u001b[39m(alphabet)\n\u001b[1;32m     12\u001b[0m     new_text \u001b[39m+\u001b[39m\u001b[39m=\u001b[39m alphabet[new_index:new_index\u001b[39m+\u001b[39m\u001b[39m1\u001b[39m]\n",
      "\u001b[0;31mTypeError\u001b[0m: unsupported operand type(s) for +: 'int' and 'str'"
     ]
    }
   ],
   "source": [
    "def cipher(text, shift, encrypt=True):\n",
    "    #assert type(shift) != str, \"Cannot pass string to shift.\" \n",
    "    alphabet = 'abcdefghijklmnopqrstuvwxyzABCDEFGHIJKLMNOPQRSTUVWXYZ'\n",
    "    new_text = ''\n",
    "    for c in text:\n",
    "        index = alphabet.find(c)\n",
    "        if index == -1:\n",
    "            new_text += c\n",
    "        else:\n",
    "            new_index = index + shift if encrypt == True else index - shift\n",
    "            new_index %= len(alphabet)\n",
    "            new_text += alphabet[new_index:new_index+1]\n",
    "    return new_text\n",
    "\n",
    "def test_assert():\n",
    "    with pytest.raises(AssertionError):\n",
    "        test_word = \"two\"\n",
    "        test_shift = \"two\"\n",
    "        cipher(test_word,test_shift)\n",
    "\n",
    "test_assert()"
   ]
  },
  {
   "cell_type": "markdown",
   "metadata": {},
   "source": [
    "## E"
   ]
  },
  {
   "cell_type": "markdown",
   "metadata": {},
   "source": [
    "For this question, I have put all the questions into a separate .py file (*test_cipher.py*), along with the cipher function itself (*cipher.py*). Both of these are located in the /tests folder. "
   ]
  },
  {
   "cell_type": "code",
   "execution_count": 13,
   "metadata": {},
   "outputs": [
    {
     "name": "stdout",
     "output_type": "stream",
     "text": [
      "\u001b[1m============================= test session starts ==============================\u001b[0m\n",
      "platform darwin -- Python 3.9.1, pytest-7.1.3, pluggy-1.0.0 -- /Users/jacksonrudoff/.pyenv/versions/3.9.1/bin/python3\n",
      "cachedir: .pytest_cache\n",
      "rootdir: /Users/jacksonrudoff/Documents/QMSS/Fall_2022/mds_course/Rudoff_Jackson/hw06\n",
      "plugins: Faker-15.0.0\n",
      "collected 4 items                                                              \u001b[0m\n",
      "\n",
      "tests/test_cipher.py::test_word \u001b[32mPASSED\u001b[0m\u001b[32m                                   [ 25%]\u001b[0m\n",
      "tests/test_cipher.py::test_neg \u001b[32mPASSED\u001b[0m\u001b[32m                                    [ 50%]\u001b[0m\n",
      "tests/test_cipher.py::test_special \u001b[32mPASSED\u001b[0m\u001b[32m                                [ 75%]\u001b[0m\n",
      "tests/test_cipher.py::test_assert \u001b[32mPASSED\u001b[0m\u001b[32m                                 [100%]\u001b[0m\n",
      "\n",
      "\u001b[32m============================== \u001b[32m\u001b[1m4 passed\u001b[0m\u001b[32m in 0.25s\u001b[0m\u001b[32m ===============================\u001b[0m\n"
     ]
    }
   ],
   "source": [
    "!pytest -vv tests/test_cipher.py"
   ]
  },
  {
   "cell_type": "markdown",
   "metadata": {},
   "source": [
    "## F"
   ]
  },
  {
   "cell_type": "markdown",
   "metadata": {},
   "source": [
    "Here my approach is to parametrize the examples so that the test function can be fed easily. I also created a small csv with the examples so that I can use a fixture to provide the example parameters. I also added this to a new testing suite called *parametrize.py* to demonstrate how we've condensed four tests into one. "
   ]
  },
  {
   "cell_type": "code",
   "execution_count": 25,
   "metadata": {},
   "outputs": [],
   "source": [
    "@pytest.fixture\n",
    "def words_csv():\n",
    "    df = pd.read_csv('data/words.csv')\n",
    "    return df\n",
    "\n",
    "@pytest.mark.parametrize(\"example, shift, expected\", [\n",
    "    (0, 4, 'TCxlsr'),\n",
    "    (1, 5, 'YJXYNSL'),\n",
    "    (2, 7, 'kpmmpjBsA'), #intentionally false example\n",
    "    (3, 8,'epG qA qB Aw lqnnqkCtB.')\n",
    "])\n",
    "def test_parametrize(words_csv, example, shift, expected):\n",
    "    result = cipher(words_csv.loc[example]['Extract'], shift)\n",
    "    assert result == expected"
   ]
  },
  {
   "cell_type": "code",
   "execution_count": 27,
   "metadata": {},
   "outputs": [
    {
     "name": "stdout",
     "output_type": "stream",
     "text": [
      "\u001b[1m============================= test session starts ==============================\u001b[0m\n",
      "platform darwin -- Python 3.9.1, pytest-7.1.3, pluggy-1.0.0 -- /Users/jacksonrudoff/.pyenv/versions/3.9.1/bin/python3\n",
      "cachedir: .pytest_cache\n",
      "rootdir: /Users/jacksonrudoff/Documents/QMSS/Fall_2022/mds_course/Rudoff_Jackson/hw06\n",
      "plugins: Faker-15.0.0\n",
      "collected 4 items                                                              \u001b[0m\n",
      "\n",
      "tests/parametrize.py::test_parametrize[0-4-TCxlsr] \u001b[32mPASSED\u001b[0m\u001b[32m                [ 25%]\u001b[0m\n",
      "tests/parametrize.py::test_parametrize[1-5-YJXYNSL] \u001b[32mPASSED\u001b[0m\u001b[32m               [ 50%]\u001b[0m\n",
      "tests/parametrize.py::test_parametrize[2-7-kpmmpjBsA] \u001b[32mPASSED\u001b[0m\u001b[32m             [ 75%]\u001b[0m\n",
      "tests/parametrize.py::test_parametrize[3-8-epG qA qB Aw lqnnqkCtB.] \u001b[32mPASSED\u001b[0m\u001b[32m [100%]\u001b[0m\n",
      "\n",
      "\u001b[32m============================== \u001b[32m\u001b[1m4 passed\u001b[0m\u001b[32m in 0.24s\u001b[0m\u001b[32m ===============================\u001b[0m\n"
     ]
    }
   ],
   "source": [
    "!pytest -vv tests/parametrize.py::test_parametrize"
   ]
  },
  {
   "cell_type": "markdown",
   "metadata": {},
   "source": [
    "What if the parametrize feeds the wrong shift (to show what a non-passing test looks like)?"
   ]
  },
  {
   "cell_type": "code",
   "execution_count": 20,
   "metadata": {},
   "outputs": [],
   "source": [
    "@pytest.fixture\n",
    "def words_csv():\n",
    "    df = pd.read_csv('data/words.csv')\n",
    "    return df\n",
    "\n",
    "@pytest.mark.parametrize(\"example, shift, expected\", [\n",
    "    (0, 4, 'TCxlsr'),\n",
    "    (1, 5, 'YJXYNSL'),\n",
    "    (2, 7, 'kpmmpjBsA'), #intentionally false example\n",
    "    (3, 8,'epG qA qB Aw lqnnqkCtB.')\n",
    "])\n",
    "def test_parametrize(words_csv, example, shift, expected):\n",
    "    result = cipher(words_csv.loc[example]['Extract'], shift+1)\n",
    "    assert result == expected"
   ]
  },
  {
   "cell_type": "code",
   "execution_count": 28,
   "metadata": {},
   "outputs": [
    {
     "name": "stdout",
     "output_type": "stream",
     "text": [
      "\u001b[1m============================= test session starts ==============================\u001b[0m\n",
      "platform darwin -- Python 3.9.1, pytest-7.1.3, pluggy-1.0.0 -- /Users/jacksonrudoff/.pyenv/versions/3.9.1/bin/python3\n",
      "cachedir: .pytest_cache\n",
      "rootdir: /Users/jacksonrudoff/Documents/QMSS/Fall_2022/mds_course/Rudoff_Jackson/hw06\n",
      "plugins: Faker-15.0.0\n",
      "collected 4 items                                                              \u001b[0m\n",
      "\n",
      "tests/parametrize_bad.py::test_parametrize[0-4-TCxlsr] \u001b[31mFAILED\u001b[0m\u001b[31m            [ 25%]\u001b[0m\n",
      "tests/parametrize_bad.py::test_parametrize[1-5-YJXYNSL] \u001b[31mFAILED\u001b[0m\u001b[31m           [ 50%]\u001b[0m\n",
      "tests/parametrize_bad.py::test_parametrize[2-7-kpmmpjBsA] \u001b[31mFAILED\u001b[0m\u001b[31m         [ 75%]\u001b[0m\n",
      "tests/parametrize_bad.py::test_parametrize[3-8-epG qA qB Aw lqnnqkCtB.] \u001b[31mFAILED\u001b[0m\u001b[31m [100%]\u001b[0m\n",
      "\n",
      "=================================== FAILURES ===================================\n",
      "\u001b[31m\u001b[1m_________________________ test_parametrize[0-4-TCxlsr] _________________________\u001b[0m\n",
      "\n",
      "words_csv =    Example                  Extract\n",
      "0        1                   Python\n",
      "1        2                  TESTING\n",
      "2        3                difficult\n",
      "3        4  Why is it so difficult.\n",
      "example = 0, shift = 4, expected = 'TCxlsr'\n",
      "\n",
      "    \u001b[37m@pytest\u001b[39;49;00m.mark.parametrize(\u001b[33m\"\u001b[39;49;00m\u001b[33mexample, shift, expected\u001b[39;49;00m\u001b[33m\"\u001b[39;49;00m, [\n",
      "        (\u001b[94m0\u001b[39;49;00m, \u001b[94m4\u001b[39;49;00m, \u001b[33m'\u001b[39;49;00m\u001b[33mTCxlsr\u001b[39;49;00m\u001b[33m'\u001b[39;49;00m),\n",
      "        (\u001b[94m1\u001b[39;49;00m, \u001b[94m5\u001b[39;49;00m, \u001b[33m'\u001b[39;49;00m\u001b[33mYJXYNSL\u001b[39;49;00m\u001b[33m'\u001b[39;49;00m),\n",
      "        (\u001b[94m2\u001b[39;49;00m, \u001b[94m7\u001b[39;49;00m, \u001b[33m'\u001b[39;49;00m\u001b[33mkpmmpjBsA\u001b[39;49;00m\u001b[33m'\u001b[39;49;00m), \u001b[90m#intentionally false example\u001b[39;49;00m\n",
      "        (\u001b[94m3\u001b[39;49;00m, \u001b[94m8\u001b[39;49;00m,\u001b[33m'\u001b[39;49;00m\u001b[33mepG qA qB Aw lqnnqkCtB.\u001b[39;49;00m\u001b[33m'\u001b[39;49;00m)\n",
      "    ])\n",
      "    \u001b[94mdef\u001b[39;49;00m \u001b[92mtest_parametrize\u001b[39;49;00m(words_csv, example, shift, expected):\n",
      "        result = cipher(words_csv.loc[example][\u001b[33m'\u001b[39;49;00m\u001b[33mExtract\u001b[39;49;00m\u001b[33m'\u001b[39;49;00m], shift+\u001b[94m1\u001b[39;49;00m)\n",
      ">       \u001b[94massert\u001b[39;49;00m result == expected\n",
      "\u001b[1m\u001b[31mE       AssertionError: assert 'UDymts' == 'TCxlsr'\u001b[0m\n",
      "\u001b[1m\u001b[31mE         - TCxlsr\u001b[0m\n",
      "\u001b[1m\u001b[31mE         + UDymts\u001b[0m\n",
      "\n",
      "\u001b[1m\u001b[31mtests/parametrize_bad.py\u001b[0m:18: AssertionError\n",
      "\u001b[31m\u001b[1m________________________ test_parametrize[1-5-YJXYNSL] _________________________\u001b[0m\n",
      "\n",
      "words_csv =    Example                  Extract\n",
      "0        1                   Python\n",
      "1        2                  TESTING\n",
      "2        3                difficult\n",
      "3        4  Why is it so difficult.\n",
      "example = 1, shift = 5, expected = 'YJXYNSL'\n",
      "\n",
      "    \u001b[37m@pytest\u001b[39;49;00m.mark.parametrize(\u001b[33m\"\u001b[39;49;00m\u001b[33mexample, shift, expected\u001b[39;49;00m\u001b[33m\"\u001b[39;49;00m, [\n",
      "        (\u001b[94m0\u001b[39;49;00m, \u001b[94m4\u001b[39;49;00m, \u001b[33m'\u001b[39;49;00m\u001b[33mTCxlsr\u001b[39;49;00m\u001b[33m'\u001b[39;49;00m),\n",
      "        (\u001b[94m1\u001b[39;49;00m, \u001b[94m5\u001b[39;49;00m, \u001b[33m'\u001b[39;49;00m\u001b[33mYJXYNSL\u001b[39;49;00m\u001b[33m'\u001b[39;49;00m),\n",
      "        (\u001b[94m2\u001b[39;49;00m, \u001b[94m7\u001b[39;49;00m, \u001b[33m'\u001b[39;49;00m\u001b[33mkpmmpjBsA\u001b[39;49;00m\u001b[33m'\u001b[39;49;00m), \u001b[90m#intentionally false example\u001b[39;49;00m\n",
      "        (\u001b[94m3\u001b[39;49;00m, \u001b[94m8\u001b[39;49;00m,\u001b[33m'\u001b[39;49;00m\u001b[33mepG qA qB Aw lqnnqkCtB.\u001b[39;49;00m\u001b[33m'\u001b[39;49;00m)\n",
      "    ])\n",
      "    \u001b[94mdef\u001b[39;49;00m \u001b[92mtest_parametrize\u001b[39;49;00m(words_csv, example, shift, expected):\n",
      "        result = cipher(words_csv.loc[example][\u001b[33m'\u001b[39;49;00m\u001b[33mExtract\u001b[39;49;00m\u001b[33m'\u001b[39;49;00m], shift+\u001b[94m1\u001b[39;49;00m)\n",
      ">       \u001b[94massert\u001b[39;49;00m result == expected\n",
      "\u001b[1m\u001b[31mE       AssertionError: assert 'ZKYZOTM' == 'YJXYNSL'\u001b[0m\n",
      "\u001b[1m\u001b[31mE         - YJXYNSL\u001b[0m\n",
      "\u001b[1m\u001b[31mE         + ZKYZOTM\u001b[0m\n",
      "\n",
      "\u001b[1m\u001b[31mtests/parametrize_bad.py\u001b[0m:18: AssertionError\n",
      "\u001b[31m\u001b[1m_______________________ test_parametrize[2-7-kpmmpjBsA] ________________________\u001b[0m\n",
      "\n",
      "words_csv =    Example                  Extract\n",
      "0        1                   Python\n",
      "1        2                  TESTING\n",
      "2        3                difficult\n",
      "3        4  Why is it so difficult.\n",
      "example = 2, shift = 7, expected = 'kpmmpjBsA'\n",
      "\n",
      "    \u001b[37m@pytest\u001b[39;49;00m.mark.parametrize(\u001b[33m\"\u001b[39;49;00m\u001b[33mexample, shift, expected\u001b[39;49;00m\u001b[33m\"\u001b[39;49;00m, [\n",
      "        (\u001b[94m0\u001b[39;49;00m, \u001b[94m4\u001b[39;49;00m, \u001b[33m'\u001b[39;49;00m\u001b[33mTCxlsr\u001b[39;49;00m\u001b[33m'\u001b[39;49;00m),\n",
      "        (\u001b[94m1\u001b[39;49;00m, \u001b[94m5\u001b[39;49;00m, \u001b[33m'\u001b[39;49;00m\u001b[33mYJXYNSL\u001b[39;49;00m\u001b[33m'\u001b[39;49;00m),\n",
      "        (\u001b[94m2\u001b[39;49;00m, \u001b[94m7\u001b[39;49;00m, \u001b[33m'\u001b[39;49;00m\u001b[33mkpmmpjBsA\u001b[39;49;00m\u001b[33m'\u001b[39;49;00m), \u001b[90m#intentionally false example\u001b[39;49;00m\n",
      "        (\u001b[94m3\u001b[39;49;00m, \u001b[94m8\u001b[39;49;00m,\u001b[33m'\u001b[39;49;00m\u001b[33mepG qA qB Aw lqnnqkCtB.\u001b[39;49;00m\u001b[33m'\u001b[39;49;00m)\n",
      "    ])\n",
      "    \u001b[94mdef\u001b[39;49;00m \u001b[92mtest_parametrize\u001b[39;49;00m(words_csv, example, shift, expected):\n",
      "        result = cipher(words_csv.loc[example][\u001b[33m'\u001b[39;49;00m\u001b[33mExtract\u001b[39;49;00m\u001b[33m'\u001b[39;49;00m], shift+\u001b[94m1\u001b[39;49;00m)\n",
      ">       \u001b[94massert\u001b[39;49;00m result == expected\n",
      "\u001b[1m\u001b[31mE       AssertionError: assert 'lqnnqkCtB' == 'kpmmpjBsA'\u001b[0m\n",
      "\u001b[1m\u001b[31mE         - kpmmpjBsA\u001b[0m\n",
      "\u001b[1m\u001b[31mE         + lqnnqkCtB\u001b[0m\n",
      "\n",
      "\u001b[1m\u001b[31mtests/parametrize_bad.py\u001b[0m:18: AssertionError\n",
      "\u001b[31m\u001b[1m________________ test_parametrize[3-8-epG qA qB Aw lqnnqkCtB.] _________________\u001b[0m\n",
      "\n",
      "words_csv =    Example                  Extract\n",
      "0        1                   Python\n",
      "1        2                  TESTING\n",
      "2        3                difficult\n",
      "3        4  Why is it so difficult.\n",
      "example = 3, shift = 8, expected = 'epG qA qB Aw lqnnqkCtB.'\n",
      "\n",
      "    \u001b[37m@pytest\u001b[39;49;00m.mark.parametrize(\u001b[33m\"\u001b[39;49;00m\u001b[33mexample, shift, expected\u001b[39;49;00m\u001b[33m\"\u001b[39;49;00m, [\n",
      "        (\u001b[94m0\u001b[39;49;00m, \u001b[94m4\u001b[39;49;00m, \u001b[33m'\u001b[39;49;00m\u001b[33mTCxlsr\u001b[39;49;00m\u001b[33m'\u001b[39;49;00m),\n",
      "        (\u001b[94m1\u001b[39;49;00m, \u001b[94m5\u001b[39;49;00m, \u001b[33m'\u001b[39;49;00m\u001b[33mYJXYNSL\u001b[39;49;00m\u001b[33m'\u001b[39;49;00m),\n",
      "        (\u001b[94m2\u001b[39;49;00m, \u001b[94m7\u001b[39;49;00m, \u001b[33m'\u001b[39;49;00m\u001b[33mkpmmpjBsA\u001b[39;49;00m\u001b[33m'\u001b[39;49;00m), \u001b[90m#intentionally false example\u001b[39;49;00m\n",
      "        (\u001b[94m3\u001b[39;49;00m, \u001b[94m8\u001b[39;49;00m,\u001b[33m'\u001b[39;49;00m\u001b[33mepG qA qB Aw lqnnqkCtB.\u001b[39;49;00m\u001b[33m'\u001b[39;49;00m)\n",
      "    ])\n",
      "    \u001b[94mdef\u001b[39;49;00m \u001b[92mtest_parametrize\u001b[39;49;00m(words_csv, example, shift, expected):\n",
      "        result = cipher(words_csv.loc[example][\u001b[33m'\u001b[39;49;00m\u001b[33mExtract\u001b[39;49;00m\u001b[33m'\u001b[39;49;00m], shift+\u001b[94m1\u001b[39;49;00m)\n",
      ">       \u001b[94massert\u001b[39;49;00m result == expected\n",
      "\u001b[1m\u001b[31mE       AssertionError: assert 'fqH rB rC Bx mroorlDuC.' == 'epG qA qB Aw lqnnqkCtB.'\u001b[0m\n",
      "\u001b[1m\u001b[31mE         - epG qA qB Aw lqnnqkCtB.\u001b[0m\n",
      "\u001b[1m\u001b[31mE         + fqH rB rC Bx mroorlDuC.\u001b[0m\n",
      "\n",
      "\u001b[1m\u001b[31mtests/parametrize_bad.py\u001b[0m:18: AssertionError\n",
      "=========================== short test summary info ============================\n",
      "FAILED tests/parametrize_bad.py::test_parametrize[0-4-TCxlsr] - AssertionErro...\n",
      "FAILED tests/parametrize_bad.py::test_parametrize[1-5-YJXYNSL] - AssertionErr...\n",
      "FAILED tests/parametrize_bad.py::test_parametrize[2-7-kpmmpjBsA] - AssertionE...\n",
      "FAILED tests/parametrize_bad.py::test_parametrize[3-8-epG qA qB Aw lqnnqkCtB.]\n",
      "\u001b[31m============================== \u001b[31m\u001b[1m4 failed\u001b[0m\u001b[31m in 0.35s\u001b[0m\u001b[31m ===============================\u001b[0m\n"
     ]
    }
   ],
   "source": [
    "!pytest -vv tests/parametrize_bad.py"
   ]
  },
  {
   "cell_type": "markdown",
   "metadata": {},
   "source": [
    "## G"
   ]
  },
  {
   "cell_type": "markdown",
   "metadata": {},
   "source": [
    "Lastly, we just need to do an integration test. This can be easily done by just setting up another parametrize. The test itself is also fairly straightforward. Simply feed the string example into the cipher to be encrypted, and then feed that encryption output to the decryption setting. If all the internal functionality is working as expected, then the final output should equal the string from the parametrization. "
   ]
  },
  {
   "cell_type": "code",
   "execution_count": 18,
   "metadata": {},
   "outputs": [],
   "source": [
    "@pytest.mark.parametrize(\"example, shift\", [\n",
    "    ('It', 1),\n",
    "    ('was', 2),\n",
    "    ('the', 3),\n",
    "    ('best', 4),\n",
    "    ('of', 5),\n",
    "    ('times', 6),\n",
    "    ('it', 7),\n",
    "    ('was', 8),\n",
    "    ('the', 9),\n",
    "    ('worst', 10),\n",
    "    ('of', 11),\n",
    "    ('times', 12)\n",
    "])\n",
    "\n",
    "def test_integration(example, shift):\n",
    "    encrypt = cipher(example, shift, encrypt=True)\n",
    "    decrypt = cipher(encrypt, shift, encrypt=False)\n",
    "    assert decrypt == example\n"
   ]
  },
  {
   "cell_type": "code",
   "execution_count": 29,
   "metadata": {},
   "outputs": [
    {
     "name": "stdout",
     "output_type": "stream",
     "text": [
      "\u001b[1m============================= test session starts ==============================\u001b[0m\n",
      "platform darwin -- Python 3.9.1, pytest-7.1.3, pluggy-1.0.0 -- /Users/jacksonrudoff/.pyenv/versions/3.9.1/bin/python3\n",
      "cachedir: .pytest_cache\n",
      "rootdir: /Users/jacksonrudoff/Documents/QMSS/Fall_2022/mds_course/Rudoff_Jackson/hw06\n",
      "plugins: Faker-15.0.0\n",
      "collected 12 items                                                             \u001b[0m\n",
      "\n",
      "tests/parametrize.py::test_integration[It-1] \u001b[32mPASSED\u001b[0m\u001b[32m                      [  8%]\u001b[0m\n",
      "tests/parametrize.py::test_integration[was-2] \u001b[32mPASSED\u001b[0m\u001b[32m                     [ 16%]\u001b[0m\n",
      "tests/parametrize.py::test_integration[the-3] \u001b[32mPASSED\u001b[0m\u001b[32m                     [ 25%]\u001b[0m\n",
      "tests/parametrize.py::test_integration[best-4] \u001b[32mPASSED\u001b[0m\u001b[32m                    [ 33%]\u001b[0m\n",
      "tests/parametrize.py::test_integration[of-5] \u001b[32mPASSED\u001b[0m\u001b[32m                      [ 41%]\u001b[0m\n",
      "tests/parametrize.py::test_integration[times-6] \u001b[32mPASSED\u001b[0m\u001b[32m                   [ 50%]\u001b[0m\n",
      "tests/parametrize.py::test_integration[it-7] \u001b[32mPASSED\u001b[0m\u001b[32m                      [ 58%]\u001b[0m\n",
      "tests/parametrize.py::test_integration[was-8] \u001b[32mPASSED\u001b[0m\u001b[32m                     [ 66%]\u001b[0m\n",
      "tests/parametrize.py::test_integration[the-9] \u001b[32mPASSED\u001b[0m\u001b[32m                     [ 75%]\u001b[0m\n",
      "tests/parametrize.py::test_integration[worst-10] \u001b[32mPASSED\u001b[0m\u001b[32m                  [ 83%]\u001b[0m\n",
      "tests/parametrize.py::test_integration[of-11] \u001b[32mPASSED\u001b[0m\u001b[32m                     [ 91%]\u001b[0m\n",
      "tests/parametrize.py::test_integration[times-12] \u001b[32mPASSED\u001b[0m\u001b[32m                  [100%]\u001b[0m\n",
      "\n",
      "\u001b[32m============================== \u001b[32m\u001b[1m12 passed\u001b[0m\u001b[32m in 0.25s\u001b[0m\u001b[32m ==============================\u001b[0m\n"
     ]
    }
   ],
   "source": [
    "!pytest -vv tests/parametrize.py::test_integration"
   ]
  }
 ],
 "metadata": {
  "kernelspec": {
   "display_name": "Python 3.9.1 64-bit ('3.9.1')",
   "language": "python",
   "name": "python3"
  },
  "language_info": {
   "codemirror_mode": {
    "name": "ipython",
    "version": 3
   },
   "file_extension": ".py",
   "mimetype": "text/x-python",
   "name": "python",
   "nbconvert_exporter": "python",
   "pygments_lexer": "ipython3",
   "version": "3.9.1"
  },
  "orig_nbformat": 4,
  "vscode": {
   "interpreter": {
    "hash": "27de0925cacb228730def3d8c8fd69bf2d18c5fc3973c732ee3fd09f66da4906"
   }
  }
 },
 "nbformat": 4,
 "nbformat_minor": 2
}
