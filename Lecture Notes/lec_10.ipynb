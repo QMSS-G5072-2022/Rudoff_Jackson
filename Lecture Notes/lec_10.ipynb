{
 "cells": [
  {
   "cell_type": "markdown",
   "metadata": {},
   "source": [
    "## Lecture Notes, Nov 9th\n",
    "\n",
    "\n",
    "- Think carefully about what your project does. What is its unique purpose? What do you wish there was an api for? "
   ]
  },
  {
   "cell_type": "markdown",
   "metadata": {},
   "source": [
    "#### Web Scraping\n",
    "\n",
    "\n",
    "Scraping = taking data when there is no API\n",
    "\n",
    "Basically, loading page as user and storing it. Instead of accessing the website's computer-friendly data, you're taking it from the human-interfacing side.\n",
    "\n",
    "**Make sure you have permission**\n",
    "\n",
    "Idea: fill_my_ballot\n",
    "\n",
    "Pulls data on elections based on region, takes your preferences, spits out a complete ticket. \n",
    "\n",
    "Idea: what_should_I_read\n",
    "\n",
    "pulls from new york times book reviews based on genre preference, length, etc.\n",
    "\n",
    "Idea: trumpified\n",
    "\n",
    "Uses 538 data to measure how trump affected the electoral viability of your district/state"
   ]
  }
 ],
 "metadata": {
  "kernelspec": {
   "display_name": "Python 3.9.1 64-bit ('3.9.1')",
   "language": "python",
   "name": "python3"
  },
  "language_info": {
   "name": "python",
   "version": "3.9.1"
  },
  "orig_nbformat": 4,
  "vscode": {
   "interpreter": {
    "hash": "df3f9ace5f9d3e6d9fbf00729c359187738d99e91533dbefa9173227466def17"
   }
  }
 },
 "nbformat": 4,
 "nbformat_minor": 2
}
