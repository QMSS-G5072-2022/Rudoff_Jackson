{
 "cells": [
  {
   "cell_type": "markdown",
   "metadata": {},
   "source": [
    "## Lecture 4\n",
    "\n",
    "#### Functions & Stuff"
   ]
  },
  {
   "cell_type": "code",
   "execution_count": 2,
   "metadata": {},
   "outputs": [],
   "source": [
    "import pandas as pd\n",
    "import numpy as np"
   ]
  },
  {
   "cell_type": "markdown",
   "metadata": {},
   "source": [
    "Don't give other people your code and stuff, if you have a question, just post it privately."
   ]
  },
  {
   "cell_type": "code",
   "execution_count": 3,
   "metadata": {},
   "outputs": [
    {
     "name": "stdout",
     "output_type": "stream",
     "text": [
      "<class 'str'>\n"
     ]
    }
   ],
   "source": [
    "#Built ins, 67 in all\n",
    "\n",
    "x = str(5)\n",
    "print(type(x))"
   ]
  },
  {
   "cell_type": "code",
   "execution_count": 4,
   "metadata": {},
   "outputs": [
    {
     "name": "stdout",
     "output_type": "stream",
     "text": [
      "Help on built-in function abs in module builtins:\n",
      "\n",
      "abs(x, /)\n",
      "    Return the absolute value of the argument.\n",
      "\n"
     ]
    }
   ],
   "source": [
    "#Help function\n",
    "\n",
    "help(abs) # gives info about how to use it"
   ]
  },
  {
   "cell_type": "markdown",
   "metadata": {},
   "source": [
    "#### Define your own function"
   ]
  },
  {
   "cell_type": "code",
   "execution_count": 2,
   "metadata": {},
   "outputs": [
    {
     "name": "stdout",
     "output_type": "stream",
     "text": [
      "27\n"
     ]
    }
   ],
   "source": [
    "def cube(value): #body & parameter\n",
    "    result = value**3 #body\n",
    "    print(result) # <--- indentation matters\n",
    "\n",
    "cube(3)"
   ]
  },
  {
   "cell_type": "markdown",
   "metadata": {},
   "source": [
    "**Args** = what you pass to the function\n",
    "\n",
    "**Parameters** = actual expression within the function"
   ]
  },
  {
   "cell_type": "markdown",
   "metadata": {},
   "source": [
    "How do you keep what the value returns? Have to include a statement. If you don't, it isn't stored anywhere. "
   ]
  },
  {
   "cell_type": "code",
   "execution_count": 3,
   "metadata": {},
   "outputs": [
    {
     "name": "stdout",
     "output_type": "stream",
     "text": [
      "27\n"
     ]
    },
    {
     "data": {
      "text/plain": [
       "NoneType"
      ]
     },
     "execution_count": 3,
     "metadata": {},
     "output_type": "execute_result"
    }
   ],
   "source": [
    "y = cube(3)\n",
    "type(y) # only prints the result"
   ]
  },
  {
   "cell_type": "code",
   "execution_count": 4,
   "metadata": {},
   "outputs": [
    {
     "name": "stdout",
     "output_type": "stream",
     "text": [
      "27\n"
     ]
    }
   ],
   "source": [
    "def cube_return(value):\n",
    "    result = value**3\n",
    "    return(result)\n",
    "\n",
    "y = cube(3) # now it will asign"
   ]
  },
  {
   "cell_type": "markdown",
   "metadata": {},
   "source": [
    "Returns can go anywhere. In a sequence of **ifs()** it can **return** at any stage of the logic. \n"
   ]
  },
  {
   "cell_type": "markdown",
   "metadata": {},
   "source": [
    "\n",
    "#### When should you write a function?\n",
    "\n",
    "When you're copying and pasting the same thing, just make it into a function."
   ]
  },
  {
   "cell_type": "markdown",
   "metadata": {},
   "source": [
    "For example, with a wack DF where you want scale some values. "
   ]
  },
  {
   "cell_type": "markdown",
   "metadata": {},
   "source": [
    "FIND PACKAGE THAT REFORMATS CODE TO CERTAIN STYLE"
   ]
  },
  {
   "cell_type": "code",
   "execution_count": null,
   "metadata": {},
   "outputs": [],
   "source": [
    "def rescale(s):\n",
    "    return(s-min(s)) / (max(s) - min(s)) #then you can just pass columns io do the operation on each colummn in-line\n"
   ]
  },
  {
   "cell_type": "markdown",
   "metadata": {},
   "source": [
    "#### Function Scoping\n",
    "\n",
    "\n",
    "**Scope** refers to the area of a program in which you can unambiguously access that name. Languages use scoping to avoid having functions and objects step on one another. \n",
    "\n",
    "\n",
    "**Namespace** is a dictionary, mapping names to values.\n",
    "**Scope** defines which namespaces will be looked in and in what order. \n",
    "\n",
    "This is why variables inside a function are not \"visible\" outside the function."
   ]
  },
  {
   "cell_type": "code",
   "execution_count": 5,
   "metadata": {},
   "outputs": [],
   "source": [
    "p1 = 5\n",
    "\n",
    "def foo(p1):\n",
    "    print(p1)"
   ]
  },
  {
   "cell_type": "code",
   "execution_count": 6,
   "metadata": {},
   "outputs": [
    {
     "name": "stdout",
     "output_type": "stream",
     "text": [
      "27\n"
     ]
    }
   ],
   "source": [
    "foo(27)"
   ]
  },
  {
   "cell_type": "code",
   "execution_count": 7,
   "metadata": {},
   "outputs": [
    {
     "name": "stdout",
     "output_type": "stream",
     "text": [
      "5\n"
     ]
    }
   ],
   "source": [
    "print(p1)"
   ]
  },
  {
   "cell_type": "markdown",
   "metadata": {},
   "source": [
    "But variables outsde are accessible:"
   ]
  },
  {
   "cell_type": "code",
   "execution_count": 19,
   "metadata": {},
   "outputs": [],
   "source": [
    "some_int = 42\n",
    "def foo():\n",
    "    print(some_int)"
   ]
  },
  {
   "cell_type": "code",
   "execution_count": 20,
   "metadata": {},
   "outputs": [
    {
     "name": "stdout",
     "output_type": "stream",
     "text": [
      "42\n"
     ]
    }
   ],
   "source": [
    "foo()"
   ]
  },
  {
   "cell_type": "code",
   "execution_count": 21,
   "metadata": {},
   "outputs": [
    {
     "data": {
      "text/plain": [
       "23"
      ]
     },
     "execution_count": 21,
     "metadata": {},
     "output_type": "execute_result"
    }
   ],
   "source": [
    "some_int = 23\n",
    "some_int"
   ]
  },
  {
   "cell_type": "code",
   "execution_count": 22,
   "metadata": {},
   "outputs": [
    {
     "name": "stdout",
     "output_type": "stream",
     "text": [
      "23\n"
     ]
    }
   ],
   "source": [
    "foo()"
   ]
  },
  {
   "cell_type": "markdown",
   "metadata": {},
   "source": [
    "Don't rely on mutable variables outside the function namespace. Since this can change at somepoint, your function is dependent on something you could mess up. \n",
    "\n",
    "You can also give a local variable a global name.\n",
    "\n",
    "\n",
    "#### How should you write functions\n",
    "\n",
    "Start with what works, add temp vars. in, and then work from there. Be sure it's clear what your function returns. \n",
    "\n",
    "Try to make it intelligible for others!!! It should be readable by anyone else who has to see it. "
   ]
  },
  {
   "cell_type": "markdown",
   "metadata": {},
   "source": [
    "### ARGS AND KWARGS"
   ]
  },
  {
   "cell_type": "markdown",
   "metadata": {},
   "source": [
    "#### Keyword versus Postional Arguments\n",
    "\n",
    "\n",
    "* In python, you can rely on the position or its name"
   ]
  },
  {
   "cell_type": "markdown",
   "metadata": {},
   "source": [
    "This is where default arguments come in. You can have defined values for when something is missing during the arg phase."
   ]
  },
  {
   "cell_type": "code",
   "execution_count": 24,
   "metadata": {},
   "outputs": [
    {
     "name": "stdout",
     "output_type": "stream",
     "text": [
      "a[2], b[2], c[3]\n"
     ]
    }
   ],
   "source": [
    "def foo(a, b=2, c=3):\n",
    "    print(\"a[{}], b[{}], c[{}]\".format(a,b,c))\n",
    "\n",
    "foo(2)"
   ]
  },
  {
   "cell_type": "markdown",
   "metadata": {},
   "source": [
    "#### Variable Arguments\n",
    "\n",
    "\n",
    "Sometimes we want functons with a varying amount of of arguments. You can use tuples and dictionaries to get around this.\n",
    "\n",
    "If you put a function in a function, you can feed it precipating arguments with *args and *kwargs"
   ]
  },
  {
   "cell_type": "markdown",
   "metadata": {},
   "source": [
    "#### Side Effects\n",
    "\n",
    "\n",
    "Anything affecting the user that doesn't come from your **return**\n",
    "\n",
    "Ex. **print()**"
   ]
  },
  {
   "cell_type": "markdown",
   "metadata": {},
   "source": [
    "#### Mutable Objects\n",
    "\n",
    "Things that you can continuously add to\n",
    "\n",
    "* Lists\n",
    "* Dictionaries"
   ]
  },
  {
   "cell_type": "markdown",
   "metadata": {},
   "source": []
  }
 ],
 "metadata": {
  "kernelspec": {
   "display_name": "Python 3.9.1 64-bit ('3.9.1')",
   "language": "python",
   "name": "python3"
  },
  "language_info": {
   "codemirror_mode": {
    "name": "ipython",
    "version": 3
   },
   "file_extension": ".py",
   "mimetype": "text/x-python",
   "name": "python",
   "nbconvert_exporter": "python",
   "pygments_lexer": "ipython3",
   "version": "3.9.1"
  },
  "orig_nbformat": 4,
  "vscode": {
   "interpreter": {
    "hash": "27de0925cacb228730def3d8c8fd69bf2d18c5fc3973c732ee3fd09f66da4906"
   }
  }
 },
 "nbformat": 4,
 "nbformat_minor": 2
}
