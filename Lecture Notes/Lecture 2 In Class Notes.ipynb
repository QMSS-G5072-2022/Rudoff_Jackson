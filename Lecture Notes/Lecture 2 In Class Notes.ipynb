{
 "cells": [
  {
   "cell_type": "markdown",
   "id": "e03ab0f7",
   "metadata": {},
   "source": [
    "## Lecture 2 Notes \n",
    "\n",
    "*September 19, 2022*"
   ]
  },
  {
   "cell_type": "markdown",
   "id": "1d11174c",
   "metadata": {},
   "source": [
    "#### First, Some Data Structures\n",
    "\n",
    "Just talking about some of the basics.\n",
    "\n",
    "First, a list:"
   ]
  },
  {
   "cell_type": "code",
   "execution_count": 2,
   "id": "7c99b708",
   "metadata": {
    "scrolled": true
   },
   "outputs": [
    {
     "name": "stdout",
     "output_type": "stream",
     "text": [
      "0\n"
     ]
    }
   ],
   "source": [
    "my_list = [] # he rarely uses that unless initializing something\n",
    "my_list = list() # he likes to call things what they are\n",
    "\n",
    "print(len(my_list))"
   ]
  },
  {
   "cell_type": "code",
   "execution_count": 9,
   "id": "cc87ea31",
   "metadata": {},
   "outputs": [
    {
     "data": {
      "text/plain": [
       "[66, 66, 66, 2, 1, 1, 1]"
      ]
     },
     "execution_count": 9,
     "metadata": {},
     "output_type": "execute_result"
    }
   ],
   "source": [
    "# 'append' is how you add things to lists\n",
    "\n",
    "my_list.append(66)\n",
    "\n",
    "\n",
    "# Indexing starts at 0, which is why this works\n",
    "\n",
    "my_list[-1]\n",
    "\n",
    "my_list[]"
   ]
  },
  {
   "cell_type": "code",
   "execution_count": 10,
   "id": "5fc24d8a",
   "metadata": {
    "scrolled": true
   },
   "outputs": [
    {
     "data": {
      "text/plain": [
       "[66, 66, 66, 2, 1, 1, 1]"
      ]
     },
     "execution_count": 10,
     "metadata": {},
     "output_type": "execute_result"
    }
   ],
   "source": [
    "# Indexing starts at 0, which is why this works\n",
    "\n",
    "my_list[-1]\n",
    "\n",
    "my_list[::-1] # reverse the list"
   ]
  },
  {
   "cell_type": "code",
   "execution_count": 12,
   "id": "b1d16d97",
   "metadata": {},
   "outputs": [],
   "source": [
    "# be careful with variables\n",
    "\n",
    "my_copy_list = my_list # this will always be equal to one another\n",
    "\n",
    "proper_copy = my_list.copy() # this is a new copy\n"
   ]
  },
  {
   "cell_type": "code",
   "execution_count": 16,
   "id": "106a2043",
   "metadata": {},
   "outputs": [
    {
     "data": {
      "text/plain": [
       "2"
      ]
     },
     "execution_count": 16,
     "metadata": {},
     "output_type": "execute_result"
    }
   ],
   "source": [
    "new_list = [32, 'columbia', 3.14, False, 0]\n",
    "\n",
    "new_list.count(0)"
   ]
  },
  {
   "cell_type": "code",
   "execution_count": 14,
   "id": "805e54cb",
   "metadata": {},
   "outputs": [
    {
     "data": {
      "text/plain": [
       "3"
      ]
     },
     "execution_count": 14,
     "metadata": {},
     "output_type": "execute_result"
    }
   ],
   "source": [
    "# you can count items in your list\n",
    "\n",
    "my_list.count(66)"
   ]
  },
  {
   "cell_type": "code",
   "execution_count": 19,
   "id": "b98f4d85",
   "metadata": {},
   "outputs": [],
   "source": [
    "#sets\n",
    "\n",
    "my_set = {}\n",
    "my_set = set()"
   ]
  },
  {
   "cell_type": "code",
   "execution_count": 23,
   "id": "8ab5290b",
   "metadata": {},
   "outputs": [
    {
     "data": {
      "text/plain": [
       "{'New York', 'alaska', 'new jersey', 'new york'}"
      ]
     },
     "execution_count": 23,
     "metadata": {},
     "output_type": "execute_result"
    }
   ],
   "source": [
    "my_set.add(\"new york\")\n",
    "my_set.add(\"new york\")\n",
    "my_set.add(\"new jersey\")\n",
    "my_set.add(\"alaska\")\n",
    "\n",
    "# sets only care about values independent of frequency\n",
    "\n",
    "my_set\n",
    "\n",
    "# change string slightly\n",
    "\n",
    "my_set.add('New York')\n",
    "\n",
    "my_set"
   ]
  },
  {
   "cell_type": "code",
   "execution_count": 24,
   "id": "22cc0bdf",
   "metadata": {},
   "outputs": [],
   "source": [
    "my_set_a = {\"new york\", \"20-25\", \"audi\", \"fly fish\"}\n",
    "my_set_b = {\"new jersey\", '20-25', \"bmw\", \"swim\"}"
   ]
  },
  {
   "cell_type": "code",
   "execution_count": 27,
   "id": "6e66ffda",
   "metadata": {},
   "outputs": [
    {
     "data": {
      "text/plain": [
       "{'20-25', 'audi', 'bmw', 'fly fish', 'new jersey', 'new york', 'swim'}"
      ]
     },
     "execution_count": 27,
     "metadata": {},
     "output_type": "execute_result"
    }
   ],
   "source": [
    "# union\n",
    "\n",
    "union_fun = my_set_a.union(my_set_b)\n",
    "\n",
    "union_fun"
   ]
  },
  {
   "cell_type": "code",
   "execution_count": 28,
   "id": "06c9164f",
   "metadata": {},
   "outputs": [
    {
     "data": {
      "text/plain": [
       "{'20-25'}"
      ]
     },
     "execution_count": 28,
     "metadata": {},
     "output_type": "execute_result"
    }
   ],
   "source": [
    "# intersection find the shared value, order doesn't matter\n",
    "\n",
    "intersection_fun = my_set_a.intersection(my_set_b)\n",
    "intersection_fun"
   ]
  },
  {
   "cell_type": "code",
   "execution_count": 29,
   "id": "5ec36e0a",
   "metadata": {},
   "outputs": [
    {
     "data": {
      "text/plain": [
       "{'audi', 'fly fish', 'new york'}"
      ]
     },
     "execution_count": 29,
     "metadata": {},
     "output_type": "execute_result"
    }
   ],
   "source": [
    "# difference tells us what the item attached to a method DOESN'T have compared to the parenthetical\n",
    "\n",
    "difference_fun = my_set_a.difference(my_set_b) # ORDER MATTERS\n",
    "difference_fun"
   ]
  },
  {
   "cell_type": "code",
   "execution_count": 30,
   "id": "24e7328d",
   "metadata": {},
   "outputs": [
    {
     "data": {
      "text/plain": [
       "{'audi', 'bmw', 'fly fish', 'new jersey', 'new york', 'swim'}"
      ]
     },
     "execution_count": 30,
     "metadata": {},
     "output_type": "execute_result"
    }
   ],
   "source": [
    "symmetric_fun = my_set_a.symmetric_difference(my_set_b) # everything they don't share\n",
    "symmetric_fun"
   ]
  },
  {
   "cell_type": "code",
   "execution_count": null,
   "id": "057d7d47",
   "metadata": {},
   "outputs": [],
   "source": [
    "# Dictionary\n",
    "# key, value pair\n",
    "\n",
    "dictionary_fun = dict()"
   ]
  },
  {
   "cell_type": "markdown",
   "id": "560242ba",
   "metadata": {},
   "source": [
    "#### Some Loop Stuff"
   ]
  },
  {
   "cell_type": "code",
   "execution_count": 41,
   "id": "de0593b4",
   "metadata": {},
   "outputs": [],
   "source": [
    "newsradio = [\"I'm bill mcneil\", 'on crack', 'I like boys.']"
   ]
  },
  {
   "cell_type": "code",
   "execution_count": 43,
   "id": "18752ad8",
   "metadata": {},
   "outputs": [
    {
     "name": "stdout",
     "output_type": "stream",
     "text": [
      "I'm bill mcneil\n",
      "on crack\n",
      "I like boys.\n"
     ]
    }
   ],
   "source": [
    "for baseballisback in newsradio:\n",
    "    print(baseballisback)"
   ]
  },
  {
   "cell_type": "code",
   "execution_count": 36,
   "id": "bdd55391",
   "metadata": {},
   "outputs": [
    {
     "name": "stdout",
     "output_type": "stream",
     "text": [
      "\n",
      "I am dumb \n",
      "I am dumb I am dumb \n",
      "I am dumb I am dumb I am dumb \n",
      "I am dumb I am dumb I am dumb I am dumb \n",
      "I am dumb I am dumb I am dumb I am dumb I am dumb \n",
      "I am dumb I am dumb I am dumb I am dumb I am dumb I am dumb \n",
      "I am dumb I am dumb I am dumb I am dumb I am dumb I am dumb I am dumb \n",
      "I am dumb I am dumb I am dumb I am dumb I am dumb I am dumb I am dumb I am dumb \n",
      "I am dumb I am dumb I am dumb I am dumb I am dumb I am dumb I am dumb I am dumb I am dumb \n"
     ]
    }
   ],
   "source": [
    "#Looping statements\n",
    "\n",
    "for i in range(0, 10):\n",
    "    print(i)"
   ]
  },
  {
   "cell_type": "code",
   "execution_count": 39,
   "id": "0ba1a9f3",
   "metadata": {},
   "outputs": [
    {
     "name": "stdout",
     "output_type": "stream",
     "text": [
      "0\n",
      "1\n",
      "2\n",
      "3\n",
      "4\n",
      "5\n",
      "6\n",
      "7\n",
      "8\n",
      "9\n"
     ]
    }
   ],
   "source": [
    "cnt = 0\n",
    "while cnt < 10:\n",
    "    #cnt = cnt + 1\n",
    "    print(cnt)\n",
    "    cnt += 1 #cooler way to do it \n",
    "    "
   ]
  },
  {
   "cell_type": "code",
   "execution_count": 44,
   "id": "7be728c6",
   "metadata": {},
   "outputs": [],
   "source": [
    "my_list_fun = [\"a\", \"b\", \"c\", \"d\", \"e\"]"
   ]
  },
  {
   "cell_type": "code",
   "execution_count": 45,
   "id": "98b3aef8",
   "metadata": {},
   "outputs": [
    {
     "name": "stdout",
     "output_type": "stream",
     "text": [
      "a\n",
      "b\n",
      "c\n",
      "d\n",
      "e\n"
     ]
    }
   ],
   "source": [
    "for djfkj in my_list_fun:\n",
    "    print(djfkj)\n"
   ]
  },
  {
   "cell_type": "code",
   "execution_count": 46,
   "id": "d1a63984",
   "metadata": {},
   "outputs": [
    {
     "name": "stdout",
     "output_type": "stream",
     "text": [
      "a\n",
      "b\n",
      "c\n",
      "d\n",
      "e\n"
     ]
    }
   ],
   "source": [
    "concat_fun = list()\n",
    "for djfkj in my_list_fun:\n",
    "    concat_fun.append(djfkj + \" fun\")\n",
    "    print(djfkj)"
   ]
  },
  {
   "cell_type": "code",
   "execution_count": 47,
   "id": "b9add1a5",
   "metadata": {
    "scrolled": true
   },
   "outputs": [
    {
     "data": {
      "text/plain": [
       "['afun', 'bfun', 'cfun', 'dfun', 'efun']"
      ]
     },
     "execution_count": 47,
     "metadata": {},
     "output_type": "execute_result"
    }
   ],
   "source": [
    "concat_fun"
   ]
  },
  {
   "cell_type": "code",
   "execution_count": 48,
   "id": "8fd5ff60",
   "metadata": {},
   "outputs": [],
   "source": [
    "sentence_fun = \"the cat ran up the hill after the dog who beat up cat?\""
   ]
  },
  {
   "cell_type": "code",
   "execution_count": 51,
   "id": "864a43bb",
   "metadata": {},
   "outputs": [
    {
     "data": {
      "text/plain": [
       "['the',\n",
       " 'cat',\n",
       " 'ran',\n",
       " 'up',\n",
       " 'the',\n",
       " 'hill',\n",
       " 'after',\n",
       " 'the',\n",
       " 'dog',\n",
       " 'who',\n",
       " 'beat',\n",
       " 'up',\n",
       " 'cat?']"
      ]
     },
     "execution_count": 51,
     "metadata": {},
     "output_type": "execute_result"
    }
   ],
   "source": [
    "# tokenize (make individual words)\n",
    "token_fun = sentence_fun.split(' ')\n",
    "token_fun"
   ]
  },
  {
   "cell_type": "markdown",
   "id": "75975dda",
   "metadata": {},
   "source": [
    "#### In-Class Exercise"
   ]
  },
  {
   "cell_type": "markdown",
   "id": "3378a926",
   "metadata": {},
   "source": [
    "*Create a dictionary where the keys are 'UNIQUE' tokens and the values are the COUNT of the number of times that token showed up in the list*"
   ]
  },
  {
   "cell_type": "code",
   "execution_count": 71,
   "id": "cd51349c",
   "metadata": {},
   "outputs": [
    {
     "name": "stdout",
     "output_type": "stream",
     "text": [
      "{'dog': 1, 'the': 3, 'ran': 1, 'cat': 1, 'cat?': 1, 'after': 1, 'up': 2, 'who': 1, 'hill': 1, 'beat': 1}\n"
     ]
    }
   ],
   "source": [
    "word_freq  = dict()\n",
    "my_set = set(token_fun)\n",
    "for word in my_set:\n",
    "    word_freq[word] = token_fun.count(word) # it's smart enough to figure this out\n",
    "    \n",
    "print(word_freq)"
   ]
  },
  {
   "cell_type": "code",
   "execution_count": 78,
   "id": "f1514f61",
   "metadata": {},
   "outputs": [
    {
     "name": "stdout",
     "output_type": "stream",
     "text": [
      "{'dog': 1, 'the': 3, 'ran': 1, 'cat': 1, 'cat?': 1, 'after': 1, 'up': 2, 'who': 1, 'hill': 1, 'beat': 1}\n"
     ]
    }
   ],
   "source": [
    "#create function whose input is a corpus\n",
    "#function needs to output dictionary\n",
    "\n",
    "def word_reader(corpus):\n",
    "    word_freq = dict()\n",
    "    token_tmp = corpus.split(' ')\n",
    "    \n",
    "    for word in set(token_tmp):\n",
    "        word_freq[word] = token_tmp.count(word)\n",
    "    \n",
    "    return word_freq\n",
    "\n",
    "print(word_freq)"
   ]
  },
  {
   "cell_type": "code",
   "execution_count": 81,
   "id": "4bc4c5bc",
   "metadata": {},
   "outputs": [
    {
     "name": "stdout",
     "output_type": "stream",
     "text": [
      "{'dog': 2, 'the': 2, 'cat': 1, 'meow': 1}\n"
     ]
    }
   ],
   "source": [
    "test = word_reader(\"the the cat dog dog meow\")\n",
    "print(test)"
   ]
  },
  {
   "cell_type": "markdown",
   "id": "d30af551",
   "metadata": {},
   "source": [
    "#### Doing Some Expressions"
   ]
  },
  {
   "cell_type": "code",
   "execution_count": 82,
   "id": "1e6703ba",
   "metadata": {},
   "outputs": [],
   "source": [
    "sentence_blah = 'a b c d e f q h i j k'\n",
    "\n",
    "word_freq_lc = [word+\" fun\" for word in sentence_blah.split()]"
   ]
  },
  {
   "cell_type": "code",
   "execution_count": 83,
   "id": "5c3ec2aa",
   "metadata": {},
   "outputs": [
    {
     "data": {
      "text/plain": [
       "['a fun',\n",
       " 'b fun',\n",
       " 'c fun',\n",
       " 'd fun',\n",
       " 'e fun',\n",
       " 'f fun',\n",
       " 'q fun',\n",
       " 'h fun',\n",
       " 'i fun',\n",
       " 'j fun',\n",
       " 'k fun']"
      ]
     },
     "execution_count": 83,
     "metadata": {},
     "output_type": "execute_result"
    }
   ],
   "source": [
    "word_freq_lc"
   ]
  },
  {
   "cell_type": "code",
   "execution_count": 4,
   "id": "fe0953df",
   "metadata": {},
   "outputs": [
    {
     "data": {
      "text/plain": [
       "{'b': 1,\n",
       " 'f': 1,\n",
       " 'e': 1,\n",
       " 'i': 1,\n",
       " 'c': 1,\n",
       " 'q': 1,\n",
       " 'j': 1,\n",
       " 'a': 1,\n",
       " ' ': 10,\n",
       " 'd': 1,\n",
       " 'k': 1,\n",
       " 'h': 1}"
      ]
     },
     "execution_count": 4,
     "metadata": {},
     "output_type": "execute_result"
    }
   ],
   "source": [
    "sentence_blah = 'a b c d e f q h i j k'\n",
    "dict_fun = {word:sentence_blah.count(word) for word in set(sentence_blah)}\n",
    "\n",
    "dict_fun"
   ]
  },
  {
   "cell_type": "code",
   "execution_count": 2,
   "id": "ac9622c3",
   "metadata": {},
   "outputs": [],
   "source": [
    "import pandas as pd"
   ]
  },
  {
   "cell_type": "code",
   "execution_count": 92,
   "id": "cb0a4414",
   "metadata": {},
   "outputs": [],
   "source": [
    "# check notes for example of for loop with dictionary\n",
    "my_pd = pd.DataFrame()\n",
    "\n",
    "for w in dict_fun.keys():\n",
    "    "
   ]
  },
  {
   "cell_type": "code",
   "execution_count": 102,
   "id": "9baaba28",
   "metadata": {},
   "outputs": [],
   "source": [
    "import string\n",
    "import random"
   ]
  },
  {
   "cell_type": "code",
   "execution_count": 117,
   "id": "1002fb01",
   "metadata": {},
   "outputs": [],
   "source": [
    "test1 = 'Spend some time away Getting ready for the day youre born again Spend some time alone Understand that soon youll run with better men Alone again Alone again Alone again Alone again Alone No use looking out Its within that brings that lonely feeling Understand that when you leave here, you ll be clear Among the better men'"
   ]
  },
  {
   "cell_type": "code",
   "execution_count": 109,
   "id": "cbd156c5",
   "metadata": {},
   "outputs": [
    {
     "name": "stdout",
     "output_type": "stream",
     "text": [
      "{'h': 1, 'e': 3, 'n': 1, 'g': 3, 'd': 2, 'j': 2, 's': 3, 'o': 1, 'u': 2, 'b': 2, 'r': 3, 'x': 2, 'a': 3, 'c': 2, 'f': 2, 'p': 5, 'y': 4, 'w': 1, 'z': 1, 'i': 2, 'v': 1, 'm': 2, 'k': 2}\n"
     ]
    }
   ],
   "source": [
    "test_dict = dict()\n",
    "for w in test1:\n",
    "    test_dict[w] = test1.count(w)\n",
    "\n",
    "print(test_dict)"
   ]
  },
  {
   "cell_type": "code",
   "execution_count": 149,
   "id": "ccad1208",
   "metadata": {},
   "outputs": [],
   "source": [
    "# try creating ranked word function\n",
    "\n",
    "def ranked_words(wordlist):\n",
    "    freq_dict = dict()\n",
    "    tmp_tokens = wordlist.split()\n",
    "    for w in tmp_tokens:\n",
    "        if tmp_tokens.count(w) > 1 :\n",
    "            freq_dict[w] = tmp_tokens.count(w)\n",
    "            \n",
    "    return freq_dict"
   ]
  },
  {
   "cell_type": "code",
   "execution_count": 150,
   "id": "cdf650ac",
   "metadata": {},
   "outputs": [
    {
     "data": {
      "text/plain": [
       "{'Spend': 2,\n",
       " 'some': 2,\n",
       " 'time': 2,\n",
       " 'the': 2,\n",
       " 'again': 5,\n",
       " 'Understand': 2,\n",
       " 'that': 4,\n",
       " 'better': 2,\n",
       " 'men': 2,\n",
       " 'Alone': 5,\n",
       " 'you': 2}"
      ]
     },
     "execution_count": 150,
     "metadata": {},
     "output_type": "execute_result"
    }
   ],
   "source": [
    "ranked_words(test1)"
   ]
  },
  {
   "cell_type": "code",
   "execution_count": 7,
   "id": "7fb0675b",
   "metadata": {},
   "outputs": [
    {
     "name": "stderr",
     "output_type": "stream",
     "text": [
      "C:\\Users\\Jackson\\AppData\\Local\\Temp\\ipykernel_23104\\1645657426.py:3: FutureWarning: The frame.append method is deprecated and will be removed from pandas in a future version. Use pandas.concat instead.\n",
      "  my_pd = my_pd.append({\"token\": word, \"freq\": dict_fun[word]}, ignore_index=True)\n",
      "C:\\Users\\Jackson\\AppData\\Local\\Temp\\ipykernel_23104\\1645657426.py:3: FutureWarning: The frame.append method is deprecated and will be removed from pandas in a future version. Use pandas.concat instead.\n",
      "  my_pd = my_pd.append({\"token\": word, \"freq\": dict_fun[word]}, ignore_index=True)\n",
      "C:\\Users\\Jackson\\AppData\\Local\\Temp\\ipykernel_23104\\1645657426.py:3: FutureWarning: The frame.append method is deprecated and will be removed from pandas in a future version. Use pandas.concat instead.\n",
      "  my_pd = my_pd.append({\"token\": word, \"freq\": dict_fun[word]}, ignore_index=True)\n",
      "C:\\Users\\Jackson\\AppData\\Local\\Temp\\ipykernel_23104\\1645657426.py:3: FutureWarning: The frame.append method is deprecated and will be removed from pandas in a future version. Use pandas.concat instead.\n",
      "  my_pd = my_pd.append({\"token\": word, \"freq\": dict_fun[word]}, ignore_index=True)\n",
      "C:\\Users\\Jackson\\AppData\\Local\\Temp\\ipykernel_23104\\1645657426.py:3: FutureWarning: The frame.append method is deprecated and will be removed from pandas in a future version. Use pandas.concat instead.\n",
      "  my_pd = my_pd.append({\"token\": word, \"freq\": dict_fun[word]}, ignore_index=True)\n",
      "C:\\Users\\Jackson\\AppData\\Local\\Temp\\ipykernel_23104\\1645657426.py:3: FutureWarning: The frame.append method is deprecated and will be removed from pandas in a future version. Use pandas.concat instead.\n",
      "  my_pd = my_pd.append({\"token\": word, \"freq\": dict_fun[word]}, ignore_index=True)\n",
      "C:\\Users\\Jackson\\AppData\\Local\\Temp\\ipykernel_23104\\1645657426.py:3: FutureWarning: The frame.append method is deprecated and will be removed from pandas in a future version. Use pandas.concat instead.\n",
      "  my_pd = my_pd.append({\"token\": word, \"freq\": dict_fun[word]}, ignore_index=True)\n",
      "C:\\Users\\Jackson\\AppData\\Local\\Temp\\ipykernel_23104\\1645657426.py:3: FutureWarning: The frame.append method is deprecated and will be removed from pandas in a future version. Use pandas.concat instead.\n",
      "  my_pd = my_pd.append({\"token\": word, \"freq\": dict_fun[word]}, ignore_index=True)\n",
      "C:\\Users\\Jackson\\AppData\\Local\\Temp\\ipykernel_23104\\1645657426.py:3: FutureWarning: The frame.append method is deprecated and will be removed from pandas in a future version. Use pandas.concat instead.\n",
      "  my_pd = my_pd.append({\"token\": word, \"freq\": dict_fun[word]}, ignore_index=True)\n",
      "C:\\Users\\Jackson\\AppData\\Local\\Temp\\ipykernel_23104\\1645657426.py:3: FutureWarning: The frame.append method is deprecated and will be removed from pandas in a future version. Use pandas.concat instead.\n",
      "  my_pd = my_pd.append({\"token\": word, \"freq\": dict_fun[word]}, ignore_index=True)\n",
      "C:\\Users\\Jackson\\AppData\\Local\\Temp\\ipykernel_23104\\1645657426.py:3: FutureWarning: The frame.append method is deprecated and will be removed from pandas in a future version. Use pandas.concat instead.\n",
      "  my_pd = my_pd.append({\"token\": word, \"freq\": dict_fun[word]}, ignore_index=True)\n",
      "C:\\Users\\Jackson\\AppData\\Local\\Temp\\ipykernel_23104\\1645657426.py:3: FutureWarning: The frame.append method is deprecated and will be removed from pandas in a future version. Use pandas.concat instead.\n",
      "  my_pd = my_pd.append({\"token\": word, \"freq\": dict_fun[word]}, ignore_index=True)\n"
     ]
    }
   ],
   "source": [
    "my_pd = pd.DataFrame() \n",
    "for word in dict_fun.keys():\n",
    "    my_pd = my_pd.append({\"token\": word, \"freq\": dict_fun[word]}, ignore_index=True)"
   ]
  },
  {
   "cell_type": "code",
   "execution_count": 8,
   "id": "eb56609b",
   "metadata": {},
   "outputs": [
    {
     "data": {
      "text/html": [
       "<div>\n",
       "<style scoped>\n",
       "    .dataframe tbody tr th:only-of-type {\n",
       "        vertical-align: middle;\n",
       "    }\n",
       "\n",
       "    .dataframe tbody tr th {\n",
       "        vertical-align: top;\n",
       "    }\n",
       "\n",
       "    .dataframe thead th {\n",
       "        text-align: right;\n",
       "    }\n",
       "</style>\n",
       "<table border=\"1\" class=\"dataframe\">\n",
       "  <thead>\n",
       "    <tr style=\"text-align: right;\">\n",
       "      <th></th>\n",
       "      <th>token</th>\n",
       "      <th>freq</th>\n",
       "    </tr>\n",
       "  </thead>\n",
       "  <tbody>\n",
       "    <tr>\n",
       "      <th>0</th>\n",
       "      <td>b</td>\n",
       "      <td>1</td>\n",
       "    </tr>\n",
       "    <tr>\n",
       "      <th>1</th>\n",
       "      <td>f</td>\n",
       "      <td>1</td>\n",
       "    </tr>\n",
       "    <tr>\n",
       "      <th>2</th>\n",
       "      <td>e</td>\n",
       "      <td>1</td>\n",
       "    </tr>\n",
       "    <tr>\n",
       "      <th>3</th>\n",
       "      <td>i</td>\n",
       "      <td>1</td>\n",
       "    </tr>\n",
       "    <tr>\n",
       "      <th>4</th>\n",
       "      <td>c</td>\n",
       "      <td>1</td>\n",
       "    </tr>\n",
       "    <tr>\n",
       "      <th>5</th>\n",
       "      <td>q</td>\n",
       "      <td>1</td>\n",
       "    </tr>\n",
       "    <tr>\n",
       "      <th>6</th>\n",
       "      <td>j</td>\n",
       "      <td>1</td>\n",
       "    </tr>\n",
       "    <tr>\n",
       "      <th>7</th>\n",
       "      <td>a</td>\n",
       "      <td>1</td>\n",
       "    </tr>\n",
       "    <tr>\n",
       "      <th>8</th>\n",
       "      <td></td>\n",
       "      <td>10</td>\n",
       "    </tr>\n",
       "    <tr>\n",
       "      <th>9</th>\n",
       "      <td>d</td>\n",
       "      <td>1</td>\n",
       "    </tr>\n",
       "    <tr>\n",
       "      <th>10</th>\n",
       "      <td>k</td>\n",
       "      <td>1</td>\n",
       "    </tr>\n",
       "    <tr>\n",
       "      <th>11</th>\n",
       "      <td>h</td>\n",
       "      <td>1</td>\n",
       "    </tr>\n",
       "  </tbody>\n",
       "</table>\n",
       "</div>"
      ],
      "text/plain": [
       "   token  freq\n",
       "0      b     1\n",
       "1      f     1\n",
       "2      e     1\n",
       "3      i     1\n",
       "4      c     1\n",
       "5      q     1\n",
       "6      j     1\n",
       "7      a     1\n",
       "8           10\n",
       "9      d     1\n",
       "10     k     1\n",
       "11     h     1"
      ]
     },
     "execution_count": 8,
     "metadata": {},
     "output_type": "execute_result"
    }
   ],
   "source": [
    "my_pd"
   ]
  },
  {
   "cell_type": "code",
   "execution_count": null,
   "id": "afc8a8da",
   "metadata": {},
   "outputs": [],
   "source": []
  }
 ],
 "metadata": {
  "kernelspec": {
   "display_name": "Python 3 (ipykernel)",
   "language": "python",
   "name": "python3"
  },
  "language_info": {
   "codemirror_mode": {
    "name": "ipython",
    "version": 3
   },
   "file_extension": ".py",
   "mimetype": "text/x-python",
   "name": "python",
   "nbconvert_exporter": "python",
   "pygments_lexer": "ipython3",
   "version": "3.10.7"
  }
 },
 "nbformat": 4,
 "nbformat_minor": 5
}
