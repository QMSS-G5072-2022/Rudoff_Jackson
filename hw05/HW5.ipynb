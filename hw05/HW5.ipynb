{
 "cells": [
  {
   "cell_type": "markdown",
   "metadata": {},
   "source": [
    "## MDS Homework 5\n",
    "\n",
    "**October 18, 2022** (Happy birthday to my dad!)\n",
    "\n",
    "*Jackson Rudoff*"
   ]
  },
  {
   "cell_type": "code",
   "execution_count": 3,
   "metadata": {},
   "outputs": [],
   "source": [
    "import pandas as pd\n",
    "import re"
   ]
  },
  {
   "cell_type": "markdown",
   "metadata": {},
   "source": [
    "### Part A"
   ]
  },
  {
   "cell_type": "markdown",
   "metadata": {},
   "source": [
    "Straightforward approach here. Simply read in the data and then extract the 'narratives' column from the DataFrame. "
   ]
  },
  {
   "cell_type": "code",
   "execution_count": 4,
   "metadata": {},
   "outputs": [
    {
     "data": {
      "text/plain": [
       "0       10 MO F FELL OUT OF SHOPPING CART;DX FRACTURED...\n",
       "1                75YOF WITH LAC TO FINGER FROM METAL CAN \n",
       "2                8YOF FRACTURED FINGER FELL OFF HER BIKE \n",
       "3       9 YOM TACKLED DURING FOOTBALL PRACTICE.  DX: C...\n",
       "4       PT WAS HIT ON RT SIDE WHILE PLAYING FOOTBALL D...\n",
       "                              ...                        \n",
       "9995    RT HIP STRAIN.9YOM WAS PLAYING FOOTBALL AND IN...\n",
       "9996    16 MO MALE FELL AND HIT HEAD ON A TRAIN TABLE....\n",
       "9997        RAN INTO TABLE, HIT FACE DX: FACIAL CONTUSION\n",
       "9998         81YOF-HUMERUS FX-FELL DOWN 3-4 STEPS-@ HOME \n",
       "9999    30YOM PUSHING TRASH DOWN INTO A GARBAGE CAN WI...\n",
       "Name: narrative, Length: 10000, dtype: object"
      ]
     },
     "execution_count": 4,
     "metadata": {},
     "output_type": "execute_result"
    }
   ],
   "source": [
    "#Read in data\n",
    "emergencies = pd.read_csv(\"data/emergency.csv\", header=None, names = ['narrative'])\n",
    "\n",
    "narratives = emergencies['narrative']\n",
    "narratives"
   ]
  },
  {
   "cell_type": "markdown",
   "metadata": {},
   "source": [
    "With that, we can now just use the str method and the len() method to apply the relevant min/max method."
   ]
  },
  {
   "cell_type": "code",
   "execution_count": 3,
   "metadata": {},
   "outputs": [
    {
     "name": "stdout",
     "output_type": "stream",
     "text": [
      "143\n",
      "17\n"
     ]
    }
   ],
   "source": [
    "#Return longest and shortest narratives\n",
    "\n",
    "print(narratives.str.len().max()) #longest \n",
    "print(narratives.str.len().min()) #shortest"
   ]
  },
  {
   "cell_type": "markdown",
   "metadata": {},
   "source": [
    "### Part B"
   ]
  },
  {
   "cell_type": "markdown",
   "metadata": {},
   "source": [
    "A little trickier here. Ultimately, we just want to make sure we capture anything that might have been misstyped. Some initial exploration reveals some cases where the data were mis-entered as \"FRAC TURED\" or just abbreviated \"FRAC\", so I am aware of needing to capture those. Thankfully, I can quickly test that a broad \"FRAC\" or \"FRACT\" query won't return false positives. "
   ]
  },
  {
   "cell_type": "code",
   "execution_count": 38,
   "metadata": {},
   "outputs": [
    {
     "data": {
      "text/plain": [
       "['12YOF SLIPPED ON WET GRASS PLAYING KICKBALL AND HEARD A POP OR CRACK IN R ANKLE, SWELLING, LIMITED ROM DX: FRAC R LOWER LEG',\n",
       " '15 YOM TRIPPED CAUSING HIM TO SLAM AGAINST A WALL HAND FIRST.  DX: FRAC TURE FINGER.',\n",
       " '9YOM WAS PLAYING FOOTBALL, FELL, KICKED IN L THUMB, PAIN, SWELLING DX: FRAC L THUMB',\n",
       " '3YOM PT COMPLAINING OF TRIPPING OVER DOG GETTING TANGLED IN LEASH FRACT URE FEMUR DX FRACTURE#',\n",
       " '63YOF HAD FAMILY TRYING TO HELP HER WITH REMOVING SHOE CO PAIN DX FRACT URE LOWER LEG',\n",
       " '52YOF BENT OVER TO PUT ON HER SHOES AND FELL AGAINST A CAR NASAL FRACT URE',\n",
       " '13 YO M RIDING DIRT BIKE WITH HELMET AND LOST CONTROL AND CRASHED HITTI NG CHEST ON THE GROUND, PAINFUL TO BREATH. DX FRAC RIBS',\n",
       " 'FRAC WRIST 7YOF FELL WHILE TUMBLING AT HOME DX: FRAC WRIST',\n",
       " '4YOF WAS PLAYING ON THE PLAYGROUND AND FELL OFF A SLIDE. DX:SKULL FRACT URE,EXTRA-AXIAL HEMORRHAGE',\n",
       " 'FRAC ANKLE 57YOF FELL DOWN 12 STEPS AT PARENTS HOUSE DX: FRAC ANKLE',\n",
       " '92 YOF C/O FALL OUT OF BED ONTO FLOOR WITH INJURY TO KNEE DX- KNEE FRAC TURE',\n",
       " 'FRAC LT LOW ARM 10YOM WAS *** RAN INTO ANOTHER SKATER AT HOME DX: FRAC RADIUS',\n",
       " 'FRAC UP TRUNK 42YOM STRUNCK IN CHEST WHILE PLAYING BASEBALL DX: FRAC RIB',\n",
       " 'FRAC KNEE 10YOF DOING WHEELIE ON SCOOTER AND FELL IN STREET DX: FRAC GROWTH PLATE KNEE',\n",
       " '11YOM WAS ROLLERSKATING WITH ADULT WHO FELL ON HIM, ANGULATION OF THIHG , PAIN DX: FRAC R UPPER LEG',\n",
       " '81YOM FELL WHILE GETTING OUT OF THE SHOWER AT THE NURSING HOME AND FRAC TURED HIP',\n",
       " '70 YOF TRIPPED OVER A TOY CAR AND FELL ONTO LEFT KNEE SUSTAINING A FRAC TURE',\n",
       " \"3YOF JUMPED OFF SISTER'S BED, LANDED ON TWISTED L FOOT, SWELLING, BRUSI NG, ABLE TO BEAR WT WITH LIMP DX: FRAC L 1ST TOE\",\n",
       " '87YOF GETTING UP FROM THE COUCH AND FELL TO THE FLOOR AT HOME HIP FRACT URE',\n",
       " '14 Y/O BM WAS PLAYING BASKETBALL TWISTED LOWER LEG AND SUSTAINED A FRAC TURE',\n",
       " 'FRAC LOW TRUNK 81YOM FELL IN SHOWER AT HOME DX: FRAC HIP',\n",
       " '2YOF FELL FROM WINDOW SILL, UNABLE TO STAND UP, PAIN, REFUSING TO WALK DX: FRAC R LOWER LEG']"
      ]
     },
     "execution_count": 38,
     "metadata": {},
     "output_type": "execute_result"
    }
   ],
   "source": [
    "[frac for frac in narratives if re.search(r'FRAC\\b|FRACT\\b', frac)]"
   ]
  },
  {
   "cell_type": "markdown",
   "metadata": {},
   "source": [
    "So, using wildcard with an optional quantifier will get us everything we need here, including codes with typos like misplaced characters or spaces. "
   ]
  },
  {
   "cell_type": "code",
   "execution_count": 187,
   "metadata": {},
   "outputs": [
    {
     "data": {
      "text/plain": [
       "['10 MO F FELL OUT OF SHOPPING CART;DX FRACTURED SKULL ',\n",
       " '8YOF FRACTURED FINGER FELL OFF HER BIKE ',\n",
       " '12YOF FELL DOWN STAIRS DX: FX RADIUS',\n",
       " '77 Y MALE HAD MECHANICAL FALL DOWN STEPS CAUSING ANKLE INJ DX; ANKLE FX',\n",
       " '34YOM-FELL DOWN INDOOR STEPS @ HOME CARRYING A DOG,TRIPPED ON SOMETHING -FELL FORWARD     DX FX DISTAL TIBIA & FIBULA',\n",
       " 'FINGER FX. 20 YOM INJURED FINGER WHEN PLAYING BASKETBALL ',\n",
       " '46YOM W/CERVICAL SPINE & LUMBAR TP FXS 2/2 JUMPING 8-10 FT FROM WINDOW WHEN POLICE ENTERED HIS APT. SLID DOWN HILL. NO LOC. +COCAINE.+ BENZOS',\n",
       " 'RT FIBULA FX.55YOM FELL DOWN A LADDER. ',\n",
       " '10 YO FEMALE CAUGHT FINGER IN A DOOR AT SCHOOL.  DX FX ',\n",
       " '15 YOM FELL OFF OF BIKE. DX:  L FOREARM FX.',\n",
       " 'L1 COMPRESSION FX.87YOF FELL ON THE FLOOR. ',\n",
       " '6 YO MALE PLAYING FOOTBALL AND BENT PINKY BACK.  DX FX ']"
      ]
     },
     "execution_count": 187,
     "metadata": {},
     "output_type": "execute_result"
    }
   ],
   "source": [
    "fractures = [frac for frac in narratives if re.search(r'FRAC.*?\\b|FX.*?\\b', frac)]\n",
    "\n",
    "fractures[0:12]"
   ]
  },
  {
   "cell_type": "code",
   "execution_count": 54,
   "metadata": {},
   "outputs": [
    {
     "data": {
      "text/plain": [
       "1524"
      ]
     },
     "execution_count": 54,
     "metadata": {},
     "output_type": "execute_result"
    }
   ],
   "source": [
    "len(fractures) # get number of narratives "
   ]
  },
  {
   "cell_type": "markdown",
   "metadata": {},
   "source": [
    "There are 1524 narratives involving fractures. "
   ]
  },
  {
   "cell_type": "markdown",
   "metadata": {},
   "source": [
    "### PART C"
   ]
  },
  {
   "cell_type": "code",
   "execution_count": 188,
   "metadata": {},
   "outputs": [
    {
     "data": {
      "text/plain": [
       "['SKULL',\n",
       " 'FINGER',\n",
       " 'ANKLE',\n",
       " 'ANKLE',\n",
       " 'FINGER',\n",
       " 'FINGER',\n",
       " 'FINGER',\n",
       " 'FOREARM',\n",
       " 'FOOT',\n",
       " 'PINK',\n",
       " 'FINGER',\n",
       " 'ELBOW']"
      ]
     },
     "execution_count": 188,
     "metadata": {},
     "output_type": "execute_result"
    }
   ],
   "source": [
    "fracture_str = ' '.join(fractures)\n",
    "fracture_types = re.findall(r'FEMURS?|ARMS?|WRISTS?|LEGS?|FINGERS?|PINK.*?|ELBOWS?|HIPS?|F[OE]{2}T|SKULL|ANKLES?|FOREARMS?', fracture_str)\n",
    "\n",
    "fracture_types[0:12]"
   ]
  },
  {
   "cell_type": "code",
   "execution_count": 69,
   "metadata": {},
   "outputs": [
    {
     "data": {
      "text/plain": [
       "1347"
      ]
     },
     "execution_count": 69,
     "metadata": {},
     "output_type": "execute_result"
    }
   ],
   "source": [
    "len(fracture_types)"
   ]
  },
  {
   "cell_type": "code",
   "execution_count": 71,
   "metadata": {},
   "outputs": [
    {
     "data": {
      "text/plain": [
       "1347"
      ]
     },
     "execution_count": 71,
     "metadata": {},
     "output_type": "execute_result"
    }
   ],
   "source": [
    "fracture_types = [re.sub(r'S$', '', word) for word in fracture_types]\n",
    "fracture_types = [re.sub(r'EE', 'OO', word) for word in fracture_types]\n",
    "\n",
    "len(fracture_types)\n",
    "\n"
   ]
  },
  {
   "cell_type": "code",
   "execution_count": 72,
   "metadata": {},
   "outputs": [
    {
     "data": {
      "text/plain": [
       "[]"
      ]
     },
     "execution_count": 72,
     "metadata": {},
     "output_type": "execute_result"
    }
   ],
   "source": [
    "[word for word in fracture_types if re.findall(r'S$|EE', word)] # no plurals"
   ]
  },
  {
   "cell_type": "code",
   "execution_count": 78,
   "metadata": {},
   "outputs": [
    {
     "data": {
      "text/html": [
       "<div>\n",
       "<style scoped>\n",
       "    .dataframe tbody tr th:only-of-type {\n",
       "        vertical-align: middle;\n",
       "    }\n",
       "\n",
       "    .dataframe tbody tr th {\n",
       "        vertical-align: top;\n",
       "    }\n",
       "\n",
       "    .dataframe thead th {\n",
       "        text-align: right;\n",
       "    }\n",
       "</style>\n",
       "<table border=\"1\" class=\"dataframe\">\n",
       "  <thead>\n",
       "    <tr style=\"text-align: right;\">\n",
       "      <th></th>\n",
       "      <th>Parts</th>\n",
       "      <th>Counts</th>\n",
       "    </tr>\n",
       "  </thead>\n",
       "  <tbody>\n",
       "    <tr>\n",
       "      <th>0</th>\n",
       "      <td>FINGER</td>\n",
       "      <td>220</td>\n",
       "    </tr>\n",
       "    <tr>\n",
       "      <th>1</th>\n",
       "      <td>FOOT</td>\n",
       "      <td>220</td>\n",
       "    </tr>\n",
       "    <tr>\n",
       "      <th>2</th>\n",
       "      <td>WRIST</td>\n",
       "      <td>191</td>\n",
       "    </tr>\n",
       "    <tr>\n",
       "      <th>3</th>\n",
       "      <td>ANKLE</td>\n",
       "      <td>178</td>\n",
       "    </tr>\n",
       "    <tr>\n",
       "      <th>4</th>\n",
       "      <td>ARM</td>\n",
       "      <td>144</td>\n",
       "    </tr>\n",
       "    <tr>\n",
       "      <th>5</th>\n",
       "      <td>HIP</td>\n",
       "      <td>108</td>\n",
       "    </tr>\n",
       "    <tr>\n",
       "      <th>6</th>\n",
       "      <td>ELBOW</td>\n",
       "      <td>102</td>\n",
       "    </tr>\n",
       "    <tr>\n",
       "      <th>7</th>\n",
       "      <td>LEG</td>\n",
       "      <td>76</td>\n",
       "    </tr>\n",
       "    <tr>\n",
       "      <th>8</th>\n",
       "      <td>FOREARM</td>\n",
       "      <td>59</td>\n",
       "    </tr>\n",
       "    <tr>\n",
       "      <th>9</th>\n",
       "      <td>FEMUR</td>\n",
       "      <td>25</td>\n",
       "    </tr>\n",
       "    <tr>\n",
       "      <th>10</th>\n",
       "      <td>SKULL</td>\n",
       "      <td>21</td>\n",
       "    </tr>\n",
       "    <tr>\n",
       "      <th>11</th>\n",
       "      <td>PINK</td>\n",
       "      <td>3</td>\n",
       "    </tr>\n",
       "  </tbody>\n",
       "</table>\n",
       "</div>"
      ],
      "text/plain": [
       "      Parts  Counts\n",
       "0    FINGER     220\n",
       "1      FOOT     220\n",
       "2     WRIST     191\n",
       "3     ANKLE     178\n",
       "4       ARM     144\n",
       "5       HIP     108\n",
       "6     ELBOW     102\n",
       "7       LEG      76\n",
       "8   FOREARM      59\n",
       "9     FEMUR      25\n",
       "10    SKULL      21\n",
       "11     PINK       3"
      ]
     },
     "execution_count": 78,
     "metadata": {},
     "output_type": "execute_result"
    }
   ],
   "source": [
    "types_df  = pd.Series(fracture_types)\n",
    "types_df = types_df.value_counts().rename_axis('Parts').reset_index(name = 'Counts')\n",
    "types_df"
   ]
  },
  {
   "cell_type": "code",
   "execution_count": 100,
   "metadata": {},
   "outputs": [],
   "source": [
    "import seaborn as sns\n",
    "import matplotlib.pyplot as plt"
   ]
  },
  {
   "cell_type": "markdown",
   "metadata": {},
   "source": [
    "I really did not know how to interpret the plotting aspect of this question since a bar plot seemed more like what would be appropriate, but I will go ahead and do both to be safe."
   ]
  },
  {
   "cell_type": "code",
   "execution_count": 95,
   "metadata": {},
   "outputs": [
    {
     "data": {
      "text/plain": [
       "[[<matplotlib.axis.YTick at 0x16b5d25e0>,\n",
       "  <matplotlib.axis.YTick at 0x16b5bdf40>,\n",
       "  <matplotlib.axis.YTick at 0x16b71cb50>],\n",
       " Text(0.5, 0, 'Fracture Frequency'),\n",
       " Text(0, 0.5, 'Occurrences')]"
      ]
     },
     "execution_count": 95,
     "metadata": {},
     "output_type": "execute_result"
    },
    {
     "data": {
      "image/png": "[encoded data removed]",
      "text/plain": [
       "<Figure size 640x480 with 1 Axes>"
      ]
     },
     "metadata": {},
     "output_type": "display_data"
    }
   ],
   "source": [
    "hist = sns.histplot(x = 'Counts', data= types_df, bins= 11, color='#de2d26')\n",
    "\n",
    "hist.set(yticks=range(3), xlabel='Fracture Frequency', ylabel='Occurrences')"
   ]
  },
  {
   "cell_type": "code",
   "execution_count": 108,
   "metadata": {},
   "outputs": [
    {
     "data": {
      "text/plain": [
       "<matplotlib.legend.Legend at 0x17eeb1e50>"
      ]
     },
     "execution_count": 108,
     "metadata": {},
     "output_type": "execute_result"
    },
    {
     "data": {
      "image/png": "[encoded data removed]",
      "text/plain": [
       "<Figure size 1000x400 with 1 Axes>"
      ]
     },
     "metadata": {},
     "output_type": "display_data"
    }
   ],
   "source": [
    "plt.figure(figsize=(10,4))\n",
    "hist = sns.barplot(x = 'Parts', y = 'Counts', data= types_df, hue='Parts', palette='mako', dodge=False)\n",
    "\n",
    "hist.set(xlabel='Fracture Frequency', ylabel='Fracture Type')\n",
    "hist.legend([],[], frameon=False)"
   ]
  },
  {
   "cell_type": "markdown",
   "metadata": {},
   "source": [
    "### PART D"
   ]
  },
  {
   "cell_type": "markdown",
   "metadata": {},
   "source": [
    "I will be completely honest, my method here is pretty un-elegant and roundabout. However, it still applies the *re* techniques we learned this past week and it gets the job done. \n",
    "\n",
    "I decided to filter for male and female codes independently, because I discovered some codes do not contain a gender and need to be excluded."
   ]
  },
  {
   "cell_type": "code",
   "execution_count": 185,
   "metadata": {},
   "outputs": [
    {
     "data": {
      "text/plain": [
       "4615"
      ]
     },
     "execution_count": 185,
     "metadata": {},
     "output_type": "execute_result"
    }
   ],
   "source": [
    "narratives_male = [word for word in narratives if re.search(r'\\b(\\d+)\\s*(M|Y.?|MONTH|YEAR)\\s*(O|OLD)?\\s*(M|MALE)\\b', word)]\n",
    "len(narratives_male)"
   ]
  },
  {
   "cell_type": "code",
   "execution_count": 184,
   "metadata": {},
   "outputs": [
    {
     "data": {
      "text/plain": [
       "3538"
      ]
     },
     "execution_count": 184,
     "metadata": {},
     "output_type": "execute_result"
    }
   ],
   "source": [
    "narratives_female = [word for word in narratives if re.search(r'\\b(\\d+)\\s*(M|Y.?|MONTH|YEAR)\\s*(O|OLD)?\\s*(F|FEMALE)\\b', word)]\n",
    "len(narratives_female)"
   ]
  },
  {
   "cell_type": "markdown",
   "metadata": {},
   "source": [
    "There are 3538 men and 4615 women in the data. "
   ]
  },
  {
   "cell_type": "markdown",
   "metadata": {},
   "source": [
    "Here's where it gets a little roundabout. I decided to loop through these two lists and have it find the ages expressed in months and divide those by 12 and convert to type float. I also noticed that some of the codes contain secondary instances of abbreviatated times followed by \"AGO\", which meant that for this step I also had to use the full *re* again to avoid capturing the wrong string. I also discovered there was an issue where it was accidentally picking up \"MM\" injuries, so I filtered for that when converting the ages. "
   ]
  },
  {
   "cell_type": "code",
   "execution_count": 179,
   "metadata": {},
   "outputs": [],
   "source": [
    "ages_female = []\n",
    "for string in narratives_female:\n",
    "    if re.search(r'\\b(\\d+)\\s*(M|MONTH)\\s*(O|OLD)?\\s*(F|FEMALE)\\b', string):\n",
    "        tmp = re.search(r'\\b(\\d+)', string)\n",
    "        tmp2 = tmp.group(0)\n",
    "        ages_female.append(float(tmp2)/12)\n",
    "    else:\n",
    "        tmp = re.search(r'\\b(\\d+)', string)\n",
    "        tmp2 = tmp.group(0)\n",
    "        ages_female.append(float(tmp2))\n",
    "\n",
    "\n",
    "ages_male = []\n",
    "for string in narratives_male:\n",
    "    if re.search(r'\\b(\\d+)\\s*(M|MONTH)\\s*(O|OLD)?\\s*(M|MALE)\\b', string):\n",
    "        if re.search(r'\\dMM', string): #filter for specific bug where it gets injuries with MM\n",
    "            continue\n",
    "        tmp = re.search(r'\\b(\\d+)', string)\n",
    "        tmp2 = tmp.group(0)\n",
    "        ages_male.append(float(tmp2)/12)\n",
    "    else:\n",
    "        tmp = re.search(r'\\b(\\d+)', string)\n",
    "        tmp2 = tmp.group(0)\n",
    "        ages_male.append(float(tmp2))\n",
    "\n"
   ]
  },
  {
   "cell_type": "code",
   "execution_count": 183,
   "metadata": {},
   "outputs": [
    {
     "data": {
      "text/html": [
       "<div>\n",
       "<style scoped>\n",
       "    .dataframe tbody tr th:only-of-type {\n",
       "        vertical-align: middle;\n",
       "    }\n",
       "\n",
       "    .dataframe tbody tr th {\n",
       "        vertical-align: top;\n",
       "    }\n",
       "\n",
       "    .dataframe thead th {\n",
       "        text-align: right;\n",
       "    }\n",
       "</style>\n",
       "<table border=\"1\" class=\"dataframe\">\n",
       "  <thead>\n",
       "    <tr style=\"text-align: right;\">\n",
       "      <th></th>\n",
       "      <th>Gender</th>\n",
       "      <th>Age</th>\n",
       "      <th>Count</th>\n",
       "      <th>Age_Group</th>\n",
       "    </tr>\n",
       "  </thead>\n",
       "  <tbody>\n",
       "    <tr>\n",
       "      <th>0</th>\n",
       "      <td>F</td>\n",
       "      <td>2.000000</td>\n",
       "      <td>131</td>\n",
       "      <td>(0, 9]</td>\n",
       "    </tr>\n",
       "    <tr>\n",
       "      <th>82</th>\n",
       "      <td>F</td>\n",
       "      <td>1.000000</td>\n",
       "      <td>17</td>\n",
       "      <td>(0, 9]</td>\n",
       "    </tr>\n",
       "    <tr>\n",
       "      <th>87</th>\n",
       "      <td>F</td>\n",
       "      <td>1.666667</td>\n",
       "      <td>16</td>\n",
       "      <td>(0, 9]</td>\n",
       "    </tr>\n",
       "    <tr>\n",
       "      <th>90</th>\n",
       "      <td>F</td>\n",
       "      <td>1.833333</td>\n",
       "      <td>14</td>\n",
       "      <td>(0, 9]</td>\n",
       "    </tr>\n",
       "    <tr>\n",
       "      <th>91</th>\n",
       "      <td>F</td>\n",
       "      <td>1.916667</td>\n",
       "      <td>14</td>\n",
       "      <td>(0, 9]</td>\n",
       "    </tr>\n",
       "    <tr>\n",
       "      <th>95</th>\n",
       "      <td>F</td>\n",
       "      <td>1.750000</td>\n",
       "      <td>14</td>\n",
       "      <td>(0, 9]</td>\n",
       "    </tr>\n",
       "    <tr>\n",
       "      <th>96</th>\n",
       "      <td>F</td>\n",
       "      <td>1.500000</td>\n",
       "      <td>13</td>\n",
       "      <td>(0, 9]</td>\n",
       "    </tr>\n",
       "    <tr>\n",
       "      <th>97</th>\n",
       "      <td>F</td>\n",
       "      <td>0.750000</td>\n",
       "      <td>12</td>\n",
       "      <td>(0, 9]</td>\n",
       "    </tr>\n",
       "    <tr>\n",
       "      <th>98</th>\n",
       "      <td>F</td>\n",
       "      <td>1.583333</td>\n",
       "      <td>11</td>\n",
       "      <td>(0, 9]</td>\n",
       "    </tr>\n",
       "    <tr>\n",
       "      <th>99</th>\n",
       "      <td>F</td>\n",
       "      <td>1.416667</td>\n",
       "      <td>10</td>\n",
       "      <td>(0, 9]</td>\n",
       "    </tr>\n",
       "    <tr>\n",
       "      <th>100</th>\n",
       "      <td>F</td>\n",
       "      <td>1.333333</td>\n",
       "      <td>9</td>\n",
       "      <td>(0, 9]</td>\n",
       "    </tr>\n",
       "    <tr>\n",
       "      <th>101</th>\n",
       "      <td>F</td>\n",
       "      <td>0.416667</td>\n",
       "      <td>9</td>\n",
       "      <td>(0, 9]</td>\n",
       "    </tr>\n",
       "    <tr>\n",
       "      <th>102</th>\n",
       "      <td>F</td>\n",
       "      <td>0.666667</td>\n",
       "      <td>9</td>\n",
       "      <td>(0, 9]</td>\n",
       "    </tr>\n",
       "    <tr>\n",
       "      <th>103</th>\n",
       "      <td>F</td>\n",
       "      <td>0.833333</td>\n",
       "      <td>9</td>\n",
       "      <td>(0, 9]</td>\n",
       "    </tr>\n",
       "    <tr>\n",
       "      <th>104</th>\n",
       "      <td>F</td>\n",
       "      <td>0.916667</td>\n",
       "      <td>9</td>\n",
       "      <td>(0, 9]</td>\n",
       "    </tr>\n",
       "    <tr>\n",
       "      <th>106</th>\n",
       "      <td>F</td>\n",
       "      <td>1.166667</td>\n",
       "      <td>9</td>\n",
       "      <td>(0, 9]</td>\n",
       "    </tr>\n",
       "    <tr>\n",
       "      <th>107</th>\n",
       "      <td>F</td>\n",
       "      <td>1.250000</td>\n",
       "      <td>8</td>\n",
       "      <td>(0, 9]</td>\n",
       "    </tr>\n",
       "    <tr>\n",
       "      <th>108</th>\n",
       "      <td>F</td>\n",
       "      <td>0.083333</td>\n",
       "      <td>7</td>\n",
       "      <td>(0, 9]</td>\n",
       "    </tr>\n",
       "    <tr>\n",
       "      <th>113</th>\n",
       "      <td>F</td>\n",
       "      <td>0.583333</td>\n",
       "      <td>6</td>\n",
       "      <td>(0, 9]</td>\n",
       "    </tr>\n",
       "    <tr>\n",
       "      <th>114</th>\n",
       "      <td>F</td>\n",
       "      <td>0.333333</td>\n",
       "      <td>6</td>\n",
       "      <td>(0, 9]</td>\n",
       "    </tr>\n",
       "    <tr>\n",
       "      <th>115</th>\n",
       "      <td>F</td>\n",
       "      <td>1.083333</td>\n",
       "      <td>5</td>\n",
       "      <td>(0, 9]</td>\n",
       "    </tr>\n",
       "    <tr>\n",
       "      <th>117</th>\n",
       "      <td>F</td>\n",
       "      <td>0.166667</td>\n",
       "      <td>4</td>\n",
       "      <td>(0, 9]</td>\n",
       "    </tr>\n",
       "    <tr>\n",
       "      <th>118</th>\n",
       "      <td>F</td>\n",
       "      <td>0.250000</td>\n",
       "      <td>4</td>\n",
       "      <td>(0, 9]</td>\n",
       "    </tr>\n",
       "    <tr>\n",
       "      <th>121</th>\n",
       "      <td>F</td>\n",
       "      <td>0.500000</td>\n",
       "      <td>1</td>\n",
       "      <td>(0, 9]</td>\n",
       "    </tr>\n",
       "    <tr>\n",
       "      <th>122</th>\n",
       "      <td>M</td>\n",
       "      <td>2.000000</td>\n",
       "      <td>183</td>\n",
       "      <td>(0, 9]</td>\n",
       "    </tr>\n",
       "    <tr>\n",
       "      <th>177</th>\n",
       "      <td>M</td>\n",
       "      <td>1.000000</td>\n",
       "      <td>26</td>\n",
       "      <td>(0, 9]</td>\n",
       "    </tr>\n",
       "    <tr>\n",
       "      <th>187</th>\n",
       "      <td>M</td>\n",
       "      <td>1.500000</td>\n",
       "      <td>20</td>\n",
       "      <td>(0, 9]</td>\n",
       "    </tr>\n",
       "    <tr>\n",
       "      <th>194</th>\n",
       "      <td>M</td>\n",
       "      <td>1.750000</td>\n",
       "      <td>17</td>\n",
       "      <td>(0, 9]</td>\n",
       "    </tr>\n",
       "    <tr>\n",
       "      <th>195</th>\n",
       "      <td>M</td>\n",
       "      <td>1.666667</td>\n",
       "      <td>16</td>\n",
       "      <td>(0, 9]</td>\n",
       "    </tr>\n",
       "    <tr>\n",
       "      <th>197</th>\n",
       "      <td>M</td>\n",
       "      <td>1.916667</td>\n",
       "      <td>16</td>\n",
       "      <td>(0, 9]</td>\n",
       "    </tr>\n",
       "    <tr>\n",
       "      <th>198</th>\n",
       "      <td>M</td>\n",
       "      <td>1.250000</td>\n",
       "      <td>15</td>\n",
       "      <td>(0, 9]</td>\n",
       "    </tr>\n",
       "    <tr>\n",
       "      <th>199</th>\n",
       "      <td>M</td>\n",
       "      <td>1.416667</td>\n",
       "      <td>15</td>\n",
       "      <td>(0, 9]</td>\n",
       "    </tr>\n",
       "    <tr>\n",
       "      <th>200</th>\n",
       "      <td>M</td>\n",
       "      <td>1.083333</td>\n",
       "      <td>15</td>\n",
       "      <td>(0, 9]</td>\n",
       "    </tr>\n",
       "    <tr>\n",
       "      <th>202</th>\n",
       "      <td>M</td>\n",
       "      <td>1.833333</td>\n",
       "      <td>14</td>\n",
       "      <td>(0, 9]</td>\n",
       "    </tr>\n",
       "    <tr>\n",
       "      <th>207</th>\n",
       "      <td>M</td>\n",
       "      <td>1.583333</td>\n",
       "      <td>12</td>\n",
       "      <td>(0, 9]</td>\n",
       "    </tr>\n",
       "    <tr>\n",
       "      <th>208</th>\n",
       "      <td>M</td>\n",
       "      <td>0.916667</td>\n",
       "      <td>11</td>\n",
       "      <td>(0, 9]</td>\n",
       "    </tr>\n",
       "    <tr>\n",
       "      <th>210</th>\n",
       "      <td>M</td>\n",
       "      <td>1.166667</td>\n",
       "      <td>11</td>\n",
       "      <td>(0, 9]</td>\n",
       "    </tr>\n",
       "    <tr>\n",
       "      <th>211</th>\n",
       "      <td>M</td>\n",
       "      <td>0.833333</td>\n",
       "      <td>11</td>\n",
       "      <td>(0, 9]</td>\n",
       "    </tr>\n",
       "    <tr>\n",
       "      <th>213</th>\n",
       "      <td>M</td>\n",
       "      <td>0.750000</td>\n",
       "      <td>10</td>\n",
       "      <td>(0, 9]</td>\n",
       "    </tr>\n",
       "    <tr>\n",
       "      <th>218</th>\n",
       "      <td>M</td>\n",
       "      <td>0.666667</td>\n",
       "      <td>10</td>\n",
       "      <td>(0, 9]</td>\n",
       "    </tr>\n",
       "    <tr>\n",
       "      <th>220</th>\n",
       "      <td>M</td>\n",
       "      <td>1.333333</td>\n",
       "      <td>9</td>\n",
       "      <td>(0, 9]</td>\n",
       "    </tr>\n",
       "    <tr>\n",
       "      <th>225</th>\n",
       "      <td>M</td>\n",
       "      <td>0.083333</td>\n",
       "      <td>8</td>\n",
       "      <td>(0, 9]</td>\n",
       "    </tr>\n",
       "    <tr>\n",
       "      <th>228</th>\n",
       "      <td>M</td>\n",
       "      <td>0.416667</td>\n",
       "      <td>8</td>\n",
       "      <td>(0, 9]</td>\n",
       "    </tr>\n",
       "    <tr>\n",
       "      <th>229</th>\n",
       "      <td>M</td>\n",
       "      <td>0.333333</td>\n",
       "      <td>7</td>\n",
       "      <td>(0, 9]</td>\n",
       "    </tr>\n",
       "    <tr>\n",
       "      <th>230</th>\n",
       "      <td>M</td>\n",
       "      <td>0.583333</td>\n",
       "      <td>6</td>\n",
       "      <td>(0, 9]</td>\n",
       "    </tr>\n",
       "    <tr>\n",
       "      <th>231</th>\n",
       "      <td>M</td>\n",
       "      <td>0.500000</td>\n",
       "      <td>6</td>\n",
       "      <td>(0, 9]</td>\n",
       "    </tr>\n",
       "    <tr>\n",
       "      <th>233</th>\n",
       "      <td>M</td>\n",
       "      <td>0.250000</td>\n",
       "      <td>4</td>\n",
       "      <td>(0, 9]</td>\n",
       "    </tr>\n",
       "    <tr>\n",
       "      <th>237</th>\n",
       "      <td>M</td>\n",
       "      <td>0.166667</td>\n",
       "      <td>1</td>\n",
       "      <td>(0, 9]</td>\n",
       "    </tr>\n",
       "  </tbody>\n",
       "</table>\n",
       "</div>"
      ],
      "text/plain": [
       "    Gender       Age  Count Age_Group\n",
       "0        F  2.000000    131    (0, 9]\n",
       "82       F  1.000000     17    (0, 9]\n",
       "87       F  1.666667     16    (0, 9]\n",
       "90       F  1.833333     14    (0, 9]\n",
       "91       F  1.916667     14    (0, 9]\n",
       "95       F  1.750000     14    (0, 9]\n",
       "96       F  1.500000     13    (0, 9]\n",
       "97       F  0.750000     12    (0, 9]\n",
       "98       F  1.583333     11    (0, 9]\n",
       "99       F  1.416667     10    (0, 9]\n",
       "100      F  1.333333      9    (0, 9]\n",
       "101      F  0.416667      9    (0, 9]\n",
       "102      F  0.666667      9    (0, 9]\n",
       "103      F  0.833333      9    (0, 9]\n",
       "104      F  0.916667      9    (0, 9]\n",
       "106      F  1.166667      9    (0, 9]\n",
       "107      F  1.250000      8    (0, 9]\n",
       "108      F  0.083333      7    (0, 9]\n",
       "113      F  0.583333      6    (0, 9]\n",
       "114      F  0.333333      6    (0, 9]\n",
       "115      F  1.083333      5    (0, 9]\n",
       "117      F  0.166667      4    (0, 9]\n",
       "118      F  0.250000      4    (0, 9]\n",
       "121      F  0.500000      1    (0, 9]\n",
       "122      M  2.000000    183    (0, 9]\n",
       "177      M  1.000000     26    (0, 9]\n",
       "187      M  1.500000     20    (0, 9]\n",
       "194      M  1.750000     17    (0, 9]\n",
       "195      M  1.666667     16    (0, 9]\n",
       "197      M  1.916667     16    (0, 9]\n",
       "198      M  1.250000     15    (0, 9]\n",
       "199      M  1.416667     15    (0, 9]\n",
       "200      M  1.083333     15    (0, 9]\n",
       "202      M  1.833333     14    (0, 9]\n",
       "207      M  1.583333     12    (0, 9]\n",
       "208      M  0.916667     11    (0, 9]\n",
       "210      M  1.166667     11    (0, 9]\n",
       "211      M  0.833333     11    (0, 9]\n",
       "213      M  0.750000     10    (0, 9]\n",
       "218      M  0.666667     10    (0, 9]\n",
       "220      M  1.333333      9    (0, 9]\n",
       "225      M  0.083333      8    (0, 9]\n",
       "228      M  0.416667      8    (0, 9]\n",
       "229      M  0.333333      7    (0, 9]\n",
       "230      M  0.583333      6    (0, 9]\n",
       "231      M  0.500000      6    (0, 9]\n",
       "233      M  0.250000      4    (0, 9]\n",
       "237      M  0.166667      1    (0, 9]"
      ]
     },
     "execution_count": 183,
     "metadata": {},
     "output_type": "execute_result"
    }
   ],
   "source": [
    "male_df = pd.DataFrame(ages_male)\n",
    "male_df['gender'] = 'M'\n",
    "\n",
    "final_df = pd.DataFrame(ages_female)\n",
    "final_df['gender'] = 'F'\n",
    "final_df = pd.concat([male_df, final_df], ignore_index=True).rename(columns= {0: 'Age', 'gender': 'Gender'})\n",
    "\n",
    "final_df = final_df.groupby('Gender').value_counts().reset_index(name= 'Count')\n",
    "final_df['Age_Group'] = pd.cut(x=final_df['Age'], bins=[0, 9, 19, 29, 39, 49, 59, 69, 79, 89, 99, 109, 120])\n",
    "\n",
    "final_df[final_df['Age'] < 3] #check that filter worked"
   ]
  },
  {
   "cell_type": "markdown",
   "metadata": {},
   "source": [
    "Now that we have a usable, grouped dataframe, we can plot the count of injuries by age group for each gender. "
   ]
  },
  {
   "cell_type": "code",
   "execution_count": 182,
   "metadata": {},
   "outputs": [
    {
     "data": {
      "text/plain": [
       "<seaborn.axisgrid.FacetGrid at 0x28e492760>"
      ]
     },
     "execution_count": 182,
     "metadata": {},
     "output_type": "execute_result"
    },
    {
     "data": {
      "image/png": "[encoded data removed]",
      "text/plain": [
       "<Figure size 1062.24x500 with 1 Axes>"
      ]
     },
     "metadata": {},
     "output_type": "display_data"
    }
   ],
   "source": [
    "import seaborn as sns\n",
    "\n",
    "cat = sns.catplot(x = 'Age_Group', y = 'Count', hue= 'Gender', palette = 'PuOr',data = final_df, kind='bar', aspect=2)\n",
    "cat.set_xticklabels(rotation=30)\n",
    "cat.set(xlabel = 'Age Group', ylabel = 'Frequency')\n",
    "\n"
   ]
  }
 ],
 "metadata": {
  "kernelspec": {
   "display_name": "Python 3.9.1 64-bit ('3.9.1')",
   "language": "python",
   "name": "python3"
  },
  "language_info": {
   "codemirror_mode": {
    "name": "ipython",
    "version": 3
   },
   "file_extension": ".py",
   "mimetype": "text/x-python",
   "name": "python",
   "nbconvert_exporter": "python",
   "pygments_lexer": "ipython3",
   "version": "3.9.1"
  },
  "orig_nbformat": 4,
  "vscode": {
   "interpreter": {
    "hash": "27de0925cacb228730def3d8c8fd69bf2d18c5fc3973c732ee3fd09f66da4906"
   }
  }
 },
 "nbformat": 4,
 "nbformat_minor": 2
}
