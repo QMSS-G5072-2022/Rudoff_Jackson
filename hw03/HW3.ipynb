{
 "cells": [
  {
   "cell_type": "markdown",
   "metadata": {},
   "source": [
    "## Homework 3\n",
    "\n",
    "**Jackson Rudoff**\n",
    "*October 4, 2022*"
   ]
  },
  {
   "cell_type": "markdown",
   "metadata": {},
   "source": [
    "#### 1A): "
   ]
  },
  {
   "cell_type": "code",
   "execution_count": 1,
   "metadata": {},
   "outputs": [],
   "source": [
    "import numpy as np "
   ]
  },
  {
   "cell_type": "code",
   "execution_count": 2,
   "metadata": {},
   "outputs": [],
   "source": [
    "### I wrote the below code and it also worked, but felt overly complicated. Making the local dictionaries seemed more readable.\n",
    "\n",
    "# def cost_of_translation(words, type = 'standard', rush = False):\n",
    "   # if type == 'standard':\n",
    "   #     cost = words*0.05\n",
    "   # elif type == 'certified':\n",
    "   #     cost = words*0.10\n",
    "   # else:\n",
    "   #     cost = words*0.12\n",
    "    \n",
    "   # if rush == True:\n",
    "   #     return(cost*0.5)\n",
    "   # else:\n",
    "   #     return(cost)\n",
    "\n",
    "   # return(float(cost)"
   ]
  },
  {
   "cell_type": "markdown",
   "metadata": {},
   "source": [
    "My approach here is to create a couple global dictionaries that one could modify at any point to affect all code downstream. This means you could adjust for changing rates quite easily later on."
   ]
  },
  {
   "cell_type": "code",
   "execution_count": 3,
   "metadata": {},
   "outputs": [],
   "source": [
    "# Create dicts()\n",
    "rates = {'standard': 0.05, 'certified' : 0.10, 'notarized' : 0.12} # define type rates\n",
    "pace = {True: 1.50, False: 1.00} # define pacing boolean\n"
   ]
  },
  {
   "cell_type": "code",
   "execution_count": 4,
   "metadata": {},
   "outputs": [],
   "source": [
    "def cost_of_translation(words, type = 'standard', rush = False): # with defaults kwargs of 'standard' and False\n",
    "    cost = words * rates[type] * pace[rush]\n",
    "\n",
    "    return(float(cost))"
   ]
  },
  {
   "cell_type": "code",
   "execution_count": 5,
   "metadata": {},
   "outputs": [
    {
     "name": "stdout",
     "output_type": "stream",
     "text": [
      "50.0\n",
      "<class 'float'>\n"
     ]
    }
   ],
   "source": [
    "print(cost_of_translation(1000)); print(type(cost_of_translation(1000)))"
   ]
  },
  {
   "cell_type": "markdown",
   "metadata": {},
   "source": [
    "### 1B)\n"
   ]
  },
  {
   "cell_type": "markdown",
   "metadata": {},
   "source": [
    "I want this function to synergize well with the grand finale function so I nested the cost of translation function and added the tax_rate parameter. "
   ]
  },
  {
   "cell_type": "code",
   "execution_count": 6,
   "metadata": {},
   "outputs": [],
   "source": [
    "def sales_tax(words, type = 'standard', rush = False, tax_rate = .10):\n",
    "    return(float(cost_of_translation(words, type, rush)*tax_rate))\n"
   ]
  },
  {
   "cell_type": "code",
   "execution_count": 7,
   "metadata": {},
   "outputs": [
    {
     "data": {
      "text/plain": [
       "5.0"
      ]
     },
     "execution_count": 7,
     "metadata": {},
     "output_type": "execute_result"
    }
   ],
   "source": [
    "sales_tax(1000)"
   ]
  },
  {
   "cell_type": "markdown",
   "metadata": {},
   "source": [
    "### 1C)"
   ]
  },
  {
   "cell_type": "markdown",
   "metadata": {},
   "source": [
    "This can be done by simply pushing an if-else statement."
   ]
  },
  {
   "cell_type": "code",
   "execution_count": 8,
   "metadata": {},
   "outputs": [],
   "source": [
    "def sales_tax_notary(words, type = 'standard', rush = False, tax_rate = .10):\n",
    "    if type == 'notarized':\n",
    "        return(0)\n",
    "    else:\n",
    "        return(float(cost_of_translation(words, type, rush)*tax_rate))"
   ]
  },
  {
   "cell_type": "code",
   "execution_count": 9,
   "metadata": {},
   "outputs": [
    {
     "data": {
      "text/plain": [
       "0"
      ]
     },
     "execution_count": 9,
     "metadata": {},
     "output_type": "execute_result"
    }
   ],
   "source": [
    "sales_tax_notary(1000, 'notarized')"
   ]
  },
  {
   "cell_type": "markdown",
   "metadata": {},
   "source": [
    "### 1D)\n"
   ]
  },
  {
   "cell_type": "markdown",
   "metadata": {},
   "source": [
    "Putting it all together, we can continue nesting our functions and keyword defaults to avoid over-complicating things. I then used a series of f' prints to generate the desired receipt."
   ]
  },
  {
   "cell_type": "code",
   "execution_count": 10,
   "metadata": {},
   "outputs": [],
   "source": [
    "def translation_calculator(words, type = 'standard', rush = False, tax_rate = .10):\n",
    "    trans_cost = cost_of_translation(words, type, rush)\n",
    "    sales_tax = sales_tax_notary(words, type, rush, tax_rate)\n",
    "\n",
    "\n",
    "    print(f\"Number of Words: {words}\")\n",
    "    print(f\"Type of Translation: {type}\")\n",
    "    print(f\"Rush Order: {pace[rush]}\")\n",
    "    print(f\"Rate per word: {rates[type]}\")\n",
    "    print('---------------------------')\n",
    "    print(f\"Cost of Translation: {trans_cost}\")\n",
    "    print(f\"Sales Tax: {sales_tax}\")\n",
    "    print('---------------------------')\n",
    "    print(f\"Total Cost: {sales_tax + trans_cost}\")\n"
   ]
  },
  {
   "cell_type": "code",
   "execution_count": 11,
   "metadata": {},
   "outputs": [
    {
     "name": "stdout",
     "output_type": "stream",
     "text": [
      "Number of Words: 700\n",
      "Type of Translation: standard\n",
      "Rush Order: 1.0\n",
      "Rate per word: 0.05\n",
      "---------------------------\n",
      "Cost of Translation: 35.0\n",
      "Sales Tax: 3.5\n",
      "---------------------------\n",
      "Total Cost: 38.5\n"
     ]
    }
   ],
   "source": [
    "# test that it works with one input\n",
    "\n",
    "translation_calculator(700)"
   ]
  },
  {
   "cell_type": "code",
   "execution_count": 12,
   "metadata": {},
   "outputs": [
    {
     "name": "stdout",
     "output_type": "stream",
     "text": [
      "Number of Words: 1000\n",
      "Type of Translation: notarized\n",
      "Rush Order: 1.5\n",
      "Rate per word: 0.12\n",
      "---------------------------\n",
      "Cost of Translation: 180.0\n",
      "Sales Tax: 0\n",
      "---------------------------\n",
      "Total Cost: 180.0\n"
     ]
    }
   ],
   "source": [
    "translation_calculator(1000, 'notarized', True)"
   ]
  },
  {
   "cell_type": "markdown",
   "metadata": {},
   "source": [
    "### 2A)"
   ]
  },
  {
   "cell_type": "markdown",
   "metadata": {},
   "source": [
    "I added three assertions here that all cause exceptions prior to reaching the nested functions. I believe these prevent you from passing any invalid keyword arguments or an invalid integer (or non-integer) to the calculator, which are the two most critical errors to capture."
   ]
  },
  {
   "cell_type": "code",
   "execution_count": 27,
   "metadata": {},
   "outputs": [],
   "source": [
    "def translation_calculator(words, type = 'standard', rush = False):\n",
    "    assert isinstance(words, int), \"Word count must be a positive integer!\"\n",
    "    assert words > 0, \"Word count must be a positive integer!\"\n",
    "    assert type in rates.keys(), \"'Type' must be one of the three translation type options: 'standard', 'certified', 'notarized'.\"\n",
    "    trans_cost = cost_of_translation(words, type, rush)\n",
    "    sales_tax = sales_tax_notary(words, type, rush)\n",
    "\n",
    "\n",
    "    print(f\"Number of Words: {words}\")\n",
    "    print(f\"Type of Translation: {type}\")\n",
    "    print(f\"Rush Order: {rush_order[rush]}\")\n",
    "    print(f\"Rate per word: {rates[type]}\")\n",
    "    print('---------------------------')\n",
    "    print(f\"Cost of Translation: {trans_cost}\")\n",
    "    print(f\"Sales Tax: {sales_tax}\")\n",
    "    print('---------------------------')\n",
    "    print(f\"Total Cost: {sales_tax + trans_cost}\")"
   ]
  },
  {
   "cell_type": "code",
   "execution_count": 28,
   "metadata": {},
   "outputs": [
    {
     "ename": "AssertionError",
     "evalue": "Word count must be a positive integer!",
     "output_type": "error",
     "traceback": [
      "\u001b[1;31m---------------------------------------------------------------------------\u001b[0m",
      "\u001b[1;31mAssertionError\u001b[0m                            Traceback (most recent call last)",
      "Cell \u001b[1;32mIn [28], line 1\u001b[0m\n\u001b[1;32m----> 1\u001b[0m \u001b[43mtranslation_calculator\u001b[49m\u001b[43m(\u001b[49m\u001b[38;5;241;43m0\u001b[39;49m\u001b[43m)\u001b[49m\n",
      "Cell \u001b[1;32mIn [27], line 3\u001b[0m, in \u001b[0;36mtranslation_calculator\u001b[1;34m(words, type, rush)\u001b[0m\n\u001b[0;32m      1\u001b[0m \u001b[38;5;28;01mdef\u001b[39;00m \u001b[38;5;21mtranslation_calculator\u001b[39m(words, \u001b[38;5;28mtype\u001b[39m \u001b[38;5;241m=\u001b[39m \u001b[38;5;124m'\u001b[39m\u001b[38;5;124mstandard\u001b[39m\u001b[38;5;124m'\u001b[39m, rush \u001b[38;5;241m=\u001b[39m \u001b[38;5;28;01mFalse\u001b[39;00m):\n\u001b[0;32m      2\u001b[0m     \u001b[38;5;28;01massert\u001b[39;00m \u001b[38;5;28misinstance\u001b[39m(words, \u001b[38;5;28mint\u001b[39m), \u001b[38;5;124m\"\u001b[39m\u001b[38;5;124mWord count must be a positive integer!\u001b[39m\u001b[38;5;124m\"\u001b[39m\n\u001b[1;32m----> 3\u001b[0m     \u001b[38;5;28;01massert\u001b[39;00m words \u001b[38;5;241m>\u001b[39m \u001b[38;5;241m0\u001b[39m, \u001b[38;5;124m\"\u001b[39m\u001b[38;5;124mWord count must be a positive integer!\u001b[39m\u001b[38;5;124m\"\u001b[39m\n\u001b[0;32m      4\u001b[0m     \u001b[38;5;28;01massert\u001b[39;00m \u001b[38;5;28mtype\u001b[39m \u001b[38;5;129;01min\u001b[39;00m rates\u001b[38;5;241m.\u001b[39mkeys(), \u001b[38;5;124m\"\u001b[39m\u001b[38;5;124m'\u001b[39m\u001b[38;5;124mType\u001b[39m\u001b[38;5;124m'\u001b[39m\u001b[38;5;124m must be one of the three translation type options: \u001b[39m\u001b[38;5;124m'\u001b[39m\u001b[38;5;124mstandard\u001b[39m\u001b[38;5;124m'\u001b[39m\u001b[38;5;124m, \u001b[39m\u001b[38;5;124m'\u001b[39m\u001b[38;5;124mcertified\u001b[39m\u001b[38;5;124m'\u001b[39m\u001b[38;5;124m, \u001b[39m\u001b[38;5;124m'\u001b[39m\u001b[38;5;124mnotarized\u001b[39m\u001b[38;5;124m'\u001b[39m\u001b[38;5;124m.\u001b[39m\u001b[38;5;124m\"\u001b[39m\n\u001b[0;32m      5\u001b[0m     trans_cost \u001b[38;5;241m=\u001b[39m cost_of_translation(words, \u001b[38;5;28mtype\u001b[39m, rush)\n",
      "\u001b[1;31mAssertionError\u001b[0m: Word count must be a positive integer!"
     ]
    }
   ],
   "source": [
    "translation_calculator(0)"
   ]
  },
  {
   "cell_type": "code",
   "execution_count": 29,
   "metadata": {},
   "outputs": [
    {
     "ename": "AssertionError",
     "evalue": "'Type' must be one of the three translation type options: 'standard', 'certified', 'notarized'.",
     "output_type": "error",
     "traceback": [
      "\u001b[1;31m---------------------------------------------------------------------------\u001b[0m",
      "\u001b[1;31mAssertionError\u001b[0m                            Traceback (most recent call last)",
      "Cell \u001b[1;32mIn [29], line 1\u001b[0m\n\u001b[1;32m----> 1\u001b[0m \u001b[43mtranslation_calculator\u001b[49m\u001b[43m(\u001b[49m\u001b[38;5;241;43m500\u001b[39;49m\u001b[43m,\u001b[49m\u001b[43m \u001b[49m\u001b[38;5;124;43m'\u001b[39;49m\u001b[38;5;124;43mlive\u001b[39;49m\u001b[38;5;124;43m'\u001b[39;49m\u001b[43m)\u001b[49m\n",
      "Cell \u001b[1;32mIn [27], line 4\u001b[0m, in \u001b[0;36mtranslation_calculator\u001b[1;34m(words, type, rush)\u001b[0m\n\u001b[0;32m      2\u001b[0m \u001b[38;5;28;01massert\u001b[39;00m \u001b[38;5;28misinstance\u001b[39m(words, \u001b[38;5;28mint\u001b[39m), \u001b[38;5;124m\"\u001b[39m\u001b[38;5;124mWord count must be a positive integer!\u001b[39m\u001b[38;5;124m\"\u001b[39m\n\u001b[0;32m      3\u001b[0m \u001b[38;5;28;01massert\u001b[39;00m words \u001b[38;5;241m>\u001b[39m \u001b[38;5;241m0\u001b[39m, \u001b[38;5;124m\"\u001b[39m\u001b[38;5;124mWord count must be a positive integer!\u001b[39m\u001b[38;5;124m\"\u001b[39m\n\u001b[1;32m----> 4\u001b[0m \u001b[38;5;28;01massert\u001b[39;00m \u001b[38;5;28mtype\u001b[39m \u001b[38;5;129;01min\u001b[39;00m rates\u001b[38;5;241m.\u001b[39mkeys(), \u001b[38;5;124m\"\u001b[39m\u001b[38;5;124m'\u001b[39m\u001b[38;5;124mType\u001b[39m\u001b[38;5;124m'\u001b[39m\u001b[38;5;124m must be one of the three translation type options: \u001b[39m\u001b[38;5;124m'\u001b[39m\u001b[38;5;124mstandard\u001b[39m\u001b[38;5;124m'\u001b[39m\u001b[38;5;124m, \u001b[39m\u001b[38;5;124m'\u001b[39m\u001b[38;5;124mcertified\u001b[39m\u001b[38;5;124m'\u001b[39m\u001b[38;5;124m, \u001b[39m\u001b[38;5;124m'\u001b[39m\u001b[38;5;124mnotarized\u001b[39m\u001b[38;5;124m'\u001b[39m\u001b[38;5;124m.\u001b[39m\u001b[38;5;124m\"\u001b[39m\n\u001b[0;32m      5\u001b[0m trans_cost \u001b[38;5;241m=\u001b[39m cost_of_translation(words, \u001b[38;5;28mtype\u001b[39m, rush)\n\u001b[0;32m      6\u001b[0m sales_tax \u001b[38;5;241m=\u001b[39m sales_tax_notary(words, \u001b[38;5;28mtype\u001b[39m, rush)\n",
      "\u001b[1;31mAssertionError\u001b[0m: 'Type' must be one of the three translation type options: 'standard', 'certified', 'notarized'."
     ]
    }
   ],
   "source": [
    "translation_calculator(500, 'live')"
   ]
  },
  {
   "cell_type": "markdown",
   "metadata": {},
   "source": [
    "### 2B)"
   ]
  },
  {
   "cell_type": "markdown",
   "metadata": {},
   "source": [
    "My approach here is to just wrap the function in a try-except that captures the three classes of errors. Since the operations are nested, I want to make sure that no components will sneak through to the f Prints and return a partially correct receipt. Regardless of which kind of error it is, I want it to simply tell them to check their input values."
   ]
  },
  {
   "cell_type": "code",
   "execution_count": 18,
   "metadata": {},
   "outputs": [],
   "source": [
    "\n",
    "\n",
    "def translation_calculator(words, type = 'standard', rush = False):\n",
    "\n",
    "    try:\n",
    "\n",
    "        if not isinstance(words, int): #must be an integer\n",
    "            raise TypeError\n",
    "\n",
    "        if words < 0 : #must be positive value\n",
    "            raise ValueError\n",
    "        \n",
    "        if type not in rates.keys(): #force dict values\n",
    "            raise KeyError\n",
    "        \n",
    "        if rush not in pace.keys(): #force dict values\n",
    "            raise KeyError\n",
    "\n",
    "        trans_cost = cost_of_translation(words, type, rush)\n",
    "        sales_tax = sales_tax_notary(words, type, rush)\n",
    "\n",
    "            \n",
    "        print(f\"Number of Words: {words}\")\n",
    "        print(f\"Type of Translation: {type}\")\n",
    "        print(f\"Rush Order: {pace[rush]}\")\n",
    "        print(f\"Rate per word: {rates[type]}\")\n",
    "        print('---------------------------')\n",
    "        print(f\"Cost of Translation: {trans_cost}\")\n",
    "        print(f\"Sales Tax: {sales_tax}\")\n",
    "        print('---------------------------')\n",
    "        print(f\"Total Cost: {sales_tax + trans_cost}\")\n",
    "\n",
    "    except (ValueError, TypeError, KeyError):\n",
    "        print('Please check your input values')"
   ]
  },
  {
   "cell_type": "code",
   "execution_count": 19,
   "metadata": {},
   "outputs": [
    {
     "name": "stdout",
     "output_type": "stream",
     "text": [
      "Number of Words: 600\n",
      "Type of Translation: standard\n",
      "Rush Order: 1.0\n",
      "Rate per word: 0.05\n",
      "---------------------------\n",
      "Cost of Translation: 30.0\n",
      "Sales Tax: 3.0\n",
      "---------------------------\n",
      "Total Cost: 33.0\n"
     ]
    }
   ],
   "source": [
    "translation_calculator(600) #test for one correct input"
   ]
  },
  {
   "cell_type": "code",
   "execution_count": 20,
   "metadata": {},
   "outputs": [
    {
     "name": "stdout",
     "output_type": "stream",
     "text": [
      "Number of Words: 600\n",
      "Type of Translation: notarized\n",
      "Rush Order: 1.0\n",
      "Rate per word: 0.12\n",
      "---------------------------\n",
      "Cost of Translation: 72.0\n",
      "Sales Tax: 0\n",
      "---------------------------\n",
      "Total Cost: 72.0\n"
     ]
    }
   ],
   "source": [
    "translation_calculator(600, 'notarized') #test for two correct inputs"
   ]
  },
  {
   "cell_type": "code",
   "execution_count": 21,
   "metadata": {},
   "outputs": [
    {
     "name": "stdout",
     "output_type": "stream",
     "text": [
      "Number of Words: 600\n",
      "Type of Translation: notarized\n",
      "Rush Order: 1.5\n",
      "Rate per word: 0.12\n",
      "---------------------------\n",
      "Cost of Translation: 108.0\n",
      "Sales Tax: 0\n",
      "---------------------------\n",
      "Total Cost: 108.0\n"
     ]
    }
   ],
   "source": [
    "translation_calculator(600, 'notarized', True) #test for three correct inputs"
   ]
  },
  {
   "cell_type": "code",
   "execution_count": 22,
   "metadata": {},
   "outputs": [
    {
     "name": "stdout",
     "output_type": "stream",
     "text": [
      "Please check your input values\n"
     ]
    }
   ],
   "source": [
    "translation_calculator('200') #negative word counts"
   ]
  }
 ],
 "metadata": {
  "kernelspec": {
   "display_name": "Python 3.9.12 ('base')",
   "language": "python",
   "name": "python3"
  },
  "language_info": {
   "codemirror_mode": {
    "name": "ipython",
    "version": 3
   },
   "file_extension": ".py",
   "mimetype": "text/x-python",
   "name": "python",
   "nbconvert_exporter": "python",
   "pygments_lexer": "ipython3",
   "version": "3.9.12"
  },
  "orig_nbformat": 4,
  "vscode": {
   "interpreter": {
    "hash": "ad2bdc8ecc057115af97d19610ffacc2b4e99fae6737bb82f5d7fb13d2f2c186"
   }
  }
 },
 "nbformat": 4,
 "nbformat_minor": 2
}
