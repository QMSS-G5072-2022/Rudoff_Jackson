{
 "cells": [
  {
   "cell_type": "markdown",
   "metadata": {},
   "source": [
    "### Question 1 A)"
   ]
  },
  {
   "cell_type": "code",
   "execution_count": 1,
   "metadata": {},
   "outputs": [],
   "source": [
    "import numpy as np"
   ]
  },
  {
   "cell_type": "code",
   "execution_count": 2,
   "metadata": {},
   "outputs": [],
   "source": [
    "# def cost_of_translation(words, type = 'standard', rush = False):\n",
    "   # if type == 'standard':\n",
    "   #     cost = words*0.05\n",
    "   # elif type == 'certified':\n",
    "   #     cost = words*0.10\n",
    "   # else:\n",
    "   #     cost = words*0.12\n",
    "    \n",
    "   # if rush == True:\n",
    "   #     return(cost*0.5)\n",
    "   # else:\n",
    "   #     return(cost)\n",
    "\n",
    "   # return(float(cost)"
   ]
  },
  {
   "cell_type": "code",
   "execution_count": 3,
   "metadata": {},
   "outputs": [],
   "source": [
    "def cost_of_translation(words, type = 'standard', rush = False):\n",
    "    rates = {'standard': 0.05, 'certified' : 0.10, 'notarized' : 0.12}\n",
    "    pace = {True: 1.50, False: 1.00}\n",
    "\n",
    "    cost = words * rates[type] * pace[rush]\n",
    "\n",
    "    return(float(cost))"
   ]
  },
  {
   "cell_type": "code",
   "execution_count": 4,
   "metadata": {},
   "outputs": [
    {
     "name": "stdout",
     "output_type": "stream",
     "text": [
      "50.0\n"
     ]
    }
   ],
   "source": [
    "print(cost_of_translation(1000))"
   ]
  },
  {
   "cell_type": "markdown",
   "metadata": {},
   "source": [
    "### 1 B)\n"
   ]
  },
  {
   "cell_type": "code",
   "execution_count": 5,
   "metadata": {},
   "outputs": [],
   "source": [
    "def sales_tax(words, type = 'standard', rush = False):\n",
    "    return(cost_of_translation(words, type, rush)*.10)\n"
   ]
  },
  {
   "cell_type": "code",
   "execution_count": 6,
   "metadata": {},
   "outputs": [
    {
     "data": {
      "text/plain": [
       "5.0"
      ]
     },
     "execution_count": 6,
     "metadata": {},
     "output_type": "execute_result"
    }
   ],
   "source": [
    "sales_tax(1000)"
   ]
  },
  {
   "cell_type": "markdown",
   "metadata": {},
   "source": [
    "### 1 C)"
   ]
  },
  {
   "cell_type": "code",
   "execution_count": 7,
   "metadata": {},
   "outputs": [],
   "source": [
    "def sales_tax_notarized(words, type = 'standard', rush = False):\n",
    "    if type == 'notarized':\n",
    "        return(0)\n",
    "    else:\n",
    "        return(cost_of_translation(words, type, rush)*.10)"
   ]
  },
  {
   "cell_type": "code",
   "execution_count": 8,
   "metadata": {},
   "outputs": [
    {
     "data": {
      "text/plain": [
       "0"
      ]
     },
     "execution_count": 8,
     "metadata": {},
     "output_type": "execute_result"
    }
   ],
   "source": [
    "sales_tax_notarized(1000, 'notarized')"
   ]
  },
  {
   "cell_type": "markdown",
   "metadata": {},
   "source": [
    "### 1D)\n"
   ]
  },
  {
   "cell_type": "code",
   "execution_count": 10,
   "metadata": {},
   "outputs": [],
   "source": [
    "def translation_calculator(words, type = 'standard', rush = False):\n",
    "    trans_cost = cost_of_translation(words, type, rush)\n",
    "    sales_tax = sales_tax_notarized(words, type, rush)\n",
    "\n",
    "    #define extra vars for style\n",
    "    rates = {'standard': 0.05, 'certified' : 0.10, 'notarized' : 0.12}\n",
    "    rush_order = {True : 'Yes', False: 'No'}\n",
    "\n",
    "    print(f\"Number of Words: {words}\")\n",
    "    print(f\"Type of Translation: {type}\")\n",
    "    print(f\"Rush Order: {rush_order[rush]}\")\n",
    "    print(f\"Rate per word: {rates[type]}\")\n",
    "    print('---------------------------')\n",
    "    print(f\"Cost of Translation: {trans_cost}\")\n",
    "    print(f\"Sales Tax: {sales_tax}\")\n",
    "    print('---------------------------')\n",
    "    print(f\"Total Cost: {sales_tax + trans_cost}\")\n",
    "\n",
    "\n",
    "\n"
   ]
  },
  {
   "cell_type": "code",
   "execution_count": 11,
   "metadata": {},
   "outputs": [
    {
     "name": "stdout",
     "output_type": "stream",
     "text": [
      "Number of Words: 1000\n",
      "Type of Translation: notarized\n",
      "Rush Order: Yes\n",
      "Rate per word: 0.12\n",
      "---------------------------\n",
      "Cost of Translation: 180.0\n",
      "Sales Tax: 0\n",
      "---------------------------\n",
      "Total Cost: 180.0\n"
     ]
    }
   ],
   "source": [
    "translation_calculator(1000, 'notarized', True)"
   ]
  },
  {
   "cell_type": "markdown",
   "metadata": {},
   "source": [
    "### 2A)"
   ]
  },
  {
   "cell_type": "code",
   "execution_count": 53,
   "metadata": {},
   "outputs": [],
   "source": [
    "def translation_calculator(words, type = 'standard', rush = False):\n",
    "    assert isinstance(words, int), \"Word count must be a positive integer!\"\n",
    "    assert words > 0, \"Word count must be a positive integer!\"\n",
    "    assert type in ['standard', 'certified', 'notarized'], \"'Type' must be one of the three translation type options: 'standard', 'certified', 'notarized'.\"\n",
    "    trans_cost = cost_of_translation(words, type, rush)\n",
    "    sales_tax = sales_tax_notarized(words, type, rush)\n",
    "    \n",
    "    #define extra vars\n",
    "    rates = {'standard': 0.05, 'certified' : 0.10, 'notarized' : 0.12}\n",
    "    rush_order = {True : 'Yes', False: 'No'}\n",
    "\n",
    "\n",
    "    print(f\"Number of Words: {words}\")\n",
    "    print(f\"Type of Translation: {type}\")\n",
    "    print(f\"Rush Order: {rush_order[rush]}\")\n",
    "    print(f\"Rate per word: {rates[type]}\")\n",
    "    print('---------------------------')\n",
    "    print(f\"Cost of Translation: {trans_cost}\")\n",
    "    print(f\"Sales Tax: {sales_tax}\")\n",
    "    print('---------------------------')\n",
    "    print(f\"Total Cost: {sales_tax + trans_cost}\")"
   ]
  },
  {
   "cell_type": "code",
   "execution_count": 54,
   "metadata": {},
   "outputs": [
    {
     "ename": "AssertionError",
     "evalue": "Word count must be a positive integer!",
     "output_type": "error",
     "traceback": [
      "\u001b[1;31m---------------------------------------------------------------------------\u001b[0m",
      "\u001b[1;31mAssertionError\u001b[0m                            Traceback (most recent call last)",
      "Cell \u001b[1;32mIn [54], line 1\u001b[0m\n\u001b[1;32m----> 1\u001b[0m \u001b[43mtranslation_calculator\u001b[49m\u001b[43m(\u001b[49m\u001b[38;5;241;43m0\u001b[39;49m\u001b[43m)\u001b[49m\n",
      "Cell \u001b[1;32mIn [53], line 3\u001b[0m, in \u001b[0;36mtranslation_calculator\u001b[1;34m(words, type, rush)\u001b[0m\n\u001b[0;32m      1\u001b[0m \u001b[38;5;28;01mdef\u001b[39;00m \u001b[38;5;21mtranslation_calculator\u001b[39m(words, \u001b[38;5;28mtype\u001b[39m \u001b[38;5;241m=\u001b[39m \u001b[38;5;124m'\u001b[39m\u001b[38;5;124mstandard\u001b[39m\u001b[38;5;124m'\u001b[39m, rush \u001b[38;5;241m=\u001b[39m \u001b[38;5;28;01mFalse\u001b[39;00m):\n\u001b[0;32m      2\u001b[0m     \u001b[38;5;28;01massert\u001b[39;00m \u001b[38;5;28misinstance\u001b[39m(words, \u001b[38;5;28mint\u001b[39m), \u001b[38;5;124m\"\u001b[39m\u001b[38;5;124mWord count must be a positive integer!\u001b[39m\u001b[38;5;124m\"\u001b[39m\n\u001b[1;32m----> 3\u001b[0m     \u001b[38;5;28;01massert\u001b[39;00m words \u001b[38;5;241m>\u001b[39m \u001b[38;5;241m0\u001b[39m, \u001b[38;5;124m\"\u001b[39m\u001b[38;5;124mWord count must be a positive integer!\u001b[39m\u001b[38;5;124m\"\u001b[39m\n\u001b[0;32m      4\u001b[0m     \u001b[38;5;28;01massert\u001b[39;00m \u001b[38;5;28mtype\u001b[39m \u001b[38;5;129;01min\u001b[39;00m [\u001b[38;5;124m'\u001b[39m\u001b[38;5;124mstandard\u001b[39m\u001b[38;5;124m'\u001b[39m, \u001b[38;5;124m'\u001b[39m\u001b[38;5;124mcertified\u001b[39m\u001b[38;5;124m'\u001b[39m, \u001b[38;5;124m'\u001b[39m\u001b[38;5;124mnotarized\u001b[39m\u001b[38;5;124m'\u001b[39m], \u001b[38;5;124m\"\u001b[39m\u001b[38;5;124m'\u001b[39m\u001b[38;5;124mType\u001b[39m\u001b[38;5;124m'\u001b[39m\u001b[38;5;124m must be one of the three translation type options: \u001b[39m\u001b[38;5;124m'\u001b[39m\u001b[38;5;124mstandard\u001b[39m\u001b[38;5;124m'\u001b[39m\u001b[38;5;124m, \u001b[39m\u001b[38;5;124m'\u001b[39m\u001b[38;5;124mcertified\u001b[39m\u001b[38;5;124m'\u001b[39m\u001b[38;5;124m, \u001b[39m\u001b[38;5;124m'\u001b[39m\u001b[38;5;124mnotarized\u001b[39m\u001b[38;5;124m'\u001b[39m\u001b[38;5;124m.\u001b[39m\u001b[38;5;124m\"\u001b[39m\n\u001b[0;32m      5\u001b[0m     trans_cost \u001b[38;5;241m=\u001b[39m cost_of_translation(words, \u001b[38;5;28mtype\u001b[39m, rush)\n",
      "\u001b[1;31mAssertionError\u001b[0m: Word count must be a positive integer!"
     ]
    }
   ],
   "source": [
    "translation_calculator(0)"
   ]
  },
  {
   "cell_type": "code",
   "execution_count": 55,
   "metadata": {},
   "outputs": [
    {
     "ename": "AssertionError",
     "evalue": "'Type' must be one of the three translation type options: 'standard', 'certified', 'notarized'.",
     "output_type": "error",
     "traceback": [
      "\u001b[1;31m---------------------------------------------------------------------------\u001b[0m",
      "\u001b[1;31mAssertionError\u001b[0m                            Traceback (most recent call last)",
      "Cell \u001b[1;32mIn [55], line 1\u001b[0m\n\u001b[1;32m----> 1\u001b[0m \u001b[43mtranslation_calculator\u001b[49m\u001b[43m(\u001b[49m\u001b[38;5;241;43m500\u001b[39;49m\u001b[43m,\u001b[49m\u001b[43m \u001b[49m\u001b[38;5;124;43m'\u001b[39;49m\u001b[38;5;124;43mlive\u001b[39;49m\u001b[38;5;124;43m'\u001b[39;49m\u001b[43m)\u001b[49m\n",
      "Cell \u001b[1;32mIn [53], line 4\u001b[0m, in \u001b[0;36mtranslation_calculator\u001b[1;34m(words, type, rush)\u001b[0m\n\u001b[0;32m      2\u001b[0m \u001b[38;5;28;01massert\u001b[39;00m \u001b[38;5;28misinstance\u001b[39m(words, \u001b[38;5;28mint\u001b[39m), \u001b[38;5;124m\"\u001b[39m\u001b[38;5;124mWord count must be a positive integer!\u001b[39m\u001b[38;5;124m\"\u001b[39m\n\u001b[0;32m      3\u001b[0m \u001b[38;5;28;01massert\u001b[39;00m words \u001b[38;5;241m>\u001b[39m \u001b[38;5;241m0\u001b[39m, \u001b[38;5;124m\"\u001b[39m\u001b[38;5;124mWord count must be a positive integer!\u001b[39m\u001b[38;5;124m\"\u001b[39m\n\u001b[1;32m----> 4\u001b[0m \u001b[38;5;28;01massert\u001b[39;00m \u001b[38;5;28mtype\u001b[39m \u001b[38;5;129;01min\u001b[39;00m [\u001b[38;5;124m'\u001b[39m\u001b[38;5;124mstandard\u001b[39m\u001b[38;5;124m'\u001b[39m, \u001b[38;5;124m'\u001b[39m\u001b[38;5;124mcertified\u001b[39m\u001b[38;5;124m'\u001b[39m, \u001b[38;5;124m'\u001b[39m\u001b[38;5;124mnotarized\u001b[39m\u001b[38;5;124m'\u001b[39m], \u001b[38;5;124m\"\u001b[39m\u001b[38;5;124m'\u001b[39m\u001b[38;5;124mType\u001b[39m\u001b[38;5;124m'\u001b[39m\u001b[38;5;124m must be one of the three translation type options: \u001b[39m\u001b[38;5;124m'\u001b[39m\u001b[38;5;124mstandard\u001b[39m\u001b[38;5;124m'\u001b[39m\u001b[38;5;124m, \u001b[39m\u001b[38;5;124m'\u001b[39m\u001b[38;5;124mcertified\u001b[39m\u001b[38;5;124m'\u001b[39m\u001b[38;5;124m, \u001b[39m\u001b[38;5;124m'\u001b[39m\u001b[38;5;124mnotarized\u001b[39m\u001b[38;5;124m'\u001b[39m\u001b[38;5;124m.\u001b[39m\u001b[38;5;124m\"\u001b[39m\n\u001b[0;32m      5\u001b[0m trans_cost \u001b[38;5;241m=\u001b[39m cost_of_translation(words, \u001b[38;5;28mtype\u001b[39m, rush)\n\u001b[0;32m      6\u001b[0m sales_tax \u001b[38;5;241m=\u001b[39m sales_tax_notarized(words, \u001b[38;5;28mtype\u001b[39m, rush)\n",
      "\u001b[1;31mAssertionError\u001b[0m: 'Type' must be one of the three translation type options: 'standard', 'certified', 'notarized'."
     ]
    }
   ],
   "source": [
    "translation_calculator(500, 'live')"
   ]
  },
  {
   "cell_type": "markdown",
   "metadata": {},
   "source": [
    "### 2B)"
   ]
  },
  {
   "cell_type": "code",
   "execution_count": 140,
   "metadata": {},
   "outputs": [],
   "source": [
    "def translation_calculator(words, type = 'standard', rush = False):\n",
    "\n",
    "    #define extra vars\n",
    "    rates = {'standard': 0.05, 'certified' : 0.10, 'notarized' : 0.12}\n",
    "    rush_order = {True : 'Yes', False: 'No'}\n",
    "\n",
    "    try: \n",
    "        trans_cost = cost_of_translation(words, type, rush)\n",
    "        sales_tax = sales_tax_notarized(words, type, rush)\n",
    "            \n",
    "        print(f\"Number of Words: {words}\")\n",
    "        print(f\"Type of Translation: {type}\")\n",
    "        print(f\"Rush Order: {rush_order[rush]}\")\n",
    "        print(f\"Rate per word: {rates[type]}\")\n",
    "        print('---------------------------')\n",
    "        print(f\"Cost of Translation: {trans_cost}\")\n",
    "        print(f\"Sales Tax: {sales_tax}\")\n",
    "        print('---------------------------')\n",
    "        print(f\"Total Cost: {sales_tax + trans_cost}\")\n",
    "\n",
    "        if trans_cost < 0 :\n",
    "            raise ValueError\n",
    "        if type != ['standard', 'certified', 'notarized']:\n",
    "            raise KeyError\n",
    "\n",
    "    except (ValueError, KeyError): \n",
    "        print('Please check your input values')"
   ]
  },
  {
   "cell_type": "code",
   "execution_count": 141,
   "metadata": {},
   "outputs": [
    {
     "name": "stdout",
     "output_type": "stream",
     "text": [
      "Please check your input values\n"
     ]
    }
   ],
   "source": [
    "translation_calculator(-200, 'live')"
   ]
  }
 ],
 "metadata": {
  "kernelspec": {
   "display_name": "Python 3.9.12 ('base')",
   "language": "python",
   "name": "python3"
  },
  "language_info": {
   "codemirror_mode": {
    "name": "ipython",
    "version": 3
   },
   "file_extension": ".py",
   "mimetype": "text/x-python",
   "name": "python",
   "nbconvert_exporter": "python",
   "pygments_lexer": "ipython3",
   "version": "3.9.12"
  },
  "orig_nbformat": 4,
  "vscode": {
   "interpreter": {
    "hash": "ad2bdc8ecc057115af97d19610ffacc2b4e99fae6737bb82f5d7fb13d2f2c186"
   }
  }
 },
 "nbformat": 4,
 "nbformat_minor": 2
}
