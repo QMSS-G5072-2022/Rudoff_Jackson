{
 "cells": [
  {
   "cell_type": "markdown",
   "metadata": {},
   "source": [
    "### Question 1 A)"
   ]
  },
  {
   "cell_type": "code",
   "execution_count": 103,
   "metadata": {},
   "outputs": [],
   "source": [
    "import numpy as np"
   ]
  },
  {
   "cell_type": "code",
   "execution_count": 96,
   "metadata": {},
   "outputs": [],
   "source": [
    "# def cost_of_translation(words, type = 'standard', rush = False):\n",
    "   # if type == 'standard':\n",
    "   #     cost = words*0.05\n",
    "   # elif type == 'certified':\n",
    "   #     cost = words*0.10\n",
    "   # else:\n",
    "   #     cost = words*0.12\n",
    "    \n",
    "   # if rush == True:\n",
    "   #     return(cost*0.5)\n",
    "   # else:\n",
    "   #     return(cost)\n",
    "\n",
    "   # return(float(cost)"
   ]
  },
  {
   "cell_type": "code",
   "execution_count": 106,
   "metadata": {},
   "outputs": [],
   "source": [
    "def cost_of_translation(words, type = 'standard', rush = False):\n",
    "    rates = {'standard': 0.05, 'certified' : 0.10, 'notarized' : 0.12}\n",
    "    pace = {True: 1.50, False: 1.00}\n",
    "\n",
    "    cost = words * rates[type] * pace[rush]\n",
    "\n",
    "    return(float(cost))"
   ]
  },
  {
   "cell_type": "code",
   "execution_count": 107,
   "metadata": {},
   "outputs": [
    {
     "name": "stdout",
     "output_type": "stream",
     "text": [
      "50.0\n"
     ]
    }
   ],
   "source": [
    "print(cost_of_translation(1000))"
   ]
  },
  {
   "cell_type": "markdown",
   "metadata": {},
   "source": [
    "### 1 B)\n"
   ]
  },
  {
   "cell_type": "code",
   "execution_count": 109,
   "metadata": {},
   "outputs": [],
   "source": [
    "def sales_tax(words, type = 'standard', rush = False):\n",
    "    return(cost_of_translation(words, type, rush)*.10)\n"
   ]
  },
  {
   "cell_type": "code",
   "execution_count": 110,
   "metadata": {},
   "outputs": [
    {
     "data": {
      "text/plain": [
       "5.0"
      ]
     },
     "execution_count": 110,
     "metadata": {},
     "output_type": "execute_result"
    }
   ],
   "source": [
    "sales_tax(1000)"
   ]
  },
  {
   "cell_type": "markdown",
   "metadata": {},
   "source": [
    "### 1 C)"
   ]
  },
  {
   "cell_type": "code",
   "execution_count": 111,
   "metadata": {},
   "outputs": [],
   "source": [
    "def sales_tax_notarized(words, type = 'standard', rush = False):\n",
    "    if type == 'notarized':\n",
    "        return(0)\n",
    "    else:\n",
    "        return(cost_of_translation(words, type, rush)*.10)"
   ]
  },
  {
   "cell_type": "code",
   "execution_count": 112,
   "metadata": {},
   "outputs": [
    {
     "data": {
      "text/plain": [
       "0"
      ]
     },
     "execution_count": 112,
     "metadata": {},
     "output_type": "execute_result"
    }
   ],
   "source": [
    "sales_tax_notarized(1000, 'notarized')"
   ]
  },
  {
   "cell_type": "markdown",
   "metadata": {},
   "source": [
    "### 1D)\n"
   ]
  },
  {
   "cell_type": "code",
   "execution_count": 114,
   "metadata": {},
   "outputs": [
    {
     "name": "stdout",
     "output_type": "stream",
     "text": [
      "Number of Words: 1000\n",
      "Type of Translation: notarized\n",
      "Rush Order: Yes\n",
      "Rate per word: 0.12\n",
      "---------------------------\n",
      "Cost of Translation: 180.0\n",
      "Sales Tax: 0\n",
      "---------------------------\n",
      "Total Cost: 180.0\n"
     ]
    }
   ],
   "source": [
    "def translation_calculator(words, type = 'standard', rush = False):\n",
    "    trans_cost = cost_of_translation(words, type, rush)\n",
    "    sales_tax = sales_tax_notarized(words, type, rush)\n",
    "\n",
    "    #define extra vars for style\n",
    "    rates = {'standard': 0.05, 'certified' : 0.10, 'notarized' : 0.12}\n",
    "    rush_order = {True : 'Yes', False: 'No'}\n",
    "\n",
    "    print(f\"Number of Words: {words}\")\n",
    "    print(f\"Type of Translation: {type}\")\n",
    "    print(f\"Rush Order: {rush_order[rush]}\")\n",
    "    print(f\"Rate per word: {rates[type]}\")\n",
    "    print('---------------------------')\n",
    "    print(f\"Cost of Translation: {trans_cost}\")\n",
    "    print(f\"Sales Tax: {sales_tax}\")\n",
    "    print('---------------------------')\n",
    "    print(f\"Total Cost: {sales_tax + trans_cost}\")\n",
    "\n",
    "\n",
    "\n",
    "translation_calculator(1000, 'notarized', True)"
   ]
  },
  {
   "cell_type": "code",
   "execution_count": null,
   "metadata": {},
   "outputs": [],
   "source": []
  }
 ],
 "metadata": {
  "kernelspec": {
   "display_name": "Python 3.9.12 ('base')",
   "language": "python",
   "name": "python3"
  },
  "language_info": {
   "codemirror_mode": {
    "name": "ipython",
    "version": 3
   },
   "file_extension": ".py",
   "mimetype": "text/x-python",
   "name": "python",
   "nbconvert_exporter": "python",
   "pygments_lexer": "ipython3",
   "version": "3.9.12"
  },
  "orig_nbformat": 4,
  "vscode": {
   "interpreter": {
    "hash": "ad2bdc8ecc057115af97d19610ffacc2b4e99fae6737bb82f5d7fb13d2f2c186"
   }
  }
 },
 "nbformat": 4,
 "nbformat_minor": 2
}
