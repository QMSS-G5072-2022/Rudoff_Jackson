{
 "cells": [
  {
   "cell_type": "code",
   "execution_count": 25,
   "metadata": {},
   "outputs": [],
   "source": [
    "class Book:\n",
    "    def __init__(self, title, author, genre, grade_level, pages):\n",
    "        self.title = title\n",
    "        self.author = author\n",
    "        self.genre = genre \n",
    "        self.grade_level = grade_level\n",
    "        self.pages = pages\n",
    "        \n",
    "    def __str__(self):\n",
    "        return \"The book \" + self.title + \" by \" + self.author + \" is a \" + self.genre + \" book for \" + str(self.grade_level) + \"th graders.\""
   ]
  },
  {
   "cell_type": "code",
   "execution_count": 3,
   "metadata": {},
   "outputs": [],
   "source": [
    "books = [\n",
    "    {\n",
    "        \"title\": \"The Hunger Games\",\n",
    "        \"author\": \"Suzanne Collins\",\n",
    "        \"genre\": \"Science Fiction\",\n",
    "        \"grade_level\": 7,\n",
    "        \"pages\": 374\n",
    "    },\n",
    "    {\n",
    "        \"title\": \"Harry Potter and the Sorcerer's Stone\",\n",
    "        \"author\": \"J.K. Rowling\",\n",
    "        \"genre\": \"Fantasy\",\n",
    "        \"grade_level\": 5,\n",
    "        \"pages\": 309\n",
    "    },\n",
    "    {\n",
    "        \"title\": \"To Kill a Mockingbird\",\n",
    "        \"author\": \"Harper Lee\",\n",
    "        \"genre\": \"Historical Fiction\",\n",
    "        \"grade_level\": 8,\n",
    "        \"pages\": 281\n",
    "    },\n",
    "    {\n",
    "        \"title\": \"Pride and Prejudice\",\n",
    "        \"author\": \"Jane Austen\",\n",
    "        \"genre\": \"Historical Fiction\",\n",
    "        \"grade_level\": 8,\n",
    "        \"pages\": 279\n",
    "    },\n",
    "    {\n",
    "        \"title\": \"Twilight\",\n",
    "        \"author\": \"Stephenie Meyer\",\n",
    "        \"genre\": \"Fantasy\",\n",
    "        \"grade_level\": 9,\n",
    "        \"pages\": 501\n",
    "    },\n",
    "    {\n",
    "        \"title\": \"The Great Gatsby\",\n",
    "        \"author\": \"F. Scott Fitzgerald\",\n",
    "        \"genre\": \"Historical Fiction\",\n",
    "        \"grade_level\": 10,\n",
    "        \"pages\": 180\n",
    "    },\n",
    "    {\n",
    "        \"title\": \"The Fault in Our Stars\",\n",
    "        \"author\": \"John Green\",\n",
    "        \"genre\": \"Science Fiction\",\n",
    "        \"grade_level\": 9,\n",
    "        \"pages\": 313\n",
    "    },\n",
    "    {\n",
    "        \"title\": \"The Book Thief\",\n",
    "        \"author\": \"Markus Zusak\",\n",
    "        \"genre\": \"Historical Fiction\",\n",
    "        \"grade_level\": 8,\n",
    "        \"pages\": 552\n",
    "    },\n",
    "    {\n",
    "        \"title\": \"The Hobbit\",\n",
    "        \"author\": \"J.R.R. Tolkien\",\n",
    "        \"genre\": \"Fantasy\",\n",
    "        \"grade_level\": 7,\n",
    "        \"pages\": 310\n",
    "    },\n",
    "    {\n",
    "        \"title\": \"The Catcher in the Rye\",\n",
    "        \"author\": \"J.D. Salinger\",\n",
    "        \"genre\": \"Historical Fiction\",\n",
    "        \"grade_level\": 10,\n",
    "        \"pages\": 277\n",
    "    }\n",
    "]"
   ]
  },
  {
   "cell_type": "code",
   "execution_count": 30,
   "metadata": {},
   "outputs": [
    {
     "data": {
      "text/plain": [
       "[<__main__.Book at 0x109df09a0>,\n",
       " <__main__.Book at 0x109df0520>,\n",
       " <__main__.Book at 0x109df0070>,\n",
       " <__main__.Book at 0x109df0c70>,\n",
       " <__main__.Book at 0x109df07c0>,\n",
       " <__main__.Book at 0x109df0b20>,\n",
       " <__main__.Book at 0x109df0a30>,\n",
       " <__main__.Book at 0x109c54460>,\n",
       " <__main__.Book at 0x109c54250>,\n",
       " <__main__.Book at 0x109c54f10>]"
      ]
     },
     "execution_count": 30,
     "metadata": {},
     "output_type": "execute_result"
    }
   ],
   "source": [
    "book_list = []\n",
    "for book in books:\n",
    "    tmp = Book(book['title'], book['author'], book['genre'], book['grade_level'], book['pages'])\n",
    "    book_list.append(tmp)\n",
    "\n",
    "book_list\n"
   ]
  },
  {
   "cell_type": "code",
   "execution_count": 113,
   "metadata": {},
   "outputs": [
    {
     "name": "stdout",
     "output_type": "stream",
     "text": [
      "The book Harry Potter and the Sorcerer's Stone by J.K. Rowling is a Fantasy book for 5th graders.\n",
      "The book To Kill a Mockingbird by Harper Lee is a Historical Fiction book for 8th graders.\n"
     ]
    }
   ],
   "source": [
    "print(book_list[1]) ; print(book_list[2])"
   ]
  },
  {
   "cell_type": "markdown",
   "metadata": {},
   "source": [
    "## Question 2\n"
   ]
  },
  {
   "cell_type": "code",
   "execution_count": 32,
   "metadata": {},
   "outputs": [],
   "source": [
    "class Library(Book):\n",
    "    def __init__(self):\n",
    "        self.Library = []\n",
    "\n",
    "    def add_book(self, book):\n",
    "        self.Library.append(book)\n",
    "\n",
    "    def __str__(self):\n",
    "        title = \"\"\n",
    "        for book in self.Library:\n",
    "            title = title + book.title + \"\\n\" #add more?\n",
    "        return title\n",
    "    \n",
    "    def genre_book(self, genre=\"\"):\n",
    "        tmp = []\n",
    "        for book in self.Library:\n",
    "            if genre == str(book.genre):\n",
    "                tmp.append(book.title)\n",
    "            else :\n",
    "                pass\n",
    "        return tmp\n",
    "    \n",
    "    def grade_books(self, grades=[]):\n",
    "        tmp = []\n",
    "        for book in self.Library:\n",
    "            if book.grade_level in grades:\n",
    "                tmp.append(book.title)\n",
    "            else:\n",
    "                pass\n",
    "        return tmp\n",
    "    \n",
    "    def recommend_books(self, genre = genres, grades = range(0,13), max_page = 100000000):\n",
    "        tmp = []\n",
    "        for book in self.Library:\n",
    "            if (book.genre in genres and book.grade_level in grades and book.pages <= max_page):\n",
    "                tmp.append(book.title)\n",
    "            else:\n",
    "                pass\n",
    "        \n",
    "        return tmp\n",
    "\n",
    "\n",
    "    "
   ]
  },
  {
   "cell_type": "code",
   "execution_count": 34,
   "metadata": {},
   "outputs": [
    {
     "data": {
      "text/plain": [
       "['To Kill a Mockingbird',\n",
       " 'Pride and Prejudice',\n",
       " 'The Great Gatsby',\n",
       " 'The Catcher in the Rye']"
      ]
     },
     "execution_count": 34,
     "metadata": {},
     "output_type": "execute_result"
    }
   ],
   "source": [
    "library1 = Library()\n",
    "\n",
    "for book in book_list:\n",
    "    library1.add_book(book)\n",
    "\n",
    "\n",
    "library1.recommend_books(grades=[8,9,10], max_page=300)\n",
    "\n"
   ]
  },
  {
   "cell_type": "code",
   "execution_count": 21,
   "metadata": {},
   "outputs": [
    {
     "data": {
      "text/plain": [
       "['Science Fiction', 'Fantasy', 'Historical Fiction']"
      ]
     },
     "execution_count": 21,
     "metadata": {},
     "output_type": "execute_result"
    }
   ],
   "source": [
    "##ADD AS STATIC METHOD\n",
    "\n",
    "import numpy as np\n",
    "genres = []\n",
    "for book in books:\n",
    "    genres.append((book['genre']))\n",
    "\n",
    "genres = list(set(genres))\n",
    "genres"
   ]
  }
 ],
 "metadata": {
  "kernelspec": {
   "display_name": "Python 3.9.1 64-bit ('3.9.1')",
   "language": "python",
   "name": "python3"
  },
  "language_info": {
   "codemirror_mode": {
    "name": "ipython",
    "version": 3
   },
   "file_extension": ".py",
   "mimetype": "text/x-python",
   "name": "python",
   "nbconvert_exporter": "python",
   "pygments_lexer": "ipython3",
   "version": "3.9.1"
  },
  "orig_nbformat": 4,
  "vscode": {
   "interpreter": {
    "hash": "27de0925cacb228730def3d8c8fd69bf2d18c5fc3973c732ee3fd09f66da4906"
   }
  }
 },
 "nbformat": 4,
 "nbformat_minor": 2
}
