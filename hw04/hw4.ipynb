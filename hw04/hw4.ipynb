{
 "cells": [
  {
   "cell_type": "markdown",
   "metadata": {},
   "source": [
    "## Homework 4\n",
    "\n",
    "*Jackson Rudoff*\n",
    "\n",
    "**October 11, 2022**"
   ]
  },
  {
   "cell_type": "markdown",
   "metadata": {},
   "source": [
    "### Question 1\n",
    "\n",
    "#### Parts A & B\n",
    "\n",
    "Create class book, with __str__ method for printed objects."
   ]
  },
  {
   "cell_type": "code",
   "execution_count": 1,
   "metadata": {},
   "outputs": [],
   "source": [
    "class Book:\n",
    "    def __init__(self, title, author, genre, grade_level, pages):\n",
    "        self.title = title\n",
    "        self.author = author\n",
    "        self.genre = genre \n",
    "        self.grade_level = grade_level\n",
    "        self.pages = pages\n",
    "        \n",
    "    def __str__(self):\n",
    "        return \"The book '\" + self.title + \"' by \" + self.author + \" is a \" + self.genre + \" book for \" + str(self.grade_level) + \"th graders.\""
   ]
  },
  {
   "cell_type": "code",
   "execution_count": 2,
   "metadata": {},
   "outputs": [
    {
     "name": "stdout",
     "output_type": "stream",
     "text": [
      "The book 'The Hunger Games' by Suzanne Collins is a Science Fiction book for 7th graders.\n"
     ]
    }
   ],
   "source": [
    "## test\n",
    "\n",
    "Hunger_Games = Book(title = \"The Hunger Games\",\n",
    "        author = \"Suzanne Collins\",\n",
    "        genre = \"Science Fiction\",\n",
    "        grade_level = 7,\n",
    "        pages = 374)\n",
    "\n",
    "\n",
    "print(Hunger_Games)"
   ]
  },
  {
   "cell_type": "markdown",
   "metadata": {},
   "source": [
    "#### Part C\n",
    "\n",
    "This can be done with a simple loop that works through each dicionary in the list and feeds values to **Book()** to initialize the object. Appends each object to list, makes them accessible in other functions. "
   ]
  },
  {
   "cell_type": "code",
   "execution_count": 3,
   "metadata": {},
   "outputs": [],
   "source": [
    "books = [\n",
    "    {\n",
    "        \"title\": \"The Hunger Games\",\n",
    "        \"author\": \"Suzanne Collins\",\n",
    "        \"genre\": \"Science Fiction\",\n",
    "        \"grade_level\": 7,\n",
    "        \"pages\": 374\n",
    "    },\n",
    "    {\n",
    "        \"title\": \"Harry Potter and the Sorcerer's Stone\",\n",
    "        \"author\": \"J.K. Rowling\",\n",
    "        \"genre\": \"Fantasy\",\n",
    "        \"grade_level\": 5,\n",
    "        \"pages\": 309\n",
    "    },\n",
    "    {\n",
    "        \"title\": \"To Kill a Mockingbird\",\n",
    "        \"author\": \"Harper Lee\",\n",
    "        \"genre\": \"Historical Fiction\",\n",
    "        \"grade_level\": 8,\n",
    "        \"pages\": 281\n",
    "    },\n",
    "    {\n",
    "        \"title\": \"Pride and Prejudice\",\n",
    "        \"author\": \"Jane Austen\",\n",
    "        \"genre\": \"Historical Fiction\",\n",
    "        \"grade_level\": 8,\n",
    "        \"pages\": 279\n",
    "    },\n",
    "    {\n",
    "        \"title\": \"Twilight\",\n",
    "        \"author\": \"Stephenie Meyer\",\n",
    "        \"genre\": \"Fantasy\",\n",
    "        \"grade_level\": 9,\n",
    "        \"pages\": 501\n",
    "    },\n",
    "    {\n",
    "        \"title\": \"The Great Gatsby\",\n",
    "        \"author\": \"F. Scott Fitzgerald\",\n",
    "        \"genre\": \"Historical Fiction\",\n",
    "        \"grade_level\": 10,\n",
    "        \"pages\": 180\n",
    "    },\n",
    "    {\n",
    "        \"title\": \"The Fault in Our Stars\",\n",
    "        \"author\": \"John Green\",\n",
    "        \"genre\": \"Science Fiction\",\n",
    "        \"grade_level\": 9,\n",
    "        \"pages\": 313\n",
    "    },\n",
    "    {\n",
    "        \"title\": \"The Book Thief\",\n",
    "        \"author\": \"Markus Zusak\",\n",
    "        \"genre\": \"Historical Fiction\",\n",
    "        \"grade_level\": 8,\n",
    "        \"pages\": 552\n",
    "    },\n",
    "    {\n",
    "        \"title\": \"The Hobbit\",\n",
    "        \"author\": \"J.R.R. Tolkien\",\n",
    "        \"genre\": \"Fantasy\",\n",
    "        \"grade_level\": 7,\n",
    "        \"pages\": 310\n",
    "    },\n",
    "    {\n",
    "        \"title\": \"The Catcher in the Rye\",\n",
    "        \"author\": \"J.D. Salinger\",\n",
    "        \"genre\": \"Historical Fiction\",\n",
    "        \"grade_level\": 10,\n",
    "        \"pages\": 277\n",
    "    }\n",
    "]"
   ]
  },
  {
   "cell_type": "code",
   "execution_count": 4,
   "metadata": {},
   "outputs": [
    {
     "data": {
      "text/plain": [
       "[<__main__.Book at 0x10c5a01f0>,\n",
       " <__main__.Book at 0x10c5a0a90>,\n",
       " <__main__.Book at 0x10c5a0af0>,\n",
       " <__main__.Book at 0x10c5a0160>,\n",
       " <__main__.Book at 0x10c5a0940>,\n",
       " <__main__.Book at 0x10c5a05e0>,\n",
       " <__main__.Book at 0x10c5a0220>,\n",
       " <__main__.Book at 0x10c5a0eb0>,\n",
       " <__main__.Book at 0x10c2b36a0>,\n",
       " <__main__.Book at 0x10c2b3a90>]"
      ]
     },
     "execution_count": 4,
     "metadata": {},
     "output_type": "execute_result"
    }
   ],
   "source": [
    "book_list = []\n",
    "for book in books:\n",
    "    tmp = Book(book['title'], book['author'], book['genre'], book['grade_level'], book['pages'])\n",
    "    book_list.append(tmp)\n",
    "\n",
    "book_list"
   ]
  },
  {
   "cell_type": "markdown",
   "metadata": {},
   "source": [
    "This could also be done as a dictionary, but the result is the same. You can then use index values to access each Book. "
   ]
  },
  {
   "cell_type": "markdown",
   "metadata": {},
   "source": [
    "#### Part D"
   ]
  },
  {
   "cell_type": "markdown",
   "metadata": {},
   "source": [
    "Print from the list of books!"
   ]
  },
  {
   "cell_type": "code",
   "execution_count": 5,
   "metadata": {},
   "outputs": [
    {
     "name": "stdout",
     "output_type": "stream",
     "text": [
      "The book 'Harry Potter and the Sorcerer's Stone' by J.K. Rowling is a Fantasy book for 5th graders.\n",
      "The book 'To Kill a Mockingbird' by Harper Lee is a Historical Fiction book for 8th graders.\n"
     ]
    }
   ],
   "source": [
    "print(book_list[1]) ; print(book_list[2])"
   ]
  },
  {
   "cell_type": "markdown",
   "metadata": {},
   "source": [
    "## Question 2\n"
   ]
  },
  {
   "cell_type": "markdown",
   "metadata": {},
   "source": [
    "I apologize for how visually complicated this will get. My general approach was to use class composition to make **Libary()** a class to hold **Book()** objects. "
   ]
  },
  {
   "cell_type": "markdown",
   "metadata": {},
   "source": [
    "#### Part A\n",
    "\n",
    "First initialize the class. "
   ]
  },
  {
   "cell_type": "code",
   "execution_count": 6,
   "metadata": {},
   "outputs": [],
   "source": [
    "class Library(Book):\n",
    "    def __init__(self):\n",
    "        self.Library = []\n",
    "\n",
    "    def add_book(self, book):\n",
    "        self.Library.append(book)"
   ]
  },
  {
   "cell_type": "code",
   "execution_count": 7,
   "metadata": {},
   "outputs": [],
   "source": [
    "#test\n",
    "\n",
    "library_one = Library()\n",
    "\n",
    "for book in book_list:\n",
    "    library_one.add_book(book) #nothing to show yet, but it works"
   ]
  },
  {
   "cell_type": "markdown",
   "metadata": {},
   "source": [
    "#### Part B\n",
    "\n",
    "Give it a fun little print method for all the books we added. Returns it as a list of the titles. "
   ]
  },
  {
   "cell_type": "code",
   "execution_count": 8,
   "metadata": {},
   "outputs": [],
   "source": [
    "class Library(Book):\n",
    "    def __init__(self):\n",
    "        self.Library = []\n",
    "\n",
    "    def add_book(self, book):\n",
    "        self.Library.append(book)\n",
    "\n",
    "    def books_owned(self):\n",
    "        titles = []\n",
    "        for book in self.Library:\n",
    "            titles.append(str(book.title))\n",
    "        return titles"
   ]
  },
  {
   "cell_type": "code",
   "execution_count": 9,
   "metadata": {},
   "outputs": [
    {
     "data": {
      "text/plain": [
       "['The Hunger Games',\n",
       " \"Harry Potter and the Sorcerer's Stone\",\n",
       " 'To Kill a Mockingbird',\n",
       " 'Pride and Prejudice',\n",
       " 'Twilight',\n",
       " 'The Great Gatsby',\n",
       " 'The Fault in Our Stars',\n",
       " 'The Book Thief',\n",
       " 'The Hobbit',\n",
       " 'The Catcher in the Rye']"
      ]
     },
     "execution_count": 9,
     "metadata": {},
     "output_type": "execute_result"
    }
   ],
   "source": [
    "library_two = Library()\n",
    "\n",
    "for book in book_list:\n",
    "    library_two.add_book(book)\n",
    "\n",
    "library_two.books_owned()"
   ]
  },
  {
   "cell_type": "markdown",
   "metadata": {},
   "source": [
    "#### Part C\n",
    "\n",
    "This method returns a list of the books that match the inputted genre. If none match, it returns a string saying there are no books of that genre. "
   ]
  },
  {
   "cell_type": "code",
   "execution_count": 10,
   "metadata": {},
   "outputs": [],
   "source": [
    "class Library(Book):\n",
    "    def __init__(self):\n",
    "        self.Library = []\n",
    "\n",
    "    def add_book(self, book):\n",
    "        self.Library.append(book)\n",
    "\n",
    "    def __str__(self):\n",
    "        title = \"\"\n",
    "        for book in self.Library:\n",
    "            title = \"Book Title: \" + title + book.title + \"\\n\"\n",
    "        return title\n",
    "    \n",
    "    def genre_book(self, genre=\"\"):\n",
    "        tmp =[]\n",
    "        for book in self.Library:\n",
    "            if genre == str(book.genre):\n",
    "                tmp.append(book.title)\n",
    "            else :\n",
    "                pass\n",
    "        \n",
    "        if len(tmp) > 0:\n",
    "            return tmp\n",
    "        else:\n",
    "            return('No books of this genre.')\n"
   ]
  },
  {
   "cell_type": "code",
   "execution_count": 11,
   "metadata": {},
   "outputs": [
    {
     "data": {
      "text/plain": [
       "['To Kill a Mockingbird',\n",
       " 'Pride and Prejudice',\n",
       " 'The Great Gatsby',\n",
       " 'The Book Thief',\n",
       " 'The Catcher in the Rye']"
      ]
     },
     "execution_count": 11,
     "metadata": {},
     "output_type": "execute_result"
    }
   ],
   "source": [
    "library_three = Library()\n",
    "\n",
    "for book in book_list:\n",
    "    library_three.add_book(book)\n",
    "\n",
    "library_three.genre_book('Historical Fiction')\n",
    "\n"
   ]
  },
  {
   "cell_type": "code",
   "execution_count": 12,
   "metadata": {},
   "outputs": [
    {
     "data": {
      "text/plain": [
       "'No books of this genre.'"
      ]
     },
     "execution_count": 12,
     "metadata": {},
     "output_type": "execute_result"
    }
   ],
   "source": [
    "## if none match\n",
    "\n",
    "library_three.genre_book('Sports')"
   ]
  },
  {
   "cell_type": "markdown",
   "metadata": {},
   "source": [
    "#### Part D\n",
    "\n",
    "Very similar to the previous. Accepts list of grades, returns string if list contains bad inputs. "
   ]
  },
  {
   "cell_type": "code",
   "execution_count": 13,
   "metadata": {},
   "outputs": [],
   "source": [
    "class Library(Book):\n",
    "    def __init__(self):\n",
    "        self.Library = []\n",
    "\n",
    "    def add_book(self, book):\n",
    "        self.Library.append(book)\n",
    "\n",
    "    def __str__(self):\n",
    "        title = \"\"\n",
    "        for book in self.Library:\n",
    "            title = \"Book Title: \" + title + book.title + \"\\n\"\n",
    "        return title\n",
    "    \n",
    "    def genre_book(self, genre=\"\"):\n",
    "        for book in self.Library:\n",
    "            if genre == str(book.genre):\n",
    "                tmp.append(book.title)\n",
    "            else :\n",
    "                pass\n",
    "        return tmp\n",
    "    \n",
    "    def grade_books(self, grades=[]):\n",
    "        tmp = []\n",
    "        for book in self.Library:\n",
    "            if book.grade_level in grades:\n",
    "                tmp.append(book.title)\n",
    "            else:\n",
    "                pass\n",
    "        if len(tmp) > 0:\n",
    "            return tmp\n",
    "        else:\n",
    "            return('Sorry, no books for these grade levels.')"
   ]
  },
  {
   "cell_type": "code",
   "execution_count": 14,
   "metadata": {},
   "outputs": [
    {
     "name": "stdout",
     "output_type": "stream",
     "text": [
      "['To Kill a Mockingbird', 'Pride and Prejudice', 'Twilight', 'The Fault in Our Stars', 'The Book Thief']\n",
      "Sorry, no books for these grade levels.\n"
     ]
    }
   ],
   "source": [
    "library_four = Library()\n",
    "\n",
    "for book in book_list:\n",
    "    library_four.add_book(book)\n",
    "\n",
    "print(library_four.grade_books([8,9]))\n",
    "\n",
    "print(library_four.grade_books([0,23])) #if out of range"
   ]
  },
  {
   "cell_type": "markdown",
   "metadata": {},
   "source": [
    "#### Part E\n",
    "\n",
    "My approach here is to set up the function with defaults that will capture all books in the library along the three core parameters. Basically, even if you added more entries, it will be able to reasonably capture them. However, there's a trap here in the genres, which can technically have many more unique entries and aren't confined in the same way as page length and grade level. My solution is to add some extra legwork that gets all the genres contained in the library. It also sets the default as an empty string and a condition that transforms that allows the default to be understood as all genres. "
   ]
  },
  {
   "cell_type": "code",
   "execution_count": 15,
   "metadata": {},
   "outputs": [],
   "source": [
    "class Library(Book):\n",
    "    def __init__(self):\n",
    "        self.Library = []\n",
    "\n",
    "    def add_book(self, book):\n",
    "        self.Library.append(book)\n",
    "\n",
    "    def __str__(self):\n",
    "        title = \"\"\n",
    "        for book in self.Library:\n",
    "            title = \"Book Title: \" + title + book.title + \"\\n\"\n",
    "        return title\n",
    "    \n",
    "    def genre_book(self, genre=\"\"):\n",
    "        for book in self.Library:\n",
    "            if genre == str(book.genre):\n",
    "                tmp.append(book.title)\n",
    "            else :\n",
    "                pass\n",
    "        return tmp\n",
    "    \n",
    "    def grade_books(self, grades=[]):\n",
    "        tmp = []\n",
    "        for book in self.Library:\n",
    "            if book.grade_level in grades:\n",
    "                tmp.append(book.title)\n",
    "            else:\n",
    "                pass\n",
    "        return tmp\n",
    "    \n",
    "    def recommend_books(self, genre = '', grades = range(1,13), max_page = 100000000):\n",
    "        all_genres = set()\n",
    "        for book in self.Library:\n",
    "            all_genres.add(book.genre)\n",
    "        if len(genre) == 0:\n",
    "            genre = all_genres\n",
    "        tmp = []\n",
    "        for book in self.Library:\n",
    "            if (book.genre in genre and book.grade_level in grades and book.pages <= max_page):\n",
    "                tmp.append(book.title)\n",
    "            else:\n",
    "                pass\n",
    "        \n",
    "        return tmp\n"
   ]
  },
  {
   "cell_type": "code",
   "execution_count": 16,
   "metadata": {},
   "outputs": [
    {
     "name": "stdout",
     "output_type": "stream",
     "text": [
      "['To Kill a Mockingbird', 'Pride and Prejudice', 'The Great Gatsby', 'The Catcher in the Rye']\n",
      "[]\n"
     ]
    }
   ],
   "source": [
    "library_final = Library()\n",
    "\n",
    "for book in book_list:\n",
    "    library_final.add_book(book)\n",
    "\n",
    "\n",
    "print(library_final.recommend_books(grades=[8,9,10], max_page=300))\n",
    "\n",
    "print(library_final.recommend_books('Fantasy', [8,9,10], 300)) #test for all three inputs"
   ]
  },
  {
   "cell_type": "code",
   "execution_count": 17,
   "metadata": {},
   "outputs": [
    {
     "data": {
      "text/plain": [
       "['Summer of `49']"
      ]
     },
     "execution_count": 17,
     "metadata": {},
     "output_type": "execute_result"
    }
   ],
   "source": [
    "# What if we add a new genre of book?\n",
    "\n",
    "new_book = Book('Summer of `49', 'David Halberstam', 'Sports', 12, 425)\n",
    "\n",
    "library_final.add_book(new_book)\n",
    "\n",
    "library_final.recommend_books('Sports')\n"
   ]
  },
  {
   "cell_type": "code",
   "execution_count": 18,
   "metadata": {},
   "outputs": [
    {
     "data": {
      "text/plain": [
       "['The Hunger Games',\n",
       " \"Harry Potter and the Sorcerer's Stone\",\n",
       " 'To Kill a Mockingbird',\n",
       " 'Pride and Prejudice',\n",
       " 'Twilight',\n",
       " 'The Great Gatsby',\n",
       " 'The Fault in Our Stars',\n",
       " 'The Book Thief',\n",
       " 'The Hobbit',\n",
       " 'The Catcher in the Rye',\n",
       " 'Summer of `49']"
      ]
     },
     "execution_count": 18,
     "metadata": {},
     "output_type": "execute_result"
    }
   ],
   "source": [
    "# make sure it captures all entries\n",
    "\n",
    "library_final.recommend_books()"
   ]
  },
  {
   "cell_type": "markdown",
   "metadata": {},
   "source": [
    "**Note:** I structured my homework this way for clarity. I am aware that the prior **Libary** instances will not have the methods I added in subequent chunks. "
   ]
  },
  {
   "cell_type": "code",
   "execution_count": 19,
   "metadata": {},
   "outputs": [
    {
     "ename": "AttributeError",
     "evalue": "'Library' object has no attribute 'genre_book'",
     "output_type": "error",
     "traceback": [
      "\u001b[0;31m---------------------------------------------------------------------------\u001b[0m",
      "\u001b[0;31mAttributeError\u001b[0m                            Traceback (most recent call last)",
      "Cell \u001b[0;32mIn [19], line 1\u001b[0m\n\u001b[0;32m----> 1\u001b[0m library_one\u001b[39m.\u001b[39mgenre_book()\n",
      "\u001b[0;31mAttributeError\u001b[0m: 'Library' object has no attribute 'genre_book'"
     ]
    }
   ],
   "source": [
    "library_one.genre_book()"
   ]
  }
 ],
 "metadata": {
  "kernelspec": {
   "display_name": "Python 3.9.1 64-bit ('3.9.1')",
   "language": "python",
   "name": "python3"
  },
  "language_info": {
   "codemirror_mode": {
    "name": "ipython",
    "version": 3
   },
   "file_extension": ".py",
   "mimetype": "text/x-python",
   "name": "python",
   "nbconvert_exporter": "python",
   "pygments_lexer": "ipython3",
   "version": "3.9.1"
  },
  "orig_nbformat": 4,
  "vscode": {
   "interpreter": {
    "hash": "27de0925cacb228730def3d8c8fd69bf2d18c5fc3973c732ee3fd09f66da4906"
   }
  }
 },
 "nbformat": 4,
 "nbformat_minor": 2
}
