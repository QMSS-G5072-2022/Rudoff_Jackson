{
 "cells": [
  {
   "cell_type": "markdown",
   "id": "d4e09436",
   "metadata": {},
   "source": [
    "## Question 1: Favorite Data Science Blog"
   ]
  },
  {
   "cell_type": "markdown",
   "id": "6822bcc3",
   "metadata": {},
   "source": [
    "## Question 2: Inspirational Quote"
   ]
  },
  {
   "cell_type": "markdown",
   "id": "acca71a3",
   "metadata": {},
   "source": [
    "## Question 3: Latex Figure\n"
   ]
  },
  {
   "cell_type": "markdown",
   "id": "19c906b0",
   "metadata": {},
   "source": [
    "## Question 4: Markdown Table"
   ]
  },
  {
   "cell_type": "markdown",
   "id": "06dba358",
   "metadata": {},
   "source": [
    "## Question 5: Current Working Directory"
   ]
  },
  {
   "cell_type": "markdown",
   "id": "b5e5b4c5",
   "metadata": {},
   "source": [
    "## Question 6: External Script"
   ]
  }
 ],
 "metadata": {
  "kernelspec": {
   "display_name": "Python 3 (ipykernel)",
   "language": "python",
   "name": "python3"
  },
  "language_info": {
   "codemirror_mode": {
    "name": "ipython",
    "version": 3
   },
   "file_extension": ".py",
   "mimetype": "text/x-python",
   "name": "python",
   "nbconvert_exporter": "python",
   "pygments_lexer": "ipython3",
   "version": "3.10.7"
  }
 },
 "nbformat": 4,
 "nbformat_minor": 5
}
