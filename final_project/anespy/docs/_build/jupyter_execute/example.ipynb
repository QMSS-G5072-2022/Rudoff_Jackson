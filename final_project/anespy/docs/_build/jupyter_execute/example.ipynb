{
 "cells": [
  {
   "cell_type": "markdown",
   "metadata": {},
   "source": [
    "# Example usage\n",
    "\n",
    "To use `anespy` in a project:"
   ]
  },
  {
   "cell_type": "code",
   "execution_count": 1,
   "metadata": {},
   "outputs": [
    {
     "ename": "NameError",
     "evalue": "name 'anespy' is not defined",
     "output_type": "error",
     "traceback": [
      "\u001b[0;31m---------------------------------------------------------------------------\u001b[0m",
      "\u001b[0;31mNameError\u001b[0m                                 Traceback (most recent call last)",
      "Cell \u001b[0;32mIn[1], line 3\u001b[0m\n\u001b[1;32m      1\u001b[0m \u001b[38;5;28;01mimport\u001b[39;00m \u001b[38;5;21;01manespy\u001b[39;00m\u001b[38;5;21;01m.\u001b[39;00m\u001b[38;5;21;01manespy\u001b[39;00m \u001b[38;5;28;01mas\u001b[39;00m \u001b[38;5;21;01manes\u001b[39;00m\n\u001b[0;32m----> 3\u001b[0m \u001b[38;5;28mprint\u001b[39m(\u001b[43manespy\u001b[49m\u001b[38;5;241m.\u001b[39m__version__)\n",
      "\u001b[0;31mNameError\u001b[0m: name 'anespy' is not defined"
     ]
    }
   ],
   "source": [
    "import anespy.anespy as anes\n",
    "\n",
    "print(anespy.__version__)"
   ]
  },
  {
   "attachments": {},
   "cell_type": "markdown",
   "metadata": {},
   "source": [
    "## Loading ANES Data\n",
    "\n",
    "One of the primary challenges of working with ANES data is that it's all over the place, and there is no *true* API for repeatedly accessing the data. Getting data files requires clicking a button for the format you'd like, which means that there are no user-facing static links for getting data. However, there is a somewhat hidden internal API that the site makes requests to when you select the file you wish to download. This package leverages this request system to acquire the datasets. \n",
    "\n",
    "The function ````load_ANES_data(year, add_names = False)```` takes two arguments:\n",
    "1. ```year```: year of the data you would like to access\n",
    "2. ```add_names```: if you want to swap the variable names for their more complete, context-inclusive names (defaults to ```False```)"
   ]
  },
  {
   "attachments": {},
   "cell_type": "markdown",
   "metadata": {},
   "source": [
    "For example, say you wanted to pull the 2016 version of the main ANES Time Series:"
   ]
  },
  {
   "cell_type": "code",
   "execution_count": null,
   "metadata": {},
   "outputs": [],
   "source": [
    "data = anes.load_ANES_data(2016)\n",
    "data.head()"
   ]
  },
  {
   "attachments": {},
   "cell_type": "markdown",
   "metadata": {},
   "source": [
    "This package (at present) provides support for only the main Time Series supplements for the ANES going back to 2000. To check what versions are available, you can use the ```editions()``` method."
   ]
  },
  {
   "cell_type": "code",
   "execution_count": null,
   "metadata": {},
   "outputs": [],
   "source": [
    "anes.editions()"
   ]
  },
  {
   "attachments": {},
   "cell_type": "markdown",
   "metadata": {},
   "source": [
    "But there is something essential to note here about the data we just loaded. Though it is a DataFrame, it also *isn't* a DataFrame. "
   ]
  },
  {
   "cell_type": "code",
   "execution_count": null,
   "metadata": {},
   "outputs": [],
   "source": [
    "type(data)"
   ]
  },
  {
   "attachments": {},
   "cell_type": "markdown",
   "metadata": {},
   "source": [
    "As part of the acquisition, the data are instantiated as an ```ANES``` object. "
   ]
  },
  {
   "attachments": {},
   "cell_type": "markdown",
   "metadata": {},
   "source": [
    "## The ```ANES``` Class\n",
    "\n",
    "Part of this package is the ```ANES``` class, which is a child of ```Pandas.DataFrame```. Much of the functionality of ```Pandas``` applies to work with ANES data, but there are consistent properties across ANES Time Series instances that make them worthy of additional methods. \n",
    "\n",
    "When you load ANES data, it is instantiated as an ```ANES``` object with a ```year``` property. For example, the data we just loaded:\n"
   ]
  },
  {
   "cell_type": "code",
   "execution_count": null,
   "metadata": {},
   "outputs": [],
   "source": [
    "data.year"
   ]
  },
  {
   "attachments": {},
   "cell_type": "markdown",
   "metadata": {},
   "source": [
    "This property is very useful for class methods, or if you're transforming and combining datasets from multiple years.  "
   ]
  },
  {
   "attachments": {},
   "cell_type": "markdown",
   "metadata": {},
   "source": [
    "## Adding Years to the Data\n",
    "\n",
    "An advantage of the ```ANES``` class is that certain transformations and functions can access the year of the Time Series automatically. For example, a common problem with ANES data is that they do not include a **Year** column by default outside of the long **version** name. One of the built-ins with this package is the class method ```add_year(self)```, which appends a **Year** column to the beginning of the ```ANES``` object. "
   ]
  },
  {
   "cell_type": "code",
   "execution_count": null,
   "metadata": {},
   "outputs": [],
   "source": [
    "data.add_year()\n",
    "data.head()"
   ]
  },
  {
   "attachments": {},
   "cell_type": "markdown",
   "metadata": {},
   "source": [
    "This can be especially useful for data intended to be exported, joining variables across time series, or merging ANES samples with other datasets from the same year. "
   ]
  },
  {
   "attachments": {},
   "cell_type": "markdown",
   "metadata": {},
   "source": [
    "## Converting Variable Names\n",
    "\n",
    "Something you might have noticed about the example data is that the variable names are non-identifying. Typically, work with ANES data requires referencing a codebook to understand what the variables you're working with are. This is only the beginning of the issues with ANES variable names, but included in this package is ```convert_var_names(self, drop_extra = True)```, which recodes the variable names as their full title from the codebook. \n"
   ]
  },
  {
   "cell_type": "code",
   "execution_count": null,
   "metadata": {},
   "outputs": [],
   "source": [
    "data.convert_var_names()\n",
    "data.head()"
   ]
  },
  {
   "attachments": {},
   "cell_type": "markdown",
   "metadata": {},
   "source": [
    "But if you change your mind at any point, this transformation can be undone:"
   ]
  },
  {
   "cell_type": "code",
   "execution_count": null,
   "metadata": {},
   "outputs": [],
   "source": [
    "data.convert_var_names()\n",
    "data.head()"
   ]
  },
  {
   "attachments": {},
   "cell_type": "markdown",
   "metadata": {},
   "source": [
    "Something to note is that you may lose some variables because of a mismatch between the codebook's listed variables and what is actually provided in the data. If you would like to retain the extra data and manually search these mystery variables, you have the option to set ```drop_extra``` to false during the initial conversion."
   ]
  },
  {
   "cell_type": "code",
   "execution_count": null,
   "metadata": {},
   "outputs": [],
   "source": [
    "data = anes.load_ANES_data(2016)\n",
    "data.convert_var_names(drop_extra = False)\n",
    "data.head()"
   ]
  },
  {
   "attachments": {},
   "cell_type": "markdown",
   "metadata": {},
   "source": [
    "## Recoding To Categories\n",
    "\n",
    "Another disadvantage of ANES data 'as-is' is that the data are that most of the variables are factors, but are inconsistently coded. This issue is partially resolved by the ```load_ANES_data``` function, yet there remains the issue of ambiguous values for categoricals. Packaged with ```ANESPy``` is ```recode_to_char```, which replaces the values for a selected column with their full character labels from the codebook.\n",
    "\n",
    "For example, the 2012 edition includes some ideology variables, which when left as numbers, are not entirely useful. "
   ]
  },
  {
   "cell_type": "code",
   "execution_count": null,
   "metadata": {},
   "outputs": [],
   "source": [
    "data = anes.load_ANES_data(2008)\n",
    "data['V083099a']"
   ]
  },
  {
   "attachments": {},
   "cell_type": "markdown",
   "metadata": {},
   "source": [
    "After recoding:"
   ]
  },
  {
   "cell_type": "code",
   "execution_count": null,
   "metadata": {},
   "outputs": [],
   "source": [
    "data.recode_to_char('V083099a')"
   ]
  },
  {
   "attachments": {},
   "cell_type": "markdown",
   "metadata": {},
   "source": [
    "Now we have a complete understanding of what these variables represent.\n",
    "\n",
    "#### A Note About Variable Names\n",
    "\n",
    "At present, this function is designed to work only with the variable names in their original \"V_____\" format. Because of the duplicated pre/post variable issue, some variables will return a `KeyError` after being converted to their full-context name."
   ]
  },
  {
   "attachments": {},
   "cell_type": "markdown",
   "metadata": {},
   "source": [
    "## Split Pre & Post Variables\n",
    "\n",
    "Another somewhat unbelievable issue with ANES datasets is that some years have duplicated variable codes. The first appearance represents the *pre-election* sample, while the second represents the *post-election* sample. As part of the ```convert_var_names``` functionality, specific variables are given \"Pre\" and \"Post\" tags. These can then be leveraged to split the variables into Pre and Post groups, which can be very useful for later analysis."
   ]
  },
  {
   "cell_type": "code",
   "execution_count": 16,
   "metadata": {},
   "outputs": [
    {
     "name": "stderr",
     "output_type": "stream",
     "text": [
      "/Users/jacksonrudoff/opt/anaconda3/lib/python3.9/site-packages/anespy/anespy.py:182: FutureWarning: The default value of regex will change from True to False in a future version.\n",
      "  \n"
     ]
    },
    {
     "name": "stdout",
     "output_type": "stream",
     "text": [
      "Converted to numbered variables.\n"
     ]
    }
   ],
   "source": [
    "data = anes.load_ANES_data(2012)\n",
    "data.convert_var_names()\n",
    "data_pre, data_post = data.split_pre_post()"
   ]
  },
  {
   "cell_type": "code",
   "execution_count": 17,
   "metadata": {},
   "outputs": [
    {
     "data": {
      "text/html": [
       "<div>\n",
       "<style scoped>\n",
       "    .dataframe tbody tr th:only-of-type {\n",
       "        vertical-align: middle;\n",
       "    }\n",
       "\n",
       "    .dataframe tbody tr th {\n",
       "        vertical-align: top;\n",
       "    }\n",
       "\n",
       "    .dataframe thead th {\n",
       "        text-align: right;\n",
       "    }\n",
       "</style>\n",
       "<table border=\"1\" class=\"dataframe\">\n",
       "  <thead>\n",
       "    <tr style=\"text-align: right;\">\n",
       "      <th></th>\n",
       "    </tr>\n",
       "  </thead>\n",
       "  <tbody>\n",
       "    <tr>\n",
       "      <th>0</th>\n",
       "    </tr>\n",
       "    <tr>\n",
       "      <th>1</th>\n",
       "    </tr>\n",
       "    <tr>\n",
       "      <th>2</th>\n",
       "    </tr>\n",
       "    <tr>\n",
       "      <th>3</th>\n",
       "    </tr>\n",
       "    <tr>\n",
       "      <th>4</th>\n",
       "    </tr>\n",
       "    <tr>\n",
       "      <th>...</th>\n",
       "    </tr>\n",
       "    <tr>\n",
       "      <th>5909</th>\n",
       "    </tr>\n",
       "    <tr>\n",
       "      <th>5910</th>\n",
       "    </tr>\n",
       "    <tr>\n",
       "      <th>5911</th>\n",
       "    </tr>\n",
       "    <tr>\n",
       "      <th>5912</th>\n",
       "    </tr>\n",
       "    <tr>\n",
       "      <th>5913</th>\n",
       "    </tr>\n",
       "  </tbody>\n",
       "</table>\n",
       "<p>5914 rows × 0 columns</p>\n",
       "</div>"
      ],
      "text/plain": [
       "Empty ANES\n",
       "Columns: []\n",
       "Index: [0, 1, 2, 3, 4, 5, 6, 7, 8, 9, 10, 11, 12, 13, 14, 15, 16, 17, 18, 19, 20, 21, 22, 23, 24, 25, 26, 27, 28, 29, 30, 31, 32, 33, 34, 35, 36, 37, 38, 39, 40, 41, 42, 43, 44, 45, 46, 47, 48, 49, 50, 51, 52, 53, 54, 55, 56, 57, 58, 59, 60, 61, 62, 63, 64, 65, 66, 67, 68, 69, 70, 71, 72, 73, 74, 75, 76, 77, 78, 79, 80, 81, 82, 83, 84, 85, 86, 87, 88, 89, 90, 91, 92, 93, 94, 95, 96, 97, 98, 99, ...]\n",
       "\n",
       "[5914 rows x 0 columns]"
      ]
     },
     "execution_count": 17,
     "metadata": {},
     "output_type": "execute_result"
    }
   ],
   "source": [
    "data_pre"
   ]
  },
  {
   "attachments": {},
   "cell_type": "markdown",
   "metadata": {},
   "source": [
    "## Generate a Sample\n",
    "\n",
    "Lastly, this package allows you to draw a sample from the object along a set of specific variables. This can be useful for designs involving re-sampling, exploratory statistical testing, or other functions where the entire set of respondents is not needed. \n",
    "\n",
    "The ```generate_sample``` function takes two arguments: `variables` (a list of variable names) and `n_respondents`, which is size of the sample you want to extract. "
   ]
  },
  {
   "cell_type": "code",
   "execution_count": 21,
   "metadata": {},
   "outputs": [
    {
     "name": "stderr",
     "output_type": "stream",
     "text": [
      "/Users/jacksonrudoff/opt/anaconda3/lib/python3.9/site-packages/anespy/anespy.py:182: FutureWarning: The default value of regex will change from True to False in a future version.\n",
      "  \n"
     ]
    },
    {
     "data": {
      "text/html": [
       "<div>\n",
       "<style scoped>\n",
       "    .dataframe tbody tr th:only-of-type {\n",
       "        vertical-align: middle;\n",
       "    }\n",
       "\n",
       "    .dataframe tbody tr th {\n",
       "        vertical-align: top;\n",
       "    }\n",
       "\n",
       "    .dataframe thead th {\n",
       "        text-align: right;\n",
       "    }\n",
       "</style>\n",
       "<table border=\"1\" class=\"dataframe\">\n",
       "  <thead>\n",
       "    <tr style=\"text-align: right;\">\n",
       "      <th></th>\n",
       "      <th>Version</th>\n",
       "      <th>Dsetid</th>\n",
       "      <th>V040001</th>\n",
       "      <th>V040002</th>\n",
       "      <th>V040101</th>\n",
       "      <th>V040102</th>\n",
       "      <th>V040103</th>\n",
       "    </tr>\n",
       "  </thead>\n",
       "  <tbody>\n",
       "    <tr>\n",
       "      <th>139</th>\n",
       "      <td>2004NES_VERSION:2005AUG16</td>\n",
       "      <td>2004.T</td>\n",
       "      <td>140</td>\n",
       "      <td>693</td>\n",
       "      <td>0.9129</td>\n",
       "      <td>0.9251</td>\n",
       "      <td>202</td>\n",
       "    </tr>\n",
       "    <tr>\n",
       "      <th>395</th>\n",
       "      <td>2004NES_VERSION:2005AUG16</td>\n",
       "      <td>2004.T</td>\n",
       "      <td>396</td>\n",
       "      <td>576</td>\n",
       "      <td>1.2559</td>\n",
       "      <td>1.2903</td>\n",
       "      <td>242</td>\n",
       "    </tr>\n",
       "    <tr>\n",
       "      <th>223</th>\n",
       "      <td>2004NES_VERSION:2005AUG16</td>\n",
       "      <td>2004.T</td>\n",
       "      <td>224</td>\n",
       "      <td>613</td>\n",
       "      <td>0.9218</td>\n",
       "      <td>0.8961</td>\n",
       "      <td>262</td>\n",
       "    </tr>\n",
       "    <tr>\n",
       "      <th>1197</th>\n",
       "      <td>2004NES_VERSION:2005AUG16</td>\n",
       "      <td>2004.T</td>\n",
       "      <td>1199</td>\n",
       "      <td>588</td>\n",
       "      <td>0.9994</td>\n",
       "      <td>1.0542</td>\n",
       "      <td>232</td>\n",
       "    </tr>\n",
       "    <tr>\n",
       "      <th>491</th>\n",
       "      <td>2004NES_VERSION:2005AUG16</td>\n",
       "      <td>2004.T</td>\n",
       "      <td>492</td>\n",
       "      <td>407</td>\n",
       "      <td>0.5177</td>\n",
       "      <td>0.5571</td>\n",
       "      <td>181</td>\n",
       "    </tr>\n",
       "    <tr>\n",
       "      <th>737</th>\n",
       "      <td>2004NES_VERSION:2005AUG16</td>\n",
       "      <td>2004.T</td>\n",
       "      <td>738</td>\n",
       "      <td>757</td>\n",
       "      <td>1.7232</td>\n",
       "      <td>1.7703</td>\n",
       "      <td>141</td>\n",
       "    </tr>\n",
       "    <tr>\n",
       "      <th>369</th>\n",
       "      <td>2004NES_VERSION:2005AUG16</td>\n",
       "      <td>2004.T</td>\n",
       "      <td>370</td>\n",
       "      <td>335</td>\n",
       "      <td>1.4699</td>\n",
       "      <td>1.5101</td>\n",
       "      <td>212</td>\n",
       "    </tr>\n",
       "    <tr>\n",
       "      <th>839</th>\n",
       "      <td>2004NES_VERSION:2005AUG16</td>\n",
       "      <td>2004.T</td>\n",
       "      <td>840</td>\n",
       "      <td>951</td>\n",
       "      <td>1.4943</td>\n",
       "      <td>1.6498</td>\n",
       "      <td>161</td>\n",
       "    </tr>\n",
       "    <tr>\n",
       "      <th>216</th>\n",
       "      <td>2004NES_VERSION:2005AUG16</td>\n",
       "      <td>2004.T</td>\n",
       "      <td>217</td>\n",
       "      <td>574</td>\n",
       "      <td>1.1943</td>\n",
       "      <td>1.0514</td>\n",
       "      <td>262</td>\n",
       "    </tr>\n",
       "    <tr>\n",
       "      <th>1115</th>\n",
       "      <td>2004NES_VERSION:2005AUG16</td>\n",
       "      <td>2004.T</td>\n",
       "      <td>1117</td>\n",
       "      <td>644</td>\n",
       "      <td>0.8616</td>\n",
       "      <td>0.8852</td>\n",
       "      <td>142</td>\n",
       "    </tr>\n",
       "  </tbody>\n",
       "</table>\n",
       "</div>"
      ],
      "text/plain": [
       "                        Version  Dsetid  V040001  V040002  V040101  V040102  \\\n",
       "139   2004NES_VERSION:2005AUG16  2004.T      140      693   0.9129   0.9251   \n",
       "395   2004NES_VERSION:2005AUG16  2004.T      396      576   1.2559   1.2903   \n",
       "223   2004NES_VERSION:2005AUG16  2004.T      224      613   0.9218   0.8961   \n",
       "1197  2004NES_VERSION:2005AUG16  2004.T     1199      588   0.9994   1.0542   \n",
       "491   2004NES_VERSION:2005AUG16  2004.T      492      407   0.5177   0.5571   \n",
       "737   2004NES_VERSION:2005AUG16  2004.T      738      757   1.7232   1.7703   \n",
       "369   2004NES_VERSION:2005AUG16  2004.T      370      335   1.4699   1.5101   \n",
       "839   2004NES_VERSION:2005AUG16  2004.T      840      951   1.4943   1.6498   \n",
       "216   2004NES_VERSION:2005AUG16  2004.T      217      574   1.1943   1.0514   \n",
       "1115  2004NES_VERSION:2005AUG16  2004.T     1117      644   0.8616   0.8852   \n",
       "\n",
       "      V040103  \n",
       "139       202  \n",
       "395       242  \n",
       "223       262  \n",
       "1197      232  \n",
       "491       181  \n",
       "737       141  \n",
       "369       212  \n",
       "839       161  \n",
       "216       262  \n",
       "1115      142  "
      ]
     },
     "execution_count": 21,
     "metadata": {},
     "output_type": "execute_result"
    }
   ],
   "source": [
    "data = anes.load_ANES_data(2004)\n",
    "sample = data.generate_sample(list(data.columns.values[0:7]), n_respondents = 10)\n",
    "sample"
   ]
  }
 ],
 "metadata": {
  "kernelspec": {
   "display_name": "base",
   "language": "python",
   "name": "python3"
  },
  "language_info": {
   "codemirror_mode": {
    "name": "ipython",
    "version": 3
   },
   "file_extension": ".py",
   "mimetype": "text/x-python",
   "name": "python",
   "nbconvert_exporter": "python",
   "pygments_lexer": "ipython3",
   "version": "3.9.12"
  },
  "vscode": {
   "interpreter": {
    "hash": "913f9b68dc7dc4e1586ca5106799e9fa447f32907950a4df651996efa7e88ee2"
   }
  }
 },
 "nbformat": 4,
 "nbformat_minor": 4
}