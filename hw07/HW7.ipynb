{
 "cells": [
  {
   "cell_type": "markdown",
   "metadata": {},
   "source": [
    "## Homework 7\n",
    "\n",
    "*Jackson Rudoff*\n",
    "\n",
    "**November 1, 2022**"
   ]
  },
  {
   "cell_type": "markdown",
   "metadata": {},
   "source": [
    "### Accessing the Package\n",
    "\n",
    "https://test.pypi.org/project/cipher-jer2240\n",
    "\n",
    "https://github.com/QMSS-G5072-2022/cipher_rudoff_jackson\n",
    "\n"
   ]
  },
  {
   "cell_type": "markdown",
   "metadata": {},
   "source": [
    "### Installing the Package"
   ]
  },
  {
   "cell_type": "code",
   "execution_count": 10,
   "metadata": {},
   "outputs": [
    {
     "name": "stdout",
     "output_type": "stream",
     "text": [
      "Looking in indexes: https://test.pypi.org/simple/\n",
      "Requirement already satisfied: cipher-jer2240 in c:\\users\\jackson\\.pyenv\\pyenv-win\\versions\\3.9.1\\lib\\site-packages (0.1.0)\n",
      "Requirement already satisfied: pandas<2.0.0,>=1.5.1 in c:\\users\\jackson\\.pyenv\\pyenv-win\\versions\\3.9.1\\lib\\site-packages (from cipher-jer2240) (1.5.1)\n",
      "Requirement already satisfied: pytest<8.0.0,>=7.2.0 in c:\\users\\jackson\\.pyenv\\pyenv-win\\versions\\3.9.1\\lib\\site-packages (from cipher-jer2240) (7.2.0)\n",
      "Requirement already satisfied: python-dateutil>=2.8.1 in c:\\users\\jackson\\appdata\\roaming\\python\\python39\\site-packages (from pandas<2.0.0,>=1.5.1->cipher-jer2240) (2.8.2)\n",
      "Requirement already satisfied: numpy>=1.20.3; python_version < \"3.10\" in c:\\users\\jackson\\.pyenv\\pyenv-win\\versions\\3.9.1\\lib\\site-packages (from pandas<2.0.0,>=1.5.1->cipher-jer2240) (1.23.4)\n",
      "Requirement already satisfied: pytz>=2020.1 in c:\\users\\jackson\\.pyenv\\pyenv-win\\versions\\3.9.1\\lib\\site-packages (from pandas<2.0.0,>=1.5.1->cipher-jer2240) (2022.6)\n",
      "Requirement already satisfied: iniconfig in c:\\users\\jackson\\.pyenv\\pyenv-win\\versions\\3.9.1\\lib\\site-packages (from pytest<8.0.0,>=7.2.0->cipher-jer2240) (1.1.1)\n",
      "Requirement already satisfied: tomli>=1.0.0; python_version < \"3.11\" in c:\\users\\jackson\\.pyenv\\pyenv-win\\versions\\3.9.1\\lib\\site-packages (from pytest<8.0.0,>=7.2.0->cipher-jer2240) (2.0.1)\n",
      "Requirement already satisfied: pluggy<2.0,>=0.12 in c:\\users\\jackson\\.pyenv\\pyenv-win\\versions\\3.9.1\\lib\\site-packages (from pytest<8.0.0,>=7.2.0->cipher-jer2240) (1.0.0)\n",
      "Requirement already satisfied: attrs>=19.2.0 in c:\\users\\jackson\\.pyenv\\pyenv-win\\versions\\3.9.1\\lib\\site-packages (from pytest<8.0.0,>=7.2.0->cipher-jer2240) (22.1.0)\n",
      "Requirement already satisfied: exceptiongroup>=1.0.0rc8; python_version < \"3.11\" in c:\\users\\jackson\\.pyenv\\pyenv-win\\versions\\3.9.1\\lib\\site-packages (from pytest<8.0.0,>=7.2.0->cipher-jer2240) (1.0.0)\n",
      "Requirement already satisfied: packaging in c:\\users\\jackson\\appdata\\roaming\\python\\python39\\site-packages (from pytest<8.0.0,>=7.2.0->cipher-jer2240) (21.3)\n",
      "Requirement already satisfied: colorama; sys_platform == \"win32\" in c:\\users\\jackson\\appdata\\roaming\\python\\python39\\site-packages (from pytest<8.0.0,>=7.2.0->cipher-jer2240) (0.4.5)\n",
      "Requirement already satisfied: six>=1.5 in c:\\users\\jackson\\appdata\\roaming\\python\\python39\\site-packages (from python-dateutil>=2.8.1->pandas<2.0.0,>=1.5.1->cipher-jer2240) (1.16.0)\n",
      "Requirement already satisfied: pyparsing!=3.0.5,>=2.0.2 in c:\\users\\jackson\\appdata\\roaming\\python\\python39\\site-packages (from packaging->pytest<8.0.0,>=7.2.0->cipher-jer2240) (3.0.9)\n"
     ]
    },
    {
     "name": "stderr",
     "output_type": "stream",
     "text": [
      "WARNING: You are using pip version 20.2.3; however, version 22.3 is available.\n",
      "You should consider upgrading via the 'c:\\users\\jackson\\.pyenv\\pyenv-win\\versions\\3.9.1\\python.exe -m pip install --upgrade pip' command.\n"
     ]
    }
   ],
   "source": [
    "!pip install -i https://test.pypi.org/simple/ cipher-jer2240\n"
   ]
  },
  {
   "cell_type": "markdown",
   "metadata": {},
   "source": [
    "### Importing"
   ]
  },
  {
   "cell_type": "code",
   "execution_count": 11,
   "metadata": {},
   "outputs": [],
   "source": [
    "from cipher_jer2240 import cipherpkg\n"
   ]
  },
  {
   "cell_type": "markdown",
   "metadata": {},
   "source": [
    "### Running the Package"
   ]
  },
  {
   "cell_type": "code",
   "execution_count": 12,
   "metadata": {},
   "outputs": [
    {
     "data": {
      "text/plain": [
       "'Hutq'"
      ]
     },
     "execution_count": 12,
     "metadata": {},
     "output_type": "execute_result"
    }
   ],
   "source": [
    "cipherpkg.cipher('Bonk', 6, encrypt=True)"
   ]
  },
  {
   "cell_type": "code",
   "execution_count": 13,
   "metadata": {},
   "outputs": [
    {
     "data": {
      "text/plain": [
       "'Bonk'"
      ]
     },
     "execution_count": 13,
     "metadata": {},
     "output_type": "execute_result"
    }
   ],
   "source": [
    "cipherpkg.cipher('Hutq', 6, encrypt=False)"
   ]
  },
  {
   "cell_type": "markdown",
   "metadata": {},
   "source": [
    "### Help Files"
   ]
  },
  {
   "cell_type": "code",
   "execution_count": 14,
   "metadata": {},
   "outputs": [
    {
     "name": "stdout",
     "output_type": "stream",
     "text": [
      "Help on module cipher_jer2240.cipherpkg in cipher_jer2240:\n",
      "\n",
      "NAME\n",
      "    cipher_jer2240.cipherpkg\n",
      "\n",
      "FUNCTIONS\n",
      "    cipher(text, shift, encrypt=True)\n",
      "        Encrypts or decrypts a Caeser cipher.\n",
      "        \n",
      "        Parameters\n",
      "        ---\n",
      "        text: string\n",
      "            Input string to be either encrypted or decrypted. \n",
      "        shift: integer\n",
      "            Integer value indicating the alphabet shift for the replacement. Can be positive for negative.\n",
      "        encrypt: bool\n",
      "            Boolean value determining whether the function encrypts or decrypts 'text'. Defaults to 'True', use false to decrypt. \n",
      "        \n",
      "        Returns\n",
      "        ---\n",
      "        string\n",
      "            The encrypted or decrypted 'text'.\n",
      "        \n",
      "        Examples\n",
      "        ---\n",
      "        Encryption:\n",
      "        \n",
      "        >>> from cipher_jer2240 import cipherpkg\n",
      "        >>> cipherpkg.cipher('text', 5, encrypt = True)\n",
      "        'yjCy'\n",
      "        \n",
      "        Decryption:\n",
      "        >>> from cipher_jer2240 import cipherpkg\n",
      "        >>> cipherpkg.cipher('yjCy', 5, encrypt = False)\n",
      "        'text'\n",
      "\n",
      "FILE\n",
      "    c:\\users\\jackson\\.pyenv\\pyenv-win\\versions\\3.9.1\\lib\\site-packages\\cipher_jer2240\\cipherpkg.py\n",
      "\n",
      "\n"
     ]
    }
   ],
   "source": [
    "help(cipherpkg)"
   ]
  },
  {
   "cell_type": "code",
   "execution_count": 15,
   "metadata": {},
   "outputs": [
    {
     "name": "stdout",
     "output_type": "stream",
     "text": [
      "Help on function cipher in module cipher_jer2240.cipherpkg:\n",
      "\n",
      "cipher(text, shift, encrypt=True)\n",
      "    Encrypts or decrypts a Caeser cipher.\n",
      "    \n",
      "    Parameters\n",
      "    ---\n",
      "    text: string\n",
      "        Input string to be either encrypted or decrypted. \n",
      "    shift: integer\n",
      "        Integer value indicating the alphabet shift for the replacement. Can be positive for negative.\n",
      "    encrypt: bool\n",
      "        Boolean value determining whether the function encrypts or decrypts 'text'. Defaults to 'True', use false to decrypt. \n",
      "    \n",
      "    Returns\n",
      "    ---\n",
      "    string\n",
      "        The encrypted or decrypted 'text'.\n",
      "    \n",
      "    Examples\n",
      "    ---\n",
      "    Encryption:\n",
      "    \n",
      "    >>> from cipher_jer2240 import cipherpkg\n",
      "    >>> cipherpkg.cipher('text', 5, encrypt = True)\n",
      "    'yjCy'\n",
      "    \n",
      "    Decryption:\n",
      "    >>> from cipher_jer2240 import cipherpkg\n",
      "    >>> cipherpkg.cipher('yjCy', 5, encrypt = False)\n",
      "    'text'\n",
      "\n"
     ]
    }
   ],
   "source": [
    "help(cipherpkg.cipher)"
   ]
  }
 ],
 "metadata": {
  "kernelspec": {
   "display_name": "Python 3.9.1 64-bit ('3.9.1')",
   "language": "python",
   "name": "python3"
  },
  "language_info": {
   "codemirror_mode": {
    "name": "ipython",
    "version": 3
   },
   "file_extension": ".py",
   "mimetype": "text/x-python",
   "name": "python",
   "nbconvert_exporter": "python",
   "pygments_lexer": "ipython3",
   "version": "3.9.1"
  },
  "orig_nbformat": 4,
  "vscode": {
   "interpreter": {
    "hash": "df3f9ace5f9d3e6d9fbf00729c359187738d99e91533dbefa9173227466def17"
   }
  }
 },
 "nbformat": 4,
 "nbformat_minor": 2
}
